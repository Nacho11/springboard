{
 "cells": [
  {
   "cell_type": "markdown",
   "metadata": {},
   "source": [
    "# Mini Project: Tree-Based Algorithms"
   ]
  },
  {
   "cell_type": "markdown",
   "metadata": {},
   "source": [
    "## The \"German Credit\" Dataset"
   ]
  },
  {
   "cell_type": "markdown",
   "metadata": {},
   "source": [
    "### Dataset Details"
   ]
  },
  {
   "cell_type": "markdown",
   "metadata": {},
   "source": [
    "This dataset has two classes (these would be considered labels in Machine Learning terms) to describe the worthiness of a personal loan: \"Good\" or \"Bad\". There are predictors related to attributes, such as: checking account status, duration, credit history, purpose of the loan, amount of the loan, savings accounts or bonds, employment duration, installment rate in percentage of disposable income, personal information, other debtors/guarantors, residence duration, property, age, other installment plans, housing, number of existing credits, job information, number of people being liable to provide maintenance for, telephone, and foreign worker status.\n",
    "\n",
    "Many of these predictors are discrete and have been expanded into several 0/1 indicator variables (a.k.a. they have been one-hot-encoded).\n",
    "\n",
    "This dataset has been kindly provided by Professor Dr. Hans Hofmann of the University of Hamburg, and can also be found on the UCI Machine Learning Repository."
   ]
  },
  {
   "cell_type": "markdown",
   "metadata": {},
   "source": [
    "\n",
    "\n",
    "\n"
   ]
  },
  {
   "cell_type": "markdown",
   "metadata": {},
   "source": [
    "## Decision Trees"
   ]
  },
  {
   "cell_type": "markdown",
   "metadata": {},
   "source": [
    " As we have learned in the previous lectures, Decision Trees as a family of algorithms (irrespective to the particular implementation) are powerful algorithms that can produce models with a predictive accuracy higher than that produced by linear models, such as Linear or Logistic Regression. Primarily, this is due to the fact the DT's can model nonlinear relationships, and also have a number of tuning paramters, that allow for the practicioner to achieve the best possible model. An added bonus is the ability to visualize the trained Decision Tree model, which allows for some insight into how the model has produced the predictions that it has. One caveat here, to keep in mind, is that sometimes, due to the size of the dataset (both in the sense of the number of records, as well as the number of features), the visualization might prove to be very large and complex, increasing the difficulty of interpretation."
   ]
  },
  {
   "cell_type": "markdown",
   "metadata": {},
   "source": [
    "To give you a very good example of how Decision Trees can be visualized and interpreted, we would strongly recommend that, before continuing on with solving the problems in this Mini Project, you take the time to read this fanstastic, detailed and informative blog post: http://explained.ai/decision-tree-viz/index.html"
   ]
  },
  {
   "cell_type": "markdown",
   "metadata": {},
   "source": [
    "## Building Your First Decision Tree Model"
   ]
  },
  {
   "cell_type": "markdown",
   "metadata": {},
   "source": [
    "So, now it's time to jump straight into the heart of the matter. Your first task, is to build a Decision Tree model, using the aforementioned \"German Credit\" dataset, which contains 1,000 records, and 62 columns (one of them presents the labels, and the other 61 present the potential features for the model.)"
   ]
  },
  {
   "cell_type": "markdown",
   "metadata": {},
   "source": [
    "For this task, you will be using the scikit-learn library, which comes already pre-installed with the Anaconda Python distribution. In case you're not using that, you can easily install it using pip."
   ]
  },
  {
   "cell_type": "markdown",
   "metadata": {},
   "source": [
    "Before embarking on creating your first model, we would strongly encourage you to read the short tutorial for Decision Trees in scikit-learn (http://scikit-learn.org/stable/modules/tree.html), and then dive a bit deeper into the documentation of the algorithm itself (http://scikit-learn.org/stable/modules/generated/sklearn.tree.DecisionTreeClassifier.html). "
   ]
  },
  {
   "cell_type": "markdown",
   "metadata": {},
   "source": [
    "Also, since you want to be able to present the results of your model, we suggest you take a look at the tutorial for accuracy metrics for classification models (http://scikit-learn.org/stable/modules/model_evaluation.html#classification-report) as well as the more detailed documentation (http://scikit-learn.org/stable/modules/generated/sklearn.metrics.classification_report.html).\n",
    "\n",
    "Finally, an *amazing* resource that explains the various classification model accuracy metrics, as well as the relationships between them, can be found on Wikipedia: https://en.wikipedia.org/wiki/Confusion_matrix"
   ]
  },
  {
   "cell_type": "markdown",
   "metadata": {},
   "source": [
    "(Note: as you've already learned in the Logistic Regression mini project, a standard practice in Machine Learning for achieving the best possible result when training a model is to use hyperparameter tuning, through Grid Search and k-fold Cross Validation. We strongly encourage you to use it here as well, not just because it's standard practice, but also becuase it's not going to be computationally to intensive, due to the size of the dataset that you're working with. Our suggestion here is that you split the data into 70% training, and 30% testing. Then, do the hyperparameter tuning and Cross Validation on the training set, and afterwards to a final test on the testing set.)"
   ]
  },
  {
   "cell_type": "markdown",
   "metadata": {},
   "source": [
    "### Now we pass the torch onto you! You can start building your first Decision Tree model! :)"
   ]
  },
  {
   "cell_type": "code",
   "execution_count": 1,
   "metadata": {},
   "outputs": [],
   "source": [
    "import pandas as pd\n",
    "from sklearn.tree import DecisionTreeClassifier\n",
    "from sklearn.metrics import classification_report\n",
    "from sklearn.model_selection import train_test_split\n",
    "from sklearn.model_selection import GridSearchCV\n",
    "from sklearn.metrics import accuracy_score"
   ]
  },
  {
   "cell_type": "code",
   "execution_count": 2,
   "metadata": {},
   "outputs": [
    {
     "data": {
      "text/plain": [
       "DecisionTreeClassifier(ccp_alpha=0.0, class_weight=None, criterion='gini',\n",
       "                       max_depth=None, max_features=None, max_leaf_nodes=None,\n",
       "                       min_impurity_decrease=0.0, min_impurity_split=None,\n",
       "                       min_samples_leaf=1, min_samples_split=2,\n",
       "                       min_weight_fraction_leaf=0.0, presort='deprecated',\n",
       "                       random_state=None, splitter='best')"
      ]
     },
     "execution_count": 2,
     "metadata": {},
     "output_type": "execute_result"
    }
   ],
   "source": [
    "dataset = pd.read_csv('GermanCredit.csv')\n",
    "class_label = dataset['Class'].apply(lambda x: 0 if x == 'Bad' else 1)\n",
    "data = dataset.drop('Class', axis = 1)\n",
    "train_X, test_X, train_Y, test_Y = train_test_split(data, class_label, test_size=0.3, random_state=10)\n",
    "clf = DecisionTreeClassifier()\n",
    "clf.fit(train_X, train_Y)"
   ]
  },
  {
   "cell_type": "code",
   "execution_count": 3,
   "metadata": {},
   "outputs": [
    {
     "data": {
      "text/plain": [
       "'\\nparam_dict = {\"criterion\": [\\'gini\\', \\'entropy\\'],\\n             \"max_depth\": [3, 5, 10],\\n             \"min_samples_leaf\": [1, 3, 5],\\n             }\\n\\ngrid = GridSearchCV(clf, param_grid=param_dict, cv=10, verbose=1, n_jobs=-1)\\ngrid.fit(train_X, train_Y)\\n'"
      ]
     },
     "execution_count": 3,
     "metadata": {},
     "output_type": "execute_result"
    }
   ],
   "source": [
    "'''\n",
    "param_dict = {\"criterion\": ['gini', 'entropy'],\n",
    "             \"max_depth\": [3, 5, 10],\n",
    "             \"min_samples_leaf\": [1, 3, 5],\n",
    "             }\n",
    "\n",
    "grid = GridSearchCV(clf, param_grid=param_dict, cv=10, verbose=1, n_jobs=-1)\n",
    "grid.fit(train_X, train_Y)\n",
    "'''"
   ]
  },
  {
   "cell_type": "code",
   "execution_count": null,
   "metadata": {},
   "outputs": [],
   "source": [
    "grid.best_params_"
   ]
  },
  {
   "cell_type": "code",
   "execution_count": 3,
   "metadata": {},
   "outputs": [
    {
     "data": {
      "text/plain": [
       "0.7133333333333334"
      ]
     },
     "execution_count": 3,
     "metadata": {},
     "output_type": "execute_result"
    }
   ],
   "source": [
    "predictions = clf.predict(test_X)\n",
    "accuracy_score(test_Y, predictions)"
   ]
  },
  {
   "cell_type": "markdown",
   "metadata": {},
   "source": [
    "### After you've built the best model you can, now it's time to visualize it!"
   ]
  },
  {
   "cell_type": "markdown",
   "metadata": {},
   "source": [
    "Rememeber that amazing blog post from a few paragraphs ago, that demonstrated how to visualize and interpret the results of your Decision Tree model. We've seen that this can perform very well, but let's see how it does on the \"German Credit\" dataset that we're working on, due to it being a bit larger than the one used by the blog authors."
   ]
  },
  {
   "cell_type": "markdown",
   "metadata": {},
   "source": [
    "First, we're going to need to install their package. If you're using Anaconda, this can be done easily by running:"
   ]
  },
  {
   "cell_type": "code",
   "execution_count": null,
   "metadata": {},
   "outputs": [],
   "source": [
    "! pip install dtreeviz"
   ]
  },
  {
   "cell_type": "markdown",
   "metadata": {},
   "source": [
    "If for any reason this way of installing doesn't work for you straight out of the box, please refer to the more detailed documentation here: https://github.com/parrt/dtreeviz"
   ]
  },
  {
   "cell_type": "markdown",
   "metadata": {},
   "source": [
    "Now you're ready to visualize your Decision Tree model! Please feel free to use the blog post for guidance and inspiration!"
   ]
  },
  {
   "cell_type": "code",
   "execution_count": 4,
   "metadata": {},
   "outputs": [
    {
     "name": "stderr",
     "output_type": "stream",
     "text": [
      "findfont: Font family ['Arial'] not found. Falling back to DejaVu Sans.\n",
      "findfont: Font family ['Arial'] not found. Falling back to DejaVu Sans.\n",
      "findfont: Font family ['Arial'] not found. Falling back to DejaVu Sans.\n"
     ]
    }
   ],
   "source": [
    "from dtreeviz.trees import *\n",
    "viz = dtreeviz(clf, train_X, train_Y, target_name='Class', feature_names=data.columns, class_names = ['Bad', 'Good'])\n",
    "viz.save(\"tree.svg\")\n",
    "#viz.view()             # pop up window to display image"
   ]
  },
  {
   "cell_type": "code",
   "execution_count": null,
   "metadata": {},
   "outputs": [],
   "source": []
  },
  {
   "cell_type": "markdown",
   "metadata": {},
   "source": [
    "## Random Forests"
   ]
  },
  {
   "cell_type": "markdown",
   "metadata": {},
   "source": [
    "As discussed in the lecture videos, Decision Tree algorithms also have certain undesireable properties. Mainly the have low bias, which is good, but tend to have high variance - which is *not* so good (more about this problem here: https://en.wikipedia.org/wiki/Bias%E2%80%93variance_tradeoff)."
   ]
  },
  {
   "cell_type": "markdown",
   "metadata": {},
   "source": [
    "Noticing these problems, the late Professor Leo Breiman, in 2001, developed the Random Forests algorithm, which mitigates these problems, while at the same time providing even higher predictive accuracy than the majority of Decision Tree algorithm implementations. While the curriculum contains two excellent lectures on Random Forests, if you're interested, you can dive into the original paper here: https://link.springer.com/content/pdf/10.1023%2FA%3A1010933404324.pdf."
   ]
  },
  {
   "cell_type": "markdown",
   "metadata": {},
   "source": [
    "In the next part of this assignment, your are going to use the same \"German Credit\" dataset to train, tune, and measure the performance of a Random Forests model. You will also see certain functionalities that this model, even though it's a bit of a \"black box\", provides for some degree of interpretability."
   ]
  },
  {
   "cell_type": "markdown",
   "metadata": {},
   "source": [
    "First, let's build a Random Forests model, using the same best practices that you've used for your Decision Trees model. You can reuse the things you've already imported there, so no need to do any re-imports, new train/test splits, or loading up the data again."
   ]
  },
  {
   "cell_type": "code",
   "execution_count": 5,
   "metadata": {},
   "outputs": [],
   "source": [
    "from sklearn.ensemble import RandomForestClassifier"
   ]
  },
  {
   "cell_type": "code",
   "execution_count": 8,
   "metadata": {},
   "outputs": [
    {
     "data": {
      "text/plain": [
       "RandomForestClassifier(bootstrap=True, ccp_alpha=0.0, class_weight=None,\n",
       "                       criterion='gini', max_depth=2, max_features='auto',\n",
       "                       max_leaf_nodes=None, max_samples=None,\n",
       "                       min_impurity_decrease=0.0, min_impurity_split=None,\n",
       "                       min_samples_leaf=1, min_samples_split=2,\n",
       "                       min_weight_fraction_leaf=0.0, n_estimators=100,\n",
       "                       n_jobs=None, oob_score=False, random_state=0, verbose=0,\n",
       "                       warm_start=False)"
      ]
     },
     "execution_count": 8,
     "metadata": {},
     "output_type": "execute_result"
    }
   ],
   "source": [
    "clf = RandomForestClassifier(max_depth=10, random_state=0)\n",
    "clf.fit(train_X, train_Y)"
   ]
  },
  {
   "cell_type": "code",
   "execution_count": 9,
   "metadata": {},
   "outputs": [
    {
     "name": "stdout",
     "output_type": "stream",
     "text": [
      "Fitting 10 folds for each of 18 candidates, totalling 180 fits\n"
     ]
    },
    {
     "name": "stderr",
     "output_type": "stream",
     "text": [
      "[Parallel(n_jobs=-1)]: Using backend LokyBackend with 2 concurrent workers.\n",
      "[Parallel(n_jobs=-1)]: Done  46 tasks      | elapsed:    6.6s\n",
      "[Parallel(n_jobs=-1)]: Done 180 out of 180 | elapsed:   23.7s finished\n"
     ]
    },
    {
     "data": {
      "text/plain": [
       "GridSearchCV(cv=10, error_score=nan,\n",
       "             estimator=RandomForestClassifier(bootstrap=True, ccp_alpha=0.0,\n",
       "                                              class_weight=None,\n",
       "                                              criterion='gini', max_depth=2,\n",
       "                                              max_features='auto',\n",
       "                                              max_leaf_nodes=None,\n",
       "                                              max_samples=None,\n",
       "                                              min_impurity_decrease=0.0,\n",
       "                                              min_impurity_split=None,\n",
       "                                              min_samples_leaf=1,\n",
       "                                              min_samples_split=2,\n",
       "                                              min_weight_fraction_leaf=0.0,\n",
       "                                              n_estimators=100, n_jobs=None,\n",
       "                                              oob_score=False, random_state=0,\n",
       "                                              verbose=0, warm_start=False),\n",
       "             iid='deprecated', n_jobs=-1,\n",
       "             param_grid={'criterion': ['gini', 'entropy'],\n",
       "                         'max_depth': [3, 5, 10],\n",
       "                         'min_samples_leaf': [1, 3, 5]},\n",
       "             pre_dispatch='2*n_jobs', refit=True, return_train_score=False,\n",
       "             scoring=None, verbose=1)"
      ]
     },
     "execution_count": 9,
     "metadata": {},
     "output_type": "execute_result"
    }
   ],
   "source": [
    "param_dict = {\"criterion\": ['gini', 'entropy'],\n",
    "             \"max_depth\": [3, 5, 10],\n",
    "             \"min_samples_leaf\": [1, 3, 5],\n",
    "             }\n",
    "\n",
    "grid = GridSearchCV(clf, param_grid=param_dict, cv=10, verbose=1, n_jobs=-1)\n",
    "grid.fit(train_X, train_Y)"
   ]
  },
  {
   "cell_type": "code",
   "execution_count": 10,
   "metadata": {},
   "outputs": [
    {
     "data": {
      "text/plain": [
       "{'criterion': 'gini', 'max_depth': 10, 'min_samples_leaf': 5}"
      ]
     },
     "execution_count": 10,
     "metadata": {},
     "output_type": "execute_result"
    }
   ],
   "source": [
    "grid.best_params_"
   ]
  },
  {
   "cell_type": "code",
   "execution_count": 11,
   "metadata": {},
   "outputs": [
    {
     "data": {
      "text/plain": [
       "0.7433333333333333"
      ]
     },
     "execution_count": 11,
     "metadata": {},
     "output_type": "execute_result"
    }
   ],
   "source": [
    "predictions = grid.predict(test_X)\n",
    "accuracy_score(test_Y, predictions)"
   ]
  },
  {
   "cell_type": "markdown",
   "metadata": {},
   "source": [
    "As mentioned, there are certain ways to \"peek\" into a model created by the Random Forests algorithm. The first, and most popular one, is the Feature Importance calculation functionality. This allows the ML practitioner to see an ordering of the importance of the features that have contributed the most to the predictive accuracy of the model. \n",
    "\n",
    "You can see how to use this in the scikit-learn documentation (http://scikit-learn.org/stable/modules/generated/sklearn.ensemble.RandomForestClassifier.html#sklearn.ensemble.RandomForestClassifier.feature_importances_). Now, if you tried this, you would just get an ordered table of not directly interpretable numeric values. Thus, it's much more useful to show the feature importance in a visual way. You can see an example of how that's done here: http://scikit-learn.org/stable/auto_examples/ensemble/plot_forest_importances.html#sphx-glr-auto-examples-ensemble-plot-forest-importances-py\n",
    "\n",
    "Now you try! Let's visualize the importance of features from your Random Forests model!"
   ]
  },
  {
   "cell_type": "code",
   "execution_count": 20,
   "metadata": {},
   "outputs": [
    {
     "data": {
      "image/png": "[encoded data removed]",
      "text/plain": [
       "<Figure size 1080x576 with 1 Axes>"
      ]
     },
     "metadata": {
      "needs_background": "light"
     },
     "output_type": "display_data"
    }
   ],
   "source": [
    "import matplotlib.pyplot as plt\n",
    "\n",
    "importances = grid.best_estimator_.feature_importances_\n",
    "indices = np.argsort(importances)[::-1]\n",
    "plt.figure(figsize=(15,8))\n",
    "plt.title(\"Feature importances\")\n",
    "plt.bar(range(train_X.shape[1]), importances[indices],\n",
    "        color=\"r\", align=\"center\")\n",
    "plt.xticks(range(train_X.shape[1]), indices)\n",
    "plt.xlim([-1, train_X.shape[1]])\n",
    "plt.show()"
   ]
  },
  {
   "cell_type": "markdown",
   "metadata": {},
   "source": [
    "A final method for gaining some insight into the inner working of your Random Forests models is a so-called Partial Dependence Plot. The Partial Dependence Plot (PDP or PD plot) shows the marginal effect of a feature on the predicted outcome of a previously fit model. The prediction function is fixed at a few values of the chosen features and averaged over the other features. A partial dependence plot can show if the relationship between the target and a feature is linear, monotonic or more complex. \n",
    "\n",
    "In scikit-learn, PDPs are implemented and available for certain algorithms, but at this point (version 0.20.0) they are not yet implemented for Random Forests. Thankfully, there is an add-on package called **PDPbox** (https://pdpbox.readthedocs.io/en/latest/) which adds this functionality to Random Forests. The package is easy to install through pip."
   ]
  },
  {
   "cell_type": "code",
   "execution_count": 22,
   "metadata": {},
   "outputs": [
    {
     "name": "stdout",
     "output_type": "stream",
     "text": [
      "Collecting pdpbox\n",
      "  Downloading PDPbox-0.2.0.tar.gz (57.7 MB)\n",
      "\u001b[K     |████████████████████████████████| 57.7 MB 53 kB/s s eta 0:00:01     |███████████████▌                | 28.0 MB 14.5 MB/s eta 0:00:03     |█████████████████▏              | 31.0 MB 14.5 MB/s eta 0:00:02     |██████████████████▊             | 33.8 MB 12.0 MB/s eta 0:00:02     |████████████████████▋           | 37.1 MB 12.0 MB/s eta 0:00:02     |██████████████████████          | 39.7 MB 12.0 MB/s eta 0:00:02     |████████████████████████▋       | 44.5 MB 12.0 MB/s eta 0:00:02\n",
      "\u001b[?25hRequirement already satisfied: pandas in /opt/conda/envs/springboard/lib/python3.7/site-packages (from pdpbox) (1.0.1)\n",
      "Requirement already satisfied: numpy in /opt/conda/envs/springboard/lib/python3.7/site-packages (from pdpbox) (1.18.1)\n",
      "Requirement already satisfied: scipy in /opt/conda/envs/springboard/lib/python3.7/site-packages (from pdpbox) (1.4.1)\n",
      "Requirement already satisfied: matplotlib>=2.1.2 in /opt/conda/envs/springboard/lib/python3.7/site-packages (from pdpbox) (3.1.3)\n",
      "Requirement already satisfied: joblib in /opt/conda/envs/springboard/lib/python3.7/site-packages (from pdpbox) (0.14.1)\n",
      "Requirement already satisfied: psutil in /opt/conda/envs/springboard/lib/python3.7/site-packages (from pdpbox) (5.6.7)\n",
      "Requirement already satisfied: scikit-learn in /opt/conda/envs/springboard/lib/python3.7/site-packages (from pdpbox) (0.22.1)\n",
      "Requirement already satisfied: python-dateutil>=2.6.1 in /opt/conda/envs/springboard/lib/python3.7/site-packages (from pandas->pdpbox) (2.8.1)\n",
      "Requirement already satisfied: pytz>=2017.2 in /opt/conda/envs/springboard/lib/python3.7/site-packages (from pandas->pdpbox) (2019.3)\n",
      "Requirement already satisfied: pyparsing!=2.0.4,!=2.1.2,!=2.1.6,>=2.0.1 in /opt/conda/envs/springboard/lib/python3.7/site-packages (from matplotlib>=2.1.2->pdpbox) (2.4.7)\n",
      "Requirement already satisfied: cycler>=0.10 in /opt/conda/envs/springboard/lib/python3.7/site-packages (from matplotlib>=2.1.2->pdpbox) (0.10.0)\n",
      "Requirement already satisfied: kiwisolver>=1.0.1 in /opt/conda/envs/springboard/lib/python3.7/site-packages (from matplotlib>=2.1.2->pdpbox) (1.1.0)\n",
      "Requirement already satisfied: six>=1.5 in /opt/conda/envs/springboard/lib/python3.7/site-packages (from python-dateutil>=2.6.1->pandas->pdpbox) (1.14.0)\n",
      "Requirement already satisfied: setuptools in /opt/conda/envs/springboard/lib/python3.7/site-packages (from kiwisolver>=1.0.1->matplotlib>=2.1.2->pdpbox) (46.1.3.post20200325)\n",
      "Building wheels for collected packages: pdpbox\n",
      "  Building wheel for pdpbox (setup.py) ... \u001b[?25ldone\n",
      "\u001b[?25h  Created wheel for pdpbox: filename=PDPbox-0.2.0-py3-none-any.whl size=57690722 sha256=41816befc43e1a875893cbe493e00dc0723ec14fbbca06d33262df1d05d59f6a\n",
      "  Stored in directory: /root/.cache/pip/wheels/68/fe/64/20ca2c417f503c2d1e24f40b3eba7aba9cc3e6e681fadf7de1\n",
      "Successfully built pdpbox\n",
      "Installing collected packages: pdpbox\n",
      "Successfully installed pdpbox-0.2.0\n"
     ]
    }
   ],
   "source": [
    "! pip install pdpbox"
   ]
  },
  {
   "cell_type": "markdown",
   "metadata": {},
   "source": [
    "While we encourage you to read the documentation for the package (and reading package documentation in general is a good habit to develop), the authors of the package have also written an excellent blog post on how to use it, showing examples on different algorithms from scikit-learn (the Random Forests example is towards the end of the blog post): https://briangriner.github.io/Partial_Dependence_Plots_presentation-BrianGriner-PrincetonPublicLibrary-4.14.18-updated-4.22.18.html"
   ]
  },
  {
   "cell_type": "markdown",
   "metadata": {},
   "source": [
    "So, armed with this new knowledge, feel free to pick a few features, and make a couple of Partial Dependence Plots of your own!"
   ]
  },
  {
   "cell_type": "code",
   "execution_count": 37,
   "metadata": {},
   "outputs": [
    {
     "name": "stderr",
     "output_type": "stream",
     "text": [
      "findfont: Font family ['Arial'] not found. Falling back to DejaVu Sans.\n"
     ]
    },
    {
     "data": {
      "image/png": "[encoded data removed]",
      "text/plain": [
       "<Figure size 756x900 with 5 Axes>"
      ]
     },
     "metadata": {
      "needs_background": "light"
     },
     "output_type": "display_data"
    }
   ],
   "source": [
    "import pdpbox\n",
    "from pdpbox import pdp\n",
    "\n",
    "pdp_plot = pdp.pdp_interact(grid.best_estimator_, data, data.columns, ['CheckingAccountStatus.none', 'Amount'])\n",
    "fig, axes = pdp.pdp_interact_plot(pdp_interact_out=pdp_plot,\n",
    "                                  feature_names=['CheckingAccountStatus.none', 'Amount'],\n",
    "                                  plot_type='grid',\n",
    "                                  x_quantile=True,\n",
    "                                  plot_pdp=True)"
   ]
  },
  {
   "cell_type": "markdown",
   "metadata": {},
   "source": [
    "## (Optional) Advanced Boosting-Based Algorithms"
   ]
  },
  {
   "cell_type": "markdown",
   "metadata": {},
   "source": [
    "As explained in the video lectures, the next generation of algorithms after Random Forests (that use Bagging, a.k.a. Bootstrap Aggregation) were developed using Boosting, and the first one of these were Gradient Boosted Machines, which are implemented in scikit-learn (http://scikit-learn.org/stable/modules/ensemble.html#gradient-tree-boosting)."
   ]
  },
  {
   "cell_type": "markdown",
   "metadata": {},
   "source": [
    "Still, in recent years, a number of variations on GBMs have been developed by different research amd industry groups, all of them bringing improvements, both in speed, accuracy and functionality to the original Gradient Boosting algorithms.\n",
    "\n",
    "In no order of preference, these are:\n",
    "1. **XGBoost**: https://xgboost.readthedocs.io/en/latest/\n",
    "2. **CatBoost**: https://tech.yandex.com/catboost/\n",
    "3. **LightGBM**: https://lightgbm.readthedocs.io/en/latest/"
   ]
  },
  {
   "cell_type": "markdown",
   "metadata": {},
   "source": [
    "If you're using the Anaconda distribution, these are all very easy to install:"
   ]
  },
  {
   "cell_type": "code",
   "execution_count": 39,
   "metadata": {},
   "outputs": [
    {
     "name": "stdout",
     "output_type": "stream",
     "text": [
      "Collecting package metadata (current_repodata.json): done\n",
      "Solving environment: failed with initial frozen solve. Retrying with flexible solve.\n",
      "Collecting package metadata (repodata.json): done\n",
      "Solving environment: failed with initial frozen solve. Retrying with flexible solve.\n",
      "\n",
      "PackagesNotFoundError: The following packages are not available from current channels:\n",
      "\n",
      "  - y\n",
      "\n",
      "Current channels:\n",
      "\n",
      "  - https://conda.anaconda.org/anaconda/linux-64\n",
      "  - https://conda.anaconda.org/anaconda/noarch\n",
      "  - https://repo.anaconda.com/pkgs/main/linux-64\n",
      "  - https://repo.anaconda.com/pkgs/main/noarch\n",
      "  - https://repo.anaconda.com/pkgs/r/linux-64\n",
      "  - https://repo.anaconda.com/pkgs/r/noarch\n",
      "\n",
      "To search for alternate channels that may provide the conda package you're\n",
      "looking for, navigate to\n",
      "\n",
      "    https://anaconda.org\n",
      "\n",
      "and use the search bar at the top of the page.\n",
      "\n",
      "\n"
     ]
    }
   ],
   "source": [
    "! conda install -c anaconda py-xgboost"
   ]
  },
  {
   "cell_type": "code",
   "execution_count": null,
   "metadata": {},
   "outputs": [],
   "source": [
    "! conda install -c conda-forge catboost"
   ]
  },
  {
   "cell_type": "code",
   "execution_count": null,
   "metadata": {},
   "outputs": [],
   "source": [
    "! conda install -c conda-forge lightgbm"
   ]
  },
  {
   "cell_type": "markdown",
   "metadata": {},
   "source": [
    "Your task in this optional section of the mini project is to read the documentation of these three libraries, and apply all of them to the \"German Credit\" dataset, just like you did in the case of Decision Trees and Random Forests."
   ]
  },
  {
   "cell_type": "markdown",
   "metadata": {},
   "source": [
    "The final deliverable of this section should be a table (can be a pandas DataFrame) which shows the accuracy of all the five algorthms taught in this mini project in one place."
   ]
  },
  {
   "cell_type": "markdown",
   "metadata": {},
   "source": [
    "Happy modeling! :)"
   ]
  },
  {
   "cell_type": "code",
   "execution_count": 41,
   "metadata": {},
   "outputs": [
    {
     "name": "stdout",
     "output_type": "stream",
     "text": [
      "[20:26:30] WARNING: ../src/learner.cc:1061: Starting in XGBoost 1.3.0, the default evaluation metric used with the objective 'binary:logistic' was changed from 'error' to 'logloss'. Explicitly set eval_metric if you'd like to restore the old behavior.\n"
     ]
    },
    {
     "data": {
      "text/plain": [
       "0.7266666666666667"
      ]
     },
     "execution_count": 41,
     "metadata": {},
     "output_type": "execute_result"
    }
   ],
   "source": [
    "from xgboost import XGBClassifier\n",
    "clf = XGBClassifier()\n",
    "clf.fit(train_X, train_Y)\n",
    "predictions = clf.predict(test_X)\n",
    "accuracy_score(test_Y, predictions)"
   ]
  },
  {
   "cell_type": "code",
   "execution_count": 42,
   "metadata": {},
   "outputs": [
    {
     "name": "stdout",
     "output_type": "stream",
     "text": [
      "Learning rate set to 0.008847\n",
      "0:\tlearn: 0.6895304\ttotal: 51.1ms\tremaining: 51s\n",
      "1:\tlearn: 0.6844994\ttotal: 52.9ms\tremaining: 26.4s\n",
      "2:\tlearn: 0.6801829\ttotal: 54.4ms\tremaining: 18.1s\n",
      "3:\tlearn: 0.6778361\ttotal: 55.4ms\tremaining: 13.8s\n",
      "4:\tlearn: 0.6747760\ttotal: 56.9ms\tremaining: 11.3s\n",
      "5:\tlearn: 0.6713184\ttotal: 58.3ms\tremaining: 9.66s\n",
      "6:\tlearn: 0.6674911\ttotal: 60ms\tremaining: 8.52s\n",
      "7:\tlearn: 0.6639553\ttotal: 61.6ms\tremaining: 7.63s\n",
      "8:\tlearn: 0.6600926\ttotal: 63.1ms\tremaining: 6.94s\n",
      "9:\tlearn: 0.6567978\ttotal: 64.5ms\tremaining: 6.39s\n",
      "10:\tlearn: 0.6531250\ttotal: 66ms\tremaining: 5.94s\n",
      "11:\tlearn: 0.6498614\ttotal: 67.6ms\tremaining: 5.57s\n",
      "12:\tlearn: 0.6462200\ttotal: 69.3ms\tremaining: 5.26s\n",
      "13:\tlearn: 0.6429639\ttotal: 70.7ms\tremaining: 4.98s\n",
      "14:\tlearn: 0.6396057\ttotal: 72.4ms\tremaining: 4.75s\n",
      "15:\tlearn: 0.6359947\ttotal: 74.2ms\tremaining: 4.56s\n",
      "16:\tlearn: 0.6325342\ttotal: 76ms\tremaining: 4.39s\n",
      "17:\tlearn: 0.6292820\ttotal: 77.5ms\tremaining: 4.23s\n",
      "18:\tlearn: 0.6259660\ttotal: 79.1ms\tremaining: 4.08s\n",
      "19:\tlearn: 0.6233787\ttotal: 80.7ms\tremaining: 3.95s\n",
      "20:\tlearn: 0.6211285\ttotal: 82.3ms\tremaining: 3.83s\n",
      "21:\tlearn: 0.6191282\ttotal: 83.9ms\tremaining: 3.73s\n",
      "22:\tlearn: 0.6164353\ttotal: 85.5ms\tremaining: 3.63s\n",
      "23:\tlearn: 0.6134964\ttotal: 87.1ms\tremaining: 3.54s\n",
      "24:\tlearn: 0.6104259\ttotal: 88.7ms\tremaining: 3.46s\n",
      "25:\tlearn: 0.6076595\ttotal: 90.1ms\tremaining: 3.38s\n",
      "26:\tlearn: 0.6055807\ttotal: 91.7ms\tremaining: 3.31s\n",
      "27:\tlearn: 0.6027813\ttotal: 93.3ms\tremaining: 3.24s\n",
      "28:\tlearn: 0.6002511\ttotal: 95ms\tremaining: 3.18s\n",
      "29:\tlearn: 0.5972863\ttotal: 96.7ms\tremaining: 3.13s\n",
      "30:\tlearn: 0.5942124\ttotal: 98.6ms\tremaining: 3.08s\n",
      "31:\tlearn: 0.5918868\ttotal: 100ms\tremaining: 3.04s\n",
      "32:\tlearn: 0.5898944\ttotal: 102ms\tremaining: 2.99s\n",
      "33:\tlearn: 0.5878034\ttotal: 104ms\tremaining: 2.94s\n",
      "34:\tlearn: 0.5858539\ttotal: 105ms\tremaining: 2.9s\n",
      "35:\tlearn: 0.5834038\ttotal: 107ms\tremaining: 2.85s\n",
      "36:\tlearn: 0.5804129\ttotal: 108ms\tremaining: 2.82s\n",
      "37:\tlearn: 0.5785057\ttotal: 110ms\tremaining: 2.77s\n",
      "38:\tlearn: 0.5762117\ttotal: 111ms\tremaining: 2.74s\n",
      "39:\tlearn: 0.5747465\ttotal: 113ms\tremaining: 2.71s\n",
      "40:\tlearn: 0.5731979\ttotal: 114ms\tremaining: 2.67s\n",
      "41:\tlearn: 0.5713826\ttotal: 115ms\tremaining: 2.63s\n",
      "42:\tlearn: 0.5696326\ttotal: 117ms\tremaining: 2.6s\n",
      "43:\tlearn: 0.5670504\ttotal: 119ms\tremaining: 2.58s\n",
      "44:\tlearn: 0.5655229\ttotal: 120ms\tremaining: 2.55s\n",
      "45:\tlearn: 0.5632601\ttotal: 122ms\tremaining: 2.53s\n",
      "46:\tlearn: 0.5624207\ttotal: 123ms\tremaining: 2.5s\n",
      "47:\tlearn: 0.5606454\ttotal: 125ms\tremaining: 2.48s\n",
      "48:\tlearn: 0.5590467\ttotal: 127ms\tremaining: 2.46s\n",
      "49:\tlearn: 0.5577517\ttotal: 128ms\tremaining: 2.44s\n",
      "50:\tlearn: 0.5560121\ttotal: 130ms\tremaining: 2.41s\n",
      "51:\tlearn: 0.5539989\ttotal: 131ms\tremaining: 2.39s\n",
      "52:\tlearn: 0.5522349\ttotal: 133ms\tremaining: 2.38s\n",
      "53:\tlearn: 0.5508128\ttotal: 134ms\tremaining: 2.35s\n",
      "54:\tlearn: 0.5483731\ttotal: 136ms\tremaining: 2.34s\n",
      "55:\tlearn: 0.5468249\ttotal: 138ms\tremaining: 2.32s\n",
      "56:\tlearn: 0.5450516\ttotal: 139ms\tremaining: 2.31s\n",
      "57:\tlearn: 0.5431979\ttotal: 141ms\tremaining: 2.29s\n",
      "58:\tlearn: 0.5416094\ttotal: 143ms\tremaining: 2.28s\n",
      "59:\tlearn: 0.5401900\ttotal: 144ms\tremaining: 2.26s\n",
      "60:\tlearn: 0.5385542\ttotal: 146ms\tremaining: 2.24s\n",
      "61:\tlearn: 0.5370258\ttotal: 147ms\tremaining: 2.23s\n",
      "62:\tlearn: 0.5357086\ttotal: 149ms\tremaining: 2.21s\n",
      "63:\tlearn: 0.5335786\ttotal: 150ms\tremaining: 2.2s\n",
      "64:\tlearn: 0.5318271\ttotal: 152ms\tremaining: 2.18s\n",
      "65:\tlearn: 0.5301175\ttotal: 153ms\tremaining: 2.17s\n",
      "66:\tlearn: 0.5285908\ttotal: 155ms\tremaining: 2.15s\n",
      "67:\tlearn: 0.5274519\ttotal: 156ms\tremaining: 2.14s\n",
      "68:\tlearn: 0.5255533\ttotal: 158ms\tremaining: 2.13s\n",
      "69:\tlearn: 0.5240250\ttotal: 159ms\tremaining: 2.11s\n",
      "70:\tlearn: 0.5225816\ttotal: 160ms\tremaining: 2.1s\n",
      "71:\tlearn: 0.5208042\ttotal: 162ms\tremaining: 2.08s\n",
      "72:\tlearn: 0.5193745\ttotal: 163ms\tremaining: 2.07s\n",
      "73:\tlearn: 0.5180365\ttotal: 165ms\tremaining: 2.06s\n",
      "74:\tlearn: 0.5172526\ttotal: 166ms\tremaining: 2.05s\n",
      "75:\tlearn: 0.5150250\ttotal: 168ms\tremaining: 2.04s\n",
      "76:\tlearn: 0.5132166\ttotal: 169ms\tremaining: 2.03s\n",
      "77:\tlearn: 0.5119715\ttotal: 171ms\tremaining: 2.02s\n",
      "78:\tlearn: 0.5103518\ttotal: 172ms\tremaining: 2.01s\n",
      "79:\tlearn: 0.5093551\ttotal: 174ms\tremaining: 2s\n",
      "80:\tlearn: 0.5076485\ttotal: 175ms\tremaining: 1.99s\n",
      "81:\tlearn: 0.5066745\ttotal: 176ms\tremaining: 1.97s\n",
      "82:\tlearn: 0.5051911\ttotal: 178ms\tremaining: 1.96s\n",
      "83:\tlearn: 0.5039999\ttotal: 179ms\tremaining: 1.95s\n",
      "84:\tlearn: 0.5029384\ttotal: 181ms\tremaining: 1.95s\n",
      "85:\tlearn: 0.5019412\ttotal: 182ms\tremaining: 1.94s\n",
      "86:\tlearn: 0.5005545\ttotal: 184ms\tremaining: 1.93s\n",
      "87:\tlearn: 0.4996759\ttotal: 185ms\tremaining: 1.92s\n",
      "88:\tlearn: 0.4984299\ttotal: 187ms\tremaining: 1.91s\n",
      "89:\tlearn: 0.4968565\ttotal: 188ms\tremaining: 1.9s\n",
      "90:\tlearn: 0.4961107\ttotal: 189ms\tremaining: 1.89s\n",
      "91:\tlearn: 0.4952199\ttotal: 191ms\tremaining: 1.88s\n",
      "92:\tlearn: 0.4940399\ttotal: 193ms\tremaining: 1.88s\n",
      "93:\tlearn: 0.4925339\ttotal: 195ms\tremaining: 1.88s\n",
      "94:\tlearn: 0.4917309\ttotal: 196ms\tremaining: 1.87s\n",
      "95:\tlearn: 0.4906766\ttotal: 198ms\tremaining: 1.86s\n",
      "96:\tlearn: 0.4900388\ttotal: 199ms\tremaining: 1.85s\n",
      "97:\tlearn: 0.4889935\ttotal: 200ms\tremaining: 1.84s\n",
      "98:\tlearn: 0.4880692\ttotal: 202ms\tremaining: 1.84s\n",
      "99:\tlearn: 0.4870476\ttotal: 203ms\tremaining: 1.83s\n",
      "100:\tlearn: 0.4861691\ttotal: 205ms\tremaining: 1.82s\n",
      "101:\tlearn: 0.4852734\ttotal: 206ms\tremaining: 1.81s\n",
      "102:\tlearn: 0.4842429\ttotal: 207ms\tremaining: 1.81s\n",
      "103:\tlearn: 0.4832370\ttotal: 209ms\tremaining: 1.8s\n",
      "104:\tlearn: 0.4822661\ttotal: 210ms\tremaining: 1.79s\n",
      "105:\tlearn: 0.4820379\ttotal: 211ms\tremaining: 1.78s\n",
      "106:\tlearn: 0.4812803\ttotal: 212ms\tremaining: 1.77s\n",
      "107:\tlearn: 0.4804539\ttotal: 214ms\tremaining: 1.76s\n",
      "108:\tlearn: 0.4792012\ttotal: 215ms\tremaining: 1.76s\n",
      "109:\tlearn: 0.4784645\ttotal: 217ms\tremaining: 1.75s\n",
      "110:\tlearn: 0.4778668\ttotal: 218ms\tremaining: 1.74s\n",
      "111:\tlearn: 0.4767713\ttotal: 219ms\tremaining: 1.74s\n",
      "112:\tlearn: 0.4756141\ttotal: 220ms\tremaining: 1.73s\n",
      "113:\tlearn: 0.4746468\ttotal: 222ms\tremaining: 1.72s\n",
      "114:\tlearn: 0.4737515\ttotal: 223ms\tremaining: 1.72s\n",
      "115:\tlearn: 0.4726214\ttotal: 225ms\tremaining: 1.71s\n",
      "116:\tlearn: 0.4717615\ttotal: 226ms\tremaining: 1.7s\n",
      "117:\tlearn: 0.4709878\ttotal: 227ms\tremaining: 1.7s\n",
      "118:\tlearn: 0.4699995\ttotal: 229ms\tremaining: 1.69s\n",
      "119:\tlearn: 0.4690747\ttotal: 230ms\tremaining: 1.69s\n",
      "120:\tlearn: 0.4681934\ttotal: 232ms\tremaining: 1.68s\n",
      "121:\tlearn: 0.4675594\ttotal: 233ms\tremaining: 1.68s\n",
      "122:\tlearn: 0.4668540\ttotal: 235ms\tremaining: 1.67s\n",
      "123:\tlearn: 0.4656228\ttotal: 236ms\tremaining: 1.67s\n",
      "124:\tlearn: 0.4642716\ttotal: 237ms\tremaining: 1.66s\n",
      "125:\tlearn: 0.4633507\ttotal: 239ms\tremaining: 1.66s\n",
      "126:\tlearn: 0.4628380\ttotal: 240ms\tremaining: 1.65s\n",
      "127:\tlearn: 0.4616788\ttotal: 241ms\tremaining: 1.64s\n",
      "128:\tlearn: 0.4605628\ttotal: 243ms\tremaining: 1.64s\n",
      "129:\tlearn: 0.4595555\ttotal: 244ms\tremaining: 1.64s\n",
      "130:\tlearn: 0.4588255\ttotal: 246ms\tremaining: 1.63s\n",
      "131:\tlearn: 0.4579850\ttotal: 247ms\tremaining: 1.63s\n",
      "132:\tlearn: 0.4568870\ttotal: 249ms\tremaining: 1.62s\n",
      "133:\tlearn: 0.4560968\ttotal: 250ms\tremaining: 1.62s\n",
      "134:\tlearn: 0.4553851\ttotal: 251ms\tremaining: 1.61s\n",
      "135:\tlearn: 0.4545779\ttotal: 253ms\tremaining: 1.6s\n",
      "136:\tlearn: 0.4534403\ttotal: 254ms\tremaining: 1.6s\n",
      "137:\tlearn: 0.4526420\ttotal: 255ms\tremaining: 1.59s\n",
      "138:\tlearn: 0.4517941\ttotal: 257ms\tremaining: 1.59s\n",
      "139:\tlearn: 0.4510546\ttotal: 258ms\tremaining: 1.58s\n",
      "140:\tlearn: 0.4503353\ttotal: 259ms\tremaining: 1.58s\n",
      "141:\tlearn: 0.4493447\ttotal: 261ms\tremaining: 1.57s\n",
      "142:\tlearn: 0.4483385\ttotal: 262ms\tremaining: 1.57s\n",
      "143:\tlearn: 0.4474216\ttotal: 264ms\tremaining: 1.57s\n",
      "144:\tlearn: 0.4464517\ttotal: 265ms\tremaining: 1.56s\n",
      "145:\tlearn: 0.4455987\ttotal: 266ms\tremaining: 1.56s\n",
      "146:\tlearn: 0.4450355\ttotal: 268ms\tremaining: 1.55s\n",
      "147:\tlearn: 0.4443539\ttotal: 269ms\tremaining: 1.55s\n",
      "148:\tlearn: 0.4435553\ttotal: 271ms\tremaining: 1.55s\n",
      "149:\tlearn: 0.4426546\ttotal: 272ms\tremaining: 1.54s\n",
      "150:\tlearn: 0.4419714\ttotal: 274ms\tremaining: 1.54s\n",
      "151:\tlearn: 0.4412252\ttotal: 275ms\tremaining: 1.53s\n",
      "152:\tlearn: 0.4404329\ttotal: 277ms\tremaining: 1.53s\n",
      "153:\tlearn: 0.4397800\ttotal: 278ms\tremaining: 1.53s\n",
      "154:\tlearn: 0.4392795\ttotal: 279ms\tremaining: 1.52s\n",
      "155:\tlearn: 0.4386676\ttotal: 281ms\tremaining: 1.52s\n",
      "156:\tlearn: 0.4380885\ttotal: 282ms\tremaining: 1.51s\n",
      "157:\tlearn: 0.4374514\ttotal: 284ms\tremaining: 1.51s\n",
      "158:\tlearn: 0.4368713\ttotal: 285ms\tremaining: 1.51s\n",
      "159:\tlearn: 0.4360464\ttotal: 287ms\tremaining: 1.51s\n",
      "160:\tlearn: 0.4351040\ttotal: 289ms\tremaining: 1.5s\n",
      "161:\tlearn: 0.4344607\ttotal: 290ms\tremaining: 1.5s\n",
      "162:\tlearn: 0.4337689\ttotal: 292ms\tremaining: 1.5s\n",
      "163:\tlearn: 0.4330649\ttotal: 293ms\tremaining: 1.49s\n",
      "164:\tlearn: 0.4325050\ttotal: 295ms\tremaining: 1.49s\n",
      "165:\tlearn: 0.4318179\ttotal: 296ms\tremaining: 1.49s\n",
      "166:\tlearn: 0.4312437\ttotal: 298ms\tremaining: 1.49s\n",
      "167:\tlearn: 0.4306712\ttotal: 299ms\tremaining: 1.48s\n",
      "168:\tlearn: 0.4299518\ttotal: 301ms\tremaining: 1.48s\n",
      "169:\tlearn: 0.4292967\ttotal: 302ms\tremaining: 1.47s\n",
      "170:\tlearn: 0.4286274\ttotal: 304ms\tremaining: 1.47s\n",
      "171:\tlearn: 0.4279461\ttotal: 305ms\tremaining: 1.47s\n",
      "172:\tlearn: 0.4272048\ttotal: 307ms\tremaining: 1.47s\n",
      "173:\tlearn: 0.4265524\ttotal: 308ms\tremaining: 1.46s\n",
      "174:\tlearn: 0.4259122\ttotal: 310ms\tremaining: 1.46s\n",
      "175:\tlearn: 0.4254423\ttotal: 311ms\tremaining: 1.46s\n",
      "176:\tlearn: 0.4246043\ttotal: 313ms\tremaining: 1.46s\n",
      "177:\tlearn: 0.4237854\ttotal: 315ms\tremaining: 1.45s\n",
      "178:\tlearn: 0.4229910\ttotal: 316ms\tremaining: 1.45s\n",
      "179:\tlearn: 0.4221189\ttotal: 318ms\tremaining: 1.45s\n",
      "180:\tlearn: 0.4216251\ttotal: 320ms\tremaining: 1.45s\n",
      "181:\tlearn: 0.4207134\ttotal: 321ms\tremaining: 1.44s\n",
      "182:\tlearn: 0.4201216\ttotal: 322ms\tremaining: 1.44s\n",
      "183:\tlearn: 0.4196300\ttotal: 324ms\tremaining: 1.44s\n",
      "184:\tlearn: 0.4191207\ttotal: 325ms\tremaining: 1.43s\n",
      "185:\tlearn: 0.4185863\ttotal: 327ms\tremaining: 1.43s\n",
      "186:\tlearn: 0.4181478\ttotal: 328ms\tremaining: 1.43s\n",
      "187:\tlearn: 0.4176686\ttotal: 330ms\tremaining: 1.43s\n",
      "188:\tlearn: 0.4169061\ttotal: 332ms\tremaining: 1.42s\n",
      "189:\tlearn: 0.4161500\ttotal: 333ms\tremaining: 1.42s\n",
      "190:\tlearn: 0.4157239\ttotal: 335ms\tremaining: 1.42s\n",
      "191:\tlearn: 0.4152298\ttotal: 336ms\tremaining: 1.41s\n",
      "192:\tlearn: 0.4145781\ttotal: 338ms\tremaining: 1.41s\n",
      "193:\tlearn: 0.4139923\ttotal: 339ms\tremaining: 1.41s\n",
      "194:\tlearn: 0.4134281\ttotal: 341ms\tremaining: 1.41s\n",
      "195:\tlearn: 0.4130059\ttotal: 342ms\tremaining: 1.4s\n",
      "196:\tlearn: 0.4123836\ttotal: 344ms\tremaining: 1.4s\n",
      "197:\tlearn: 0.4115913\ttotal: 345ms\tremaining: 1.4s\n",
      "198:\tlearn: 0.4109483\ttotal: 347ms\tremaining: 1.4s\n",
      "199:\tlearn: 0.4106513\ttotal: 348ms\tremaining: 1.39s\n",
      "200:\tlearn: 0.4101393\ttotal: 350ms\tremaining: 1.39s\n",
      "201:\tlearn: 0.4094756\ttotal: 351ms\tremaining: 1.39s\n",
      "202:\tlearn: 0.4088229\ttotal: 353ms\tremaining: 1.38s\n",
      "203:\tlearn: 0.4084347\ttotal: 354ms\tremaining: 1.38s\n",
      "204:\tlearn: 0.4078588\ttotal: 356ms\tremaining: 1.38s\n",
      "205:\tlearn: 0.4071643\ttotal: 359ms\tremaining: 1.38s\n",
      "206:\tlearn: 0.4067565\ttotal: 361ms\tremaining: 1.38s\n",
      "207:\tlearn: 0.4063853\ttotal: 362ms\tremaining: 1.38s\n",
      "208:\tlearn: 0.4058142\ttotal: 364ms\tremaining: 1.38s\n",
      "209:\tlearn: 0.4054071\ttotal: 365ms\tremaining: 1.37s\n",
      "210:\tlearn: 0.4048666\ttotal: 367ms\tremaining: 1.37s\n",
      "211:\tlearn: 0.4041775\ttotal: 368ms\tremaining: 1.37s\n",
      "212:\tlearn: 0.4035076\ttotal: 370ms\tremaining: 1.37s\n",
      "213:\tlearn: 0.4027951\ttotal: 372ms\tremaining: 1.36s\n",
      "214:\tlearn: 0.4020614\ttotal: 373ms\tremaining: 1.36s\n",
      "215:\tlearn: 0.4014694\ttotal: 375ms\tremaining: 1.36s\n",
      "216:\tlearn: 0.4007963\ttotal: 376ms\tremaining: 1.36s\n",
      "217:\tlearn: 0.4002546\ttotal: 378ms\tremaining: 1.35s\n",
      "218:\tlearn: 0.3996599\ttotal: 380ms\tremaining: 1.35s\n",
      "219:\tlearn: 0.3992230\ttotal: 381ms\tremaining: 1.35s\n",
      "220:\tlearn: 0.3986447\ttotal: 382ms\tremaining: 1.35s\n",
      "221:\tlearn: 0.3980537\ttotal: 384ms\tremaining: 1.35s\n",
      "222:\tlearn: 0.3975056\ttotal: 386ms\tremaining: 1.34s\n",
      "223:\tlearn: 0.3969034\ttotal: 388ms\tremaining: 1.34s\n",
      "224:\tlearn: 0.3964687\ttotal: 389ms\tremaining: 1.34s\n",
      "225:\tlearn: 0.3959583\ttotal: 391ms\tremaining: 1.34s\n",
      "226:\tlearn: 0.3955166\ttotal: 392ms\tremaining: 1.34s\n",
      "227:\tlearn: 0.3948157\ttotal: 394ms\tremaining: 1.33s\n",
      "228:\tlearn: 0.3942208\ttotal: 396ms\tremaining: 1.33s\n",
      "229:\tlearn: 0.3936073\ttotal: 397ms\tremaining: 1.33s\n",
      "230:\tlearn: 0.3931008\ttotal: 399ms\tremaining: 1.33s\n",
      "231:\tlearn: 0.3925145\ttotal: 400ms\tremaining: 1.32s\n",
      "232:\tlearn: 0.3920318\ttotal: 402ms\tremaining: 1.32s\n",
      "233:\tlearn: 0.3914847\ttotal: 403ms\tremaining: 1.32s\n",
      "234:\tlearn: 0.3911147\ttotal: 405ms\tremaining: 1.32s\n",
      "235:\tlearn: 0.3904515\ttotal: 406ms\tremaining: 1.31s\n",
      "236:\tlearn: 0.3900655\ttotal: 408ms\tremaining: 1.31s\n",
      "237:\tlearn: 0.3897143\ttotal: 409ms\tremaining: 1.31s\n",
      "238:\tlearn: 0.3892679\ttotal: 411ms\tremaining: 1.31s\n",
      "239:\tlearn: 0.3889988\ttotal: 412ms\tremaining: 1.3s\n",
      "240:\tlearn: 0.3885816\ttotal: 414ms\tremaining: 1.3s\n",
      "241:\tlearn: 0.3878507\ttotal: 415ms\tremaining: 1.3s\n",
      "242:\tlearn: 0.3875025\ttotal: 417ms\tremaining: 1.3s\n",
      "243:\tlearn: 0.3868477\ttotal: 418ms\tremaining: 1.29s\n",
      "244:\tlearn: 0.3861987\ttotal: 420ms\tremaining: 1.29s\n",
      "245:\tlearn: 0.3860485\ttotal: 420ms\tremaining: 1.29s\n",
      "246:\tlearn: 0.3855034\ttotal: 422ms\tremaining: 1.29s\n",
      "247:\tlearn: 0.3851764\ttotal: 423ms\tremaining: 1.28s\n",
      "248:\tlearn: 0.3843793\ttotal: 425ms\tremaining: 1.28s\n",
      "249:\tlearn: 0.3836481\ttotal: 426ms\tremaining: 1.28s\n",
      "250:\tlearn: 0.3831315\ttotal: 428ms\tremaining: 1.28s\n",
      "251:\tlearn: 0.3827983\ttotal: 429ms\tremaining: 1.27s\n",
      "252:\tlearn: 0.3822034\ttotal: 431ms\tremaining: 1.27s\n",
      "253:\tlearn: 0.3818110\ttotal: 432ms\tremaining: 1.27s\n",
      "254:\tlearn: 0.3815411\ttotal: 434ms\tremaining: 1.27s\n",
      "255:\tlearn: 0.3809787\ttotal: 435ms\tremaining: 1.26s\n",
      "256:\tlearn: 0.3805136\ttotal: 437ms\tremaining: 1.26s\n",
      "257:\tlearn: 0.3800396\ttotal: 438ms\tremaining: 1.26s\n",
      "258:\tlearn: 0.3793572\ttotal: 440ms\tremaining: 1.26s\n",
      "259:\tlearn: 0.3789259\ttotal: 441ms\tremaining: 1.25s\n",
      "260:\tlearn: 0.3783044\ttotal: 443ms\tremaining: 1.25s\n",
      "261:\tlearn: 0.3777864\ttotal: 444ms\tremaining: 1.25s\n",
      "262:\tlearn: 0.3773375\ttotal: 446ms\tremaining: 1.25s\n",
      "263:\tlearn: 0.3769372\ttotal: 447ms\tremaining: 1.25s\n",
      "264:\tlearn: 0.3767026\ttotal: 449ms\tremaining: 1.24s\n",
      "265:\tlearn: 0.3761502\ttotal: 450ms\tremaining: 1.24s\n",
      "266:\tlearn: 0.3755172\ttotal: 452ms\tremaining: 1.24s\n",
      "267:\tlearn: 0.3750055\ttotal: 453ms\tremaining: 1.24s\n",
      "268:\tlearn: 0.3746307\ttotal: 455ms\tremaining: 1.24s\n",
      "269:\tlearn: 0.3740014\ttotal: 456ms\tremaining: 1.23s\n",
      "270:\tlearn: 0.3734641\ttotal: 457ms\tremaining: 1.23s\n",
      "271:\tlearn: 0.3729733\ttotal: 459ms\tremaining: 1.23s\n",
      "272:\tlearn: 0.3725067\ttotal: 460ms\tremaining: 1.23s\n",
      "273:\tlearn: 0.3718236\ttotal: 462ms\tremaining: 1.22s\n",
      "274:\tlearn: 0.3714247\ttotal: 463ms\tremaining: 1.22s\n",
      "275:\tlearn: 0.3708785\ttotal: 465ms\tremaining: 1.22s\n",
      "276:\tlearn: 0.3704535\ttotal: 466ms\tremaining: 1.22s\n",
      "277:\tlearn: 0.3700372\ttotal: 468ms\tremaining: 1.21s\n",
      "278:\tlearn: 0.3694460\ttotal: 469ms\tremaining: 1.21s\n",
      "279:\tlearn: 0.3689568\ttotal: 471ms\tremaining: 1.21s\n",
      "280:\tlearn: 0.3685585\ttotal: 472ms\tremaining: 1.21s\n",
      "281:\tlearn: 0.3681574\ttotal: 474ms\tremaining: 1.21s\n",
      "282:\tlearn: 0.3676387\ttotal: 475ms\tremaining: 1.2s\n",
      "283:\tlearn: 0.3670738\ttotal: 477ms\tremaining: 1.2s\n",
      "284:\tlearn: 0.3666755\ttotal: 478ms\tremaining: 1.2s\n",
      "285:\tlearn: 0.3664648\ttotal: 479ms\tremaining: 1.2s\n",
      "286:\tlearn: 0.3660505\ttotal: 481ms\tremaining: 1.19s\n",
      "287:\tlearn: 0.3657283\ttotal: 482ms\tremaining: 1.19s\n",
      "288:\tlearn: 0.3652051\ttotal: 484ms\tremaining: 1.19s\n",
      "289:\tlearn: 0.3646727\ttotal: 485ms\tremaining: 1.19s\n",
      "290:\tlearn: 0.3639262\ttotal: 487ms\tremaining: 1.19s\n",
      "291:\tlearn: 0.3636073\ttotal: 488ms\tremaining: 1.18s\n",
      "292:\tlearn: 0.3632063\ttotal: 489ms\tremaining: 1.18s\n",
      "293:\tlearn: 0.3626968\ttotal: 491ms\tremaining: 1.18s\n",
      "294:\tlearn: 0.3623708\ttotal: 492ms\tremaining: 1.18s\n",
      "295:\tlearn: 0.3620835\ttotal: 494ms\tremaining: 1.17s\n",
      "296:\tlearn: 0.3617482\ttotal: 495ms\tremaining: 1.17s\n",
      "297:\tlearn: 0.3611714\ttotal: 497ms\tremaining: 1.17s\n",
      "298:\tlearn: 0.3607952\ttotal: 499ms\tremaining: 1.17s\n",
      "299:\tlearn: 0.3603611\ttotal: 500ms\tremaining: 1.17s\n",
      "300:\tlearn: 0.3600312\ttotal: 502ms\tremaining: 1.16s\n",
      "301:\tlearn: 0.3596382\ttotal: 503ms\tremaining: 1.16s\n",
      "302:\tlearn: 0.3591254\ttotal: 505ms\tremaining: 1.16s\n",
      "303:\tlearn: 0.3587511\ttotal: 506ms\tremaining: 1.16s\n",
      "304:\tlearn: 0.3584007\ttotal: 508ms\tremaining: 1.16s\n",
      "305:\tlearn: 0.3578898\ttotal: 510ms\tremaining: 1.16s\n",
      "306:\tlearn: 0.3574845\ttotal: 511ms\tremaining: 1.15s\n",
      "307:\tlearn: 0.3570763\ttotal: 513ms\tremaining: 1.15s\n",
      "308:\tlearn: 0.3567153\ttotal: 514ms\tremaining: 1.15s\n",
      "309:\tlearn: 0.3562445\ttotal: 516ms\tremaining: 1.15s\n",
      "310:\tlearn: 0.3556793\ttotal: 518ms\tremaining: 1.15s\n",
      "311:\tlearn: 0.3552765\ttotal: 519ms\tremaining: 1.14s\n",
      "312:\tlearn: 0.3548325\ttotal: 521ms\tremaining: 1.14s\n",
      "313:\tlearn: 0.3546014\ttotal: 522ms\tremaining: 1.14s\n",
      "314:\tlearn: 0.3542302\ttotal: 523ms\tremaining: 1.14s\n",
      "315:\tlearn: 0.3536569\ttotal: 525ms\tremaining: 1.14s\n",
      "316:\tlearn: 0.3533872\ttotal: 526ms\tremaining: 1.13s\n",
      "317:\tlearn: 0.3530572\ttotal: 528ms\tremaining: 1.13s\n",
      "318:\tlearn: 0.3527071\ttotal: 529ms\tremaining: 1.13s\n",
      "319:\tlearn: 0.3523814\ttotal: 531ms\tremaining: 1.13s\n",
      "320:\tlearn: 0.3520360\ttotal: 532ms\tremaining: 1.13s\n",
      "321:\tlearn: 0.3514641\ttotal: 534ms\tremaining: 1.12s\n",
      "322:\tlearn: 0.3510706\ttotal: 535ms\tremaining: 1.12s\n",
      "323:\tlearn: 0.3505927\ttotal: 537ms\tremaining: 1.12s\n",
      "324:\tlearn: 0.3502809\ttotal: 538ms\tremaining: 1.12s\n",
      "325:\tlearn: 0.3496701\ttotal: 540ms\tremaining: 1.12s\n",
      "326:\tlearn: 0.3492270\ttotal: 541ms\tremaining: 1.11s\n",
      "327:\tlearn: 0.3489147\ttotal: 543ms\tremaining: 1.11s\n",
      "328:\tlearn: 0.3483879\ttotal: 544ms\tremaining: 1.11s\n",
      "329:\tlearn: 0.3479898\ttotal: 546ms\tremaining: 1.11s\n",
      "330:\tlearn: 0.3477040\ttotal: 547ms\tremaining: 1.1s\n",
      "331:\tlearn: 0.3473167\ttotal: 549ms\tremaining: 1.1s\n",
      "332:\tlearn: 0.3468473\ttotal: 550ms\tremaining: 1.1s\n",
      "333:\tlearn: 0.3464098\ttotal: 551ms\tremaining: 1.1s\n",
      "334:\tlearn: 0.3459618\ttotal: 553ms\tremaining: 1.1s\n",
      "335:\tlearn: 0.3455792\ttotal: 554ms\tremaining: 1.09s\n",
      "336:\tlearn: 0.3451829\ttotal: 556ms\tremaining: 1.09s\n",
      "337:\tlearn: 0.3447945\ttotal: 557ms\tremaining: 1.09s\n",
      "338:\tlearn: 0.3442337\ttotal: 558ms\tremaining: 1.09s\n",
      "339:\tlearn: 0.3438893\ttotal: 560ms\tremaining: 1.09s\n",
      "340:\tlearn: 0.3434993\ttotal: 561ms\tremaining: 1.08s\n",
      "341:\tlearn: 0.3431284\ttotal: 563ms\tremaining: 1.08s\n",
      "342:\tlearn: 0.3429495\ttotal: 564ms\tremaining: 1.08s\n",
      "343:\tlearn: 0.3425499\ttotal: 566ms\tremaining: 1.08s\n",
      "344:\tlearn: 0.3422263\ttotal: 567ms\tremaining: 1.08s\n",
      "345:\tlearn: 0.3416939\ttotal: 569ms\tremaining: 1.07s\n",
      "346:\tlearn: 0.3413648\ttotal: 570ms\tremaining: 1.07s\n",
      "347:\tlearn: 0.3410703\ttotal: 571ms\tremaining: 1.07s\n",
      "348:\tlearn: 0.3407065\ttotal: 573ms\tremaining: 1.07s\n",
      "349:\tlearn: 0.3403058\ttotal: 574ms\tremaining: 1.07s\n",
      "350:\tlearn: 0.3399508\ttotal: 577ms\tremaining: 1.07s\n",
      "351:\tlearn: 0.3395373\ttotal: 578ms\tremaining: 1.06s\n",
      "352:\tlearn: 0.3389486\ttotal: 580ms\tremaining: 1.06s\n",
      "353:\tlearn: 0.3384680\ttotal: 582ms\tremaining: 1.06s\n",
      "354:\tlearn: 0.3380691\ttotal: 583ms\tremaining: 1.06s\n",
      "355:\tlearn: 0.3377509\ttotal: 584ms\tremaining: 1.06s\n",
      "356:\tlearn: 0.3372531\ttotal: 586ms\tremaining: 1.05s\n",
      "357:\tlearn: 0.3369193\ttotal: 587ms\tremaining: 1.05s\n",
      "358:\tlearn: 0.3365655\ttotal: 589ms\tremaining: 1.05s\n",
      "359:\tlearn: 0.3361727\ttotal: 590ms\tremaining: 1.05s\n",
      "360:\tlearn: 0.3358177\ttotal: 592ms\tremaining: 1.05s\n",
      "361:\tlearn: 0.3353470\ttotal: 593ms\tremaining: 1.04s\n",
      "362:\tlearn: 0.3349640\ttotal: 595ms\tremaining: 1.04s\n",
      "363:\tlearn: 0.3346010\ttotal: 596ms\tremaining: 1.04s\n",
      "364:\tlearn: 0.3342272\ttotal: 598ms\tremaining: 1.04s\n",
      "365:\tlearn: 0.3338036\ttotal: 599ms\tremaining: 1.04s\n",
      "366:\tlearn: 0.3332546\ttotal: 601ms\tremaining: 1.04s\n",
      "367:\tlearn: 0.3329756\ttotal: 602ms\tremaining: 1.03s\n",
      "368:\tlearn: 0.3326988\ttotal: 604ms\tremaining: 1.03s\n",
      "369:\tlearn: 0.3324961\ttotal: 605ms\tremaining: 1.03s\n",
      "370:\tlearn: 0.3322183\ttotal: 607ms\tremaining: 1.03s\n",
      "371:\tlearn: 0.3318235\ttotal: 608ms\tremaining: 1.03s\n",
      "372:\tlearn: 0.3315879\ttotal: 610ms\tremaining: 1.02s\n",
      "373:\tlearn: 0.3313635\ttotal: 611ms\tremaining: 1.02s\n",
      "374:\tlearn: 0.3310212\ttotal: 613ms\tremaining: 1.02s\n",
      "375:\tlearn: 0.3306681\ttotal: 615ms\tremaining: 1.02s\n",
      "376:\tlearn: 0.3303144\ttotal: 616ms\tremaining: 1.02s\n",
      "377:\tlearn: 0.3299618\ttotal: 617ms\tremaining: 1.02s\n",
      "378:\tlearn: 0.3295553\ttotal: 619ms\tremaining: 1.01s\n",
      "379:\tlearn: 0.3290924\ttotal: 620ms\tremaining: 1.01s\n",
      "380:\tlearn: 0.3288953\ttotal: 622ms\tremaining: 1.01s\n",
      "381:\tlearn: 0.3285527\ttotal: 623ms\tremaining: 1.01s\n",
      "382:\tlearn: 0.3281678\ttotal: 625ms\tremaining: 1.01s\n",
      "383:\tlearn: 0.3279117\ttotal: 626ms\tremaining: 1s\n",
      "384:\tlearn: 0.3276235\ttotal: 628ms\tremaining: 1s\n",
      "385:\tlearn: 0.3271960\ttotal: 629ms\tremaining: 1s\n",
      "386:\tlearn: 0.3268847\ttotal: 631ms\tremaining: 999ms\n",
      "387:\tlearn: 0.3263622\ttotal: 632ms\tremaining: 997ms\n",
      "388:\tlearn: 0.3260117\ttotal: 634ms\tremaining: 995ms\n",
      "389:\tlearn: 0.3257249\ttotal: 635ms\tremaining: 994ms\n",
      "390:\tlearn: 0.3253941\ttotal: 637ms\tremaining: 992ms\n",
      "391:\tlearn: 0.3250295\ttotal: 638ms\tremaining: 990ms\n",
      "392:\tlearn: 0.3247249\ttotal: 640ms\tremaining: 988ms\n",
      "393:\tlearn: 0.3241934\ttotal: 641ms\tremaining: 986ms\n",
      "394:\tlearn: 0.3240334\ttotal: 643ms\tremaining: 985ms\n",
      "395:\tlearn: 0.3235671\ttotal: 644ms\tremaining: 983ms\n",
      "396:\tlearn: 0.3232406\ttotal: 646ms\tremaining: 981ms\n",
      "397:\tlearn: 0.3229563\ttotal: 647ms\tremaining: 979ms\n",
      "398:\tlearn: 0.3226049\ttotal: 649ms\tremaining: 978ms\n",
      "399:\tlearn: 0.3221281\ttotal: 650ms\tremaining: 976ms\n",
      "400:\tlearn: 0.3216576\ttotal: 652ms\tremaining: 974ms\n",
      "401:\tlearn: 0.3212255\ttotal: 653ms\tremaining: 972ms\n",
      "402:\tlearn: 0.3209505\ttotal: 655ms\tremaining: 970ms\n",
      "403:\tlearn: 0.3206638\ttotal: 656ms\tremaining: 968ms\n",
      "404:\tlearn: 0.3204985\ttotal: 658ms\tremaining: 966ms\n",
      "405:\tlearn: 0.3204504\ttotal: 659ms\tremaining: 963ms\n",
      "406:\tlearn: 0.3201234\ttotal: 660ms\tremaining: 962ms\n",
      "407:\tlearn: 0.3197259\ttotal: 662ms\tremaining: 960ms\n",
      "408:\tlearn: 0.3193976\ttotal: 663ms\tremaining: 958ms\n",
      "409:\tlearn: 0.3191031\ttotal: 665ms\tremaining: 956ms\n",
      "410:\tlearn: 0.3187811\ttotal: 666ms\tremaining: 955ms\n",
      "411:\tlearn: 0.3184698\ttotal: 668ms\tremaining: 953ms\n",
      "412:\tlearn: 0.3179275\ttotal: 669ms\tremaining: 951ms\n",
      "413:\tlearn: 0.3174410\ttotal: 671ms\tremaining: 949ms\n",
      "414:\tlearn: 0.3169983\ttotal: 672ms\tremaining: 948ms\n",
      "415:\tlearn: 0.3166739\ttotal: 674ms\tremaining: 947ms\n",
      "416:\tlearn: 0.3164202\ttotal: 676ms\tremaining: 945ms\n",
      "417:\tlearn: 0.3162000\ttotal: 677ms\tremaining: 943ms\n",
      "418:\tlearn: 0.3159236\ttotal: 679ms\tremaining: 941ms\n",
      "419:\tlearn: 0.3155802\ttotal: 680ms\tremaining: 940ms\n",
      "420:\tlearn: 0.3152702\ttotal: 682ms\tremaining: 938ms\n",
      "421:\tlearn: 0.3149817\ttotal: 684ms\tremaining: 936ms\n",
      "422:\tlearn: 0.3146508\ttotal: 685ms\tremaining: 934ms\n",
      "423:\tlearn: 0.3143076\ttotal: 687ms\tremaining: 933ms\n",
      "424:\tlearn: 0.3138979\ttotal: 688ms\tremaining: 931ms\n",
      "425:\tlearn: 0.3135948\ttotal: 690ms\tremaining: 930ms\n",
      "426:\tlearn: 0.3134277\ttotal: 692ms\tremaining: 928ms\n",
      "427:\tlearn: 0.3127641\ttotal: 693ms\tremaining: 926ms\n",
      "428:\tlearn: 0.3122946\ttotal: 695ms\tremaining: 924ms\n",
      "429:\tlearn: 0.3121427\ttotal: 696ms\tremaining: 923ms\n",
      "430:\tlearn: 0.3116597\ttotal: 698ms\tremaining: 921ms\n",
      "431:\tlearn: 0.3114606\ttotal: 699ms\tremaining: 919ms\n",
      "432:\tlearn: 0.3111462\ttotal: 701ms\tremaining: 918ms\n",
      "433:\tlearn: 0.3106901\ttotal: 703ms\tremaining: 917ms\n",
      "434:\tlearn: 0.3104262\ttotal: 705ms\tremaining: 915ms\n",
      "435:\tlearn: 0.3101133\ttotal: 706ms\tremaining: 914ms\n",
      "436:\tlearn: 0.3098599\ttotal: 708ms\tremaining: 912ms\n",
      "437:\tlearn: 0.3095412\ttotal: 709ms\tremaining: 910ms\n",
      "438:\tlearn: 0.3092241\ttotal: 710ms\tremaining: 908ms\n",
      "439:\tlearn: 0.3089447\ttotal: 712ms\tremaining: 906ms\n",
      "440:\tlearn: 0.3086847\ttotal: 713ms\tremaining: 904ms\n",
      "441:\tlearn: 0.3084506\ttotal: 715ms\tremaining: 902ms\n",
      "442:\tlearn: 0.3082418\ttotal: 716ms\tremaining: 900ms\n",
      "443:\tlearn: 0.3079868\ttotal: 718ms\tremaining: 899ms\n",
      "444:\tlearn: 0.3078064\ttotal: 719ms\tremaining: 897ms\n",
      "445:\tlearn: 0.3073814\ttotal: 721ms\tremaining: 895ms\n",
      "446:\tlearn: 0.3069782\ttotal: 722ms\tremaining: 893ms\n",
      "447:\tlearn: 0.3068364\ttotal: 724ms\tremaining: 892ms\n",
      "448:\tlearn: 0.3065195\ttotal: 725ms\tremaining: 890ms\n",
      "449:\tlearn: 0.3062288\ttotal: 726ms\tremaining: 888ms\n",
      "450:\tlearn: 0.3058775\ttotal: 728ms\tremaining: 886ms\n",
      "451:\tlearn: 0.3058191\ttotal: 729ms\tremaining: 883ms\n",
      "452:\tlearn: 0.3056122\ttotal: 730ms\tremaining: 881ms\n",
      "453:\tlearn: 0.3052077\ttotal: 731ms\tremaining: 880ms\n",
      "454:\tlearn: 0.3048129\ttotal: 733ms\tremaining: 878ms\n",
      "455:\tlearn: 0.3045051\ttotal: 734ms\tremaining: 876ms\n",
      "456:\tlearn: 0.3042226\ttotal: 736ms\tremaining: 874ms\n",
      "457:\tlearn: 0.3039814\ttotal: 737ms\tremaining: 872ms\n",
      "458:\tlearn: 0.3037080\ttotal: 739ms\tremaining: 871ms\n",
      "459:\tlearn: 0.3031750\ttotal: 740ms\tremaining: 869ms\n",
      "460:\tlearn: 0.3029121\ttotal: 742ms\tremaining: 867ms\n",
      "461:\tlearn: 0.3027661\ttotal: 743ms\tremaining: 865ms\n",
      "462:\tlearn: 0.3023883\ttotal: 745ms\tremaining: 864ms\n",
      "463:\tlearn: 0.3021201\ttotal: 746ms\tremaining: 862ms\n",
      "464:\tlearn: 0.3016407\ttotal: 747ms\tremaining: 860ms\n",
      "465:\tlearn: 0.3014784\ttotal: 749ms\tremaining: 858ms\n",
      "466:\tlearn: 0.3012560\ttotal: 750ms\tremaining: 856ms\n",
      "467:\tlearn: 0.3008871\ttotal: 752ms\tremaining: 855ms\n",
      "468:\tlearn: 0.3006211\ttotal: 754ms\tremaining: 854ms\n",
      "469:\tlearn: 0.3004244\ttotal: 755ms\tremaining: 852ms\n",
      "470:\tlearn: 0.3001027\ttotal: 757ms\tremaining: 850ms\n",
      "471:\tlearn: 0.2998662\ttotal: 758ms\tremaining: 848ms\n",
      "472:\tlearn: 0.2995893\ttotal: 760ms\tremaining: 846ms\n",
      "473:\tlearn: 0.2992583\ttotal: 761ms\tremaining: 845ms\n",
      "474:\tlearn: 0.2990484\ttotal: 763ms\tremaining: 843ms\n",
      "475:\tlearn: 0.2987779\ttotal: 764ms\tremaining: 841ms\n",
      "476:\tlearn: 0.2985318\ttotal: 766ms\tremaining: 840ms\n",
      "477:\tlearn: 0.2982891\ttotal: 768ms\tremaining: 839ms\n",
      "478:\tlearn: 0.2980783\ttotal: 770ms\tremaining: 837ms\n",
      "479:\tlearn: 0.2976503\ttotal: 772ms\tremaining: 836ms\n",
      "480:\tlearn: 0.2973246\ttotal: 773ms\tremaining: 834ms\n",
      "481:\tlearn: 0.2970532\ttotal: 775ms\tremaining: 832ms\n",
      "482:\tlearn: 0.2966701\ttotal: 776ms\tremaining: 831ms\n",
      "483:\tlearn: 0.2963636\ttotal: 777ms\tremaining: 829ms\n",
      "484:\tlearn: 0.2961466\ttotal: 779ms\tremaining: 827ms\n",
      "485:\tlearn: 0.2958812\ttotal: 781ms\tremaining: 826ms\n",
      "486:\tlearn: 0.2956014\ttotal: 797ms\tremaining: 839ms\n",
      "487:\tlearn: 0.2954506\ttotal: 800ms\tremaining: 840ms\n",
      "488:\tlearn: 0.2952223\ttotal: 807ms\tremaining: 843ms\n",
      "489:\tlearn: 0.2948642\ttotal: 812ms\tremaining: 845ms\n",
      "490:\tlearn: 0.2944294\ttotal: 814ms\tremaining: 844ms\n",
      "491:\tlearn: 0.2941322\ttotal: 818ms\tremaining: 845ms\n",
      "492:\tlearn: 0.2938313\ttotal: 821ms\tremaining: 844ms\n",
      "493:\tlearn: 0.2934827\ttotal: 823ms\tremaining: 843ms\n",
      "494:\tlearn: 0.2932132\ttotal: 827ms\tremaining: 844ms\n",
      "495:\tlearn: 0.2930395\ttotal: 828ms\tremaining: 842ms\n",
      "496:\tlearn: 0.2927583\ttotal: 830ms\tremaining: 840ms\n",
      "497:\tlearn: 0.2925916\ttotal: 835ms\tremaining: 841ms\n",
      "498:\tlearn: 0.2922947\ttotal: 836ms\tremaining: 839ms\n",
      "499:\tlearn: 0.2920525\ttotal: 839ms\tremaining: 839ms\n",
      "500:\tlearn: 0.2917897\ttotal: 841ms\tremaining: 838ms\n",
      "501:\tlearn: 0.2914721\ttotal: 843ms\tremaining: 836ms\n",
      "502:\tlearn: 0.2912294\ttotal: 844ms\tremaining: 834ms\n",
      "503:\tlearn: 0.2907232\ttotal: 846ms\tremaining: 832ms\n",
      "504:\tlearn: 0.2905129\ttotal: 847ms\tremaining: 831ms\n",
      "505:\tlearn: 0.2902785\ttotal: 855ms\tremaining: 834ms\n",
      "506:\tlearn: 0.2901074\ttotal: 856ms\tremaining: 832ms\n",
      "507:\tlearn: 0.2897135\ttotal: 858ms\tremaining: 831ms\n",
      "508:\tlearn: 0.2894153\ttotal: 861ms\tremaining: 830ms\n",
      "509:\tlearn: 0.2890779\ttotal: 864ms\tremaining: 830ms\n",
      "510:\tlearn: 0.2888604\ttotal: 868ms\tremaining: 831ms\n",
      "511:\tlearn: 0.2885477\ttotal: 870ms\tremaining: 829ms\n",
      "512:\tlearn: 0.2882193\ttotal: 878ms\tremaining: 833ms\n",
      "513:\tlearn: 0.2878326\ttotal: 887ms\tremaining: 839ms\n",
      "514:\tlearn: 0.2875820\ttotal: 889ms\tremaining: 837ms\n",
      "515:\tlearn: 0.2874299\ttotal: 891ms\tremaining: 836ms\n",
      "516:\tlearn: 0.2871680\ttotal: 896ms\tremaining: 837ms\n",
      "517:\tlearn: 0.2869999\ttotal: 899ms\tremaining: 836ms\n",
      "518:\tlearn: 0.2867573\ttotal: 901ms\tremaining: 835ms\n",
      "519:\tlearn: 0.2864513\ttotal: 905ms\tremaining: 835ms\n",
      "520:\tlearn: 0.2862556\ttotal: 907ms\tremaining: 834ms\n",
      "521:\tlearn: 0.2858197\ttotal: 909ms\tremaining: 833ms\n",
      "522:\tlearn: 0.2855997\ttotal: 911ms\tremaining: 831ms\n",
      "523:\tlearn: 0.2853391\ttotal: 913ms\tremaining: 829ms\n",
      "524:\tlearn: 0.2849438\ttotal: 915ms\tremaining: 827ms\n",
      "525:\tlearn: 0.2847369\ttotal: 916ms\tremaining: 825ms\n",
      "526:\tlearn: 0.2843786\ttotal: 918ms\tremaining: 824ms\n",
      "527:\tlearn: 0.2841403\ttotal: 920ms\tremaining: 822ms\n",
      "528:\tlearn: 0.2838245\ttotal: 923ms\tremaining: 822ms\n",
      "529:\tlearn: 0.2835467\ttotal: 926ms\tremaining: 821ms\n",
      "530:\tlearn: 0.2834305\ttotal: 928ms\tremaining: 820ms\n",
      "531:\tlearn: 0.2832162\ttotal: 930ms\tremaining: 818ms\n",
      "532:\tlearn: 0.2829571\ttotal: 932ms\tremaining: 817ms\n",
      "533:\tlearn: 0.2826555\ttotal: 935ms\tremaining: 816ms\n",
      "534:\tlearn: 0.2823579\ttotal: 938ms\tremaining: 815ms\n",
      "535:\tlearn: 0.2821517\ttotal: 940ms\tremaining: 814ms\n",
      "536:\tlearn: 0.2819396\ttotal: 943ms\tremaining: 813ms\n",
      "537:\tlearn: 0.2815495\ttotal: 946ms\tremaining: 813ms\n",
      "538:\tlearn: 0.2812392\ttotal: 949ms\tremaining: 812ms\n",
      "539:\tlearn: 0.2809813\ttotal: 952ms\tremaining: 811ms\n",
      "540:\tlearn: 0.2806893\ttotal: 954ms\tremaining: 810ms\n",
      "541:\tlearn: 0.2804532\ttotal: 957ms\tremaining: 808ms\n",
      "542:\tlearn: 0.2802195\ttotal: 959ms\tremaining: 807ms\n",
      "543:\tlearn: 0.2800035\ttotal: 962ms\tremaining: 806ms\n",
      "544:\tlearn: 0.2796574\ttotal: 964ms\tremaining: 805ms\n",
      "545:\tlearn: 0.2794646\ttotal: 967ms\tremaining: 804ms\n",
      "546:\tlearn: 0.2793036\ttotal: 969ms\tremaining: 803ms\n",
      "547:\tlearn: 0.2790602\ttotal: 972ms\tremaining: 801ms\n",
      "548:\tlearn: 0.2788004\ttotal: 974ms\tremaining: 800ms\n",
      "549:\tlearn: 0.2785583\ttotal: 976ms\tremaining: 798ms\n",
      "550:\tlearn: 0.2783254\ttotal: 978ms\tremaining: 797ms\n",
      "551:\tlearn: 0.2780402\ttotal: 980ms\tremaining: 796ms\n",
      "552:\tlearn: 0.2777885\ttotal: 982ms\tremaining: 794ms\n",
      "553:\tlearn: 0.2774449\ttotal: 985ms\tremaining: 793ms\n",
      "554:\tlearn: 0.2771652\ttotal: 987ms\tremaining: 791ms\n",
      "555:\tlearn: 0.2768658\ttotal: 989ms\tremaining: 790ms\n",
      "556:\tlearn: 0.2767175\ttotal: 991ms\tremaining: 788ms\n",
      "557:\tlearn: 0.2766025\ttotal: 993ms\tremaining: 787ms\n",
      "558:\tlearn: 0.2762244\ttotal: 996ms\tremaining: 785ms\n",
      "559:\tlearn: 0.2760686\ttotal: 998ms\tremaining: 784ms\n",
      "560:\tlearn: 0.2758419\ttotal: 1s\tremaining: 783ms\n",
      "561:\tlearn: 0.2756134\ttotal: 1s\tremaining: 782ms\n",
      "562:\tlearn: 0.2752022\ttotal: 1s\tremaining: 780ms\n",
      "563:\tlearn: 0.2747999\ttotal: 1.01s\tremaining: 779ms\n",
      "564:\tlearn: 0.2746264\ttotal: 1.01s\tremaining: 778ms\n",
      "565:\tlearn: 0.2744954\ttotal: 1.01s\tremaining: 776ms\n",
      "566:\tlearn: 0.2742312\ttotal: 1.01s\tremaining: 775ms\n",
      "567:\tlearn: 0.2738802\ttotal: 1.02s\tremaining: 773ms\n",
      "568:\tlearn: 0.2735300\ttotal: 1.02s\tremaining: 772ms\n",
      "569:\tlearn: 0.2732490\ttotal: 1.02s\tremaining: 770ms\n",
      "570:\tlearn: 0.2730419\ttotal: 1.02s\tremaining: 769ms\n",
      "571:\tlearn: 0.2728178\ttotal: 1.02s\tremaining: 767ms\n",
      "572:\tlearn: 0.2725826\ttotal: 1.03s\tremaining: 766ms\n",
      "573:\tlearn: 0.2723363\ttotal: 1.03s\tremaining: 764ms\n",
      "574:\tlearn: 0.2721458\ttotal: 1.03s\tremaining: 763ms\n",
      "575:\tlearn: 0.2719395\ttotal: 1.03s\tremaining: 761ms\n",
      "576:\tlearn: 0.2715986\ttotal: 1.04s\tremaining: 760ms\n",
      "577:\tlearn: 0.2711957\ttotal: 1.04s\tremaining: 759ms\n",
      "578:\tlearn: 0.2709147\ttotal: 1.04s\tremaining: 757ms\n",
      "579:\tlearn: 0.2705808\ttotal: 1.04s\tremaining: 756ms\n",
      "580:\tlearn: 0.2704470\ttotal: 1.05s\tremaining: 754ms\n",
      "581:\tlearn: 0.2701566\ttotal: 1.05s\tremaining: 753ms\n",
      "582:\tlearn: 0.2699051\ttotal: 1.05s\tremaining: 752ms\n",
      "583:\tlearn: 0.2696810\ttotal: 1.05s\tremaining: 751ms\n",
      "584:\tlearn: 0.2693819\ttotal: 1.06s\tremaining: 749ms\n",
      "585:\tlearn: 0.2692729\ttotal: 1.06s\tremaining: 748ms\n",
      "586:\tlearn: 0.2689250\ttotal: 1.06s\tremaining: 746ms\n",
      "587:\tlearn: 0.2686826\ttotal: 1.06s\tremaining: 745ms\n",
      "588:\tlearn: 0.2684726\ttotal: 1.06s\tremaining: 743ms\n",
      "589:\tlearn: 0.2683006\ttotal: 1.07s\tremaining: 742ms\n",
      "590:\tlearn: 0.2680603\ttotal: 1.07s\tremaining: 740ms\n",
      "591:\tlearn: 0.2678618\ttotal: 1.07s\tremaining: 739ms\n",
      "592:\tlearn: 0.2675503\ttotal: 1.07s\tremaining: 737ms\n",
      "593:\tlearn: 0.2672058\ttotal: 1.08s\tremaining: 736ms\n",
      "594:\tlearn: 0.2669486\ttotal: 1.08s\tremaining: 734ms\n",
      "595:\tlearn: 0.2667102\ttotal: 1.09s\tremaining: 737ms\n",
      "596:\tlearn: 0.2663937\ttotal: 1.09s\tremaining: 735ms\n",
      "597:\tlearn: 0.2663118\ttotal: 1.09s\tremaining: 734ms\n",
      "598:\tlearn: 0.2660885\ttotal: 1.09s\tremaining: 732ms\n",
      "599:\tlearn: 0.2658854\ttotal: 1.09s\tremaining: 731ms\n",
      "600:\tlearn: 0.2656559\ttotal: 1.1s\tremaining: 729ms\n",
      "601:\tlearn: 0.2656378\ttotal: 1.1s\tremaining: 727ms\n",
      "602:\tlearn: 0.2653823\ttotal: 1.1s\tremaining: 725ms\n",
      "603:\tlearn: 0.2652024\ttotal: 1.1s\tremaining: 724ms\n",
      "604:\tlearn: 0.2648347\ttotal: 1.11s\tremaining: 722ms\n",
      "605:\tlearn: 0.2644419\ttotal: 1.11s\tremaining: 721ms\n",
      "606:\tlearn: 0.2642587\ttotal: 1.11s\tremaining: 719ms\n",
      "607:\tlearn: 0.2639596\ttotal: 1.11s\tremaining: 718ms\n",
      "608:\tlearn: 0.2637475\ttotal: 1.11s\tremaining: 716ms\n",
      "609:\tlearn: 0.2633278\ttotal: 1.12s\tremaining: 714ms\n",
      "610:\tlearn: 0.2630562\ttotal: 1.12s\tremaining: 713ms\n",
      "611:\tlearn: 0.2628783\ttotal: 1.12s\tremaining: 711ms\n",
      "612:\tlearn: 0.2626612\ttotal: 1.12s\tremaining: 710ms\n",
      "613:\tlearn: 0.2623649\ttotal: 1.13s\tremaining: 708ms\n",
      "614:\tlearn: 0.2621499\ttotal: 1.13s\tremaining: 707ms\n",
      "615:\tlearn: 0.2617998\ttotal: 1.13s\tremaining: 705ms\n",
      "616:\tlearn: 0.2614739\ttotal: 1.13s\tremaining: 703ms\n",
      "617:\tlearn: 0.2612363\ttotal: 1.14s\tremaining: 702ms\n",
      "618:\tlearn: 0.2609705\ttotal: 1.14s\tremaining: 700ms\n",
      "619:\tlearn: 0.2607103\ttotal: 1.14s\tremaining: 699ms\n",
      "620:\tlearn: 0.2603339\ttotal: 1.14s\tremaining: 697ms\n",
      "621:\tlearn: 0.2600893\ttotal: 1.14s\tremaining: 696ms\n",
      "622:\tlearn: 0.2599391\ttotal: 1.15s\tremaining: 694ms\n",
      "623:\tlearn: 0.2596425\ttotal: 1.15s\tremaining: 692ms\n",
      "624:\tlearn: 0.2594863\ttotal: 1.15s\tremaining: 691ms\n",
      "625:\tlearn: 0.2592317\ttotal: 1.15s\tremaining: 689ms\n",
      "626:\tlearn: 0.2589294\ttotal: 1.16s\tremaining: 688ms\n",
      "627:\tlearn: 0.2586494\ttotal: 1.16s\tremaining: 686ms\n",
      "628:\tlearn: 0.2583227\ttotal: 1.16s\tremaining: 685ms\n",
      "629:\tlearn: 0.2580527\ttotal: 1.16s\tremaining: 683ms\n",
      "630:\tlearn: 0.2578692\ttotal: 1.17s\tremaining: 682ms\n",
      "631:\tlearn: 0.2574902\ttotal: 1.17s\tremaining: 684ms\n",
      "632:\tlearn: 0.2571812\ttotal: 1.18s\tremaining: 683ms\n",
      "633:\tlearn: 0.2569521\ttotal: 1.19s\tremaining: 685ms\n",
      "634:\tlearn: 0.2565881\ttotal: 1.19s\tremaining: 683ms\n",
      "635:\tlearn: 0.2562260\ttotal: 1.19s\tremaining: 682ms\n",
      "636:\tlearn: 0.2559454\ttotal: 1.19s\tremaining: 680ms\n",
      "637:\tlearn: 0.2557659\ttotal: 1.2s\tremaining: 679ms\n",
      "638:\tlearn: 0.2556708\ttotal: 1.2s\tremaining: 677ms\n",
      "639:\tlearn: 0.2554324\ttotal: 1.2s\tremaining: 676ms\n",
      "640:\tlearn: 0.2551978\ttotal: 1.2s\tremaining: 674ms\n",
      "641:\tlearn: 0.2549154\ttotal: 1.2s\tremaining: 672ms\n",
      "642:\tlearn: 0.2547927\ttotal: 1.21s\tremaining: 670ms\n",
      "643:\tlearn: 0.2545740\ttotal: 1.21s\tremaining: 668ms\n",
      "644:\tlearn: 0.2543776\ttotal: 1.21s\tremaining: 667ms\n",
      "645:\tlearn: 0.2541442\ttotal: 1.22s\tremaining: 668ms\n",
      "646:\tlearn: 0.2541037\ttotal: 1.22s\tremaining: 667ms\n",
      "647:\tlearn: 0.2538748\ttotal: 1.23s\tremaining: 666ms\n",
      "648:\tlearn: 0.2537875\ttotal: 1.23s\tremaining: 666ms\n",
      "649:\tlearn: 0.2535374\ttotal: 1.24s\tremaining: 665ms\n",
      "650:\tlearn: 0.2533492\ttotal: 1.24s\tremaining: 664ms\n",
      "651:\tlearn: 0.2532015\ttotal: 1.24s\tremaining: 663ms\n",
      "652:\tlearn: 0.2529239\ttotal: 1.25s\tremaining: 662ms\n",
      "653:\tlearn: 0.2527384\ttotal: 1.25s\tremaining: 660ms\n",
      "654:\tlearn: 0.2525919\ttotal: 1.25s\tremaining: 661ms\n",
      "655:\tlearn: 0.2523734\ttotal: 1.26s\tremaining: 659ms\n",
      "656:\tlearn: 0.2520048\ttotal: 1.26s\tremaining: 657ms\n",
      "657:\tlearn: 0.2517985\ttotal: 1.26s\tremaining: 655ms\n",
      "658:\tlearn: 0.2516034\ttotal: 1.26s\tremaining: 653ms\n",
      "659:\tlearn: 0.2514285\ttotal: 1.26s\tremaining: 651ms\n",
      "660:\tlearn: 0.2511797\ttotal: 1.26s\tremaining: 648ms\n",
      "661:\tlearn: 0.2507882\ttotal: 1.26s\tremaining: 646ms\n",
      "662:\tlearn: 0.2506742\ttotal: 1.27s\tremaining: 644ms\n",
      "663:\tlearn: 0.2505164\ttotal: 1.27s\tremaining: 642ms\n",
      "664:\tlearn: 0.2503406\ttotal: 1.27s\tremaining: 640ms\n",
      "665:\tlearn: 0.2501374\ttotal: 1.27s\tremaining: 637ms\n",
      "666:\tlearn: 0.2499065\ttotal: 1.27s\tremaining: 635ms\n",
      "667:\tlearn: 0.2497533\ttotal: 1.27s\tremaining: 633ms\n",
      "668:\tlearn: 0.2495779\ttotal: 1.27s\tremaining: 631ms\n",
      "669:\tlearn: 0.2493036\ttotal: 1.28s\tremaining: 629ms\n",
      "670:\tlearn: 0.2490547\ttotal: 1.28s\tremaining: 627ms\n",
      "671:\tlearn: 0.2488421\ttotal: 1.28s\tremaining: 625ms\n",
      "672:\tlearn: 0.2485533\ttotal: 1.28s\tremaining: 622ms\n",
      "673:\tlearn: 0.2483214\ttotal: 1.28s\tremaining: 620ms\n",
      "674:\tlearn: 0.2481126\ttotal: 1.28s\tremaining: 618ms\n",
      "675:\tlearn: 0.2478891\ttotal: 1.28s\tremaining: 616ms\n",
      "676:\tlearn: 0.2476515\ttotal: 1.29s\tremaining: 614ms\n",
      "677:\tlearn: 0.2474946\ttotal: 1.29s\tremaining: 612ms\n",
      "678:\tlearn: 0.2472636\ttotal: 1.29s\tremaining: 610ms\n",
      "679:\tlearn: 0.2470234\ttotal: 1.29s\tremaining: 608ms\n",
      "680:\tlearn: 0.2466537\ttotal: 1.29s\tremaining: 606ms\n",
      "681:\tlearn: 0.2463513\ttotal: 1.29s\tremaining: 604ms\n",
      "682:\tlearn: 0.2461584\ttotal: 1.3s\tremaining: 602ms\n",
      "683:\tlearn: 0.2459785\ttotal: 1.3s\tremaining: 599ms\n",
      "684:\tlearn: 0.2456745\ttotal: 1.3s\tremaining: 597ms\n",
      "685:\tlearn: 0.2455473\ttotal: 1.3s\tremaining: 595ms\n",
      "686:\tlearn: 0.2451193\ttotal: 1.3s\tremaining: 593ms\n",
      "687:\tlearn: 0.2449713\ttotal: 1.3s\tremaining: 591ms\n",
      "688:\tlearn: 0.2447187\ttotal: 1.3s\tremaining: 589ms\n",
      "689:\tlearn: 0.2445304\ttotal: 1.3s\tremaining: 587ms\n",
      "690:\tlearn: 0.2443884\ttotal: 1.31s\tremaining: 585ms\n",
      "691:\tlearn: 0.2442722\ttotal: 1.31s\tremaining: 583ms\n",
      "692:\tlearn: 0.2440063\ttotal: 1.31s\tremaining: 580ms\n",
      "693:\tlearn: 0.2437535\ttotal: 1.31s\tremaining: 578ms\n",
      "694:\tlearn: 0.2435298\ttotal: 1.31s\tremaining: 576ms\n",
      "695:\tlearn: 0.2433005\ttotal: 1.31s\tremaining: 574ms\n",
      "696:\tlearn: 0.2429933\ttotal: 1.31s\tremaining: 572ms\n",
      "697:\tlearn: 0.2425908\ttotal: 1.32s\tremaining: 570ms\n",
      "698:\tlearn: 0.2422452\ttotal: 1.32s\tremaining: 568ms\n",
      "699:\tlearn: 0.2418424\ttotal: 1.32s\tremaining: 566ms\n",
      "700:\tlearn: 0.2415733\ttotal: 1.32s\tremaining: 564ms\n",
      "701:\tlearn: 0.2414855\ttotal: 1.32s\tremaining: 561ms\n",
      "702:\tlearn: 0.2413248\ttotal: 1.32s\tremaining: 559ms\n",
      "703:\tlearn: 0.2411237\ttotal: 1.32s\tremaining: 557ms\n",
      "704:\tlearn: 0.2408527\ttotal: 1.33s\tremaining: 555ms\n",
      "705:\tlearn: 0.2406458\ttotal: 1.33s\tremaining: 553ms\n",
      "706:\tlearn: 0.2404093\ttotal: 1.33s\tremaining: 551ms\n",
      "707:\tlearn: 0.2402127\ttotal: 1.33s\tremaining: 549ms\n",
      "708:\tlearn: 0.2400524\ttotal: 1.33s\tremaining: 547ms\n",
      "709:\tlearn: 0.2398656\ttotal: 1.33s\tremaining: 545ms\n",
      "710:\tlearn: 0.2396123\ttotal: 1.33s\tremaining: 543ms\n",
      "711:\tlearn: 0.2392818\ttotal: 1.34s\tremaining: 541ms\n",
      "712:\tlearn: 0.2390689\ttotal: 1.34s\tremaining: 538ms\n",
      "713:\tlearn: 0.2389001\ttotal: 1.34s\tremaining: 536ms\n",
      "714:\tlearn: 0.2386927\ttotal: 1.34s\tremaining: 534ms\n",
      "715:\tlearn: 0.2383849\ttotal: 1.34s\tremaining: 532ms\n",
      "716:\tlearn: 0.2381522\ttotal: 1.34s\tremaining: 530ms\n",
      "717:\tlearn: 0.2379256\ttotal: 1.34s\tremaining: 528ms\n",
      "718:\tlearn: 0.2378264\ttotal: 1.35s\tremaining: 526ms\n",
      "719:\tlearn: 0.2375780\ttotal: 1.35s\tremaining: 525ms\n",
      "720:\tlearn: 0.2374002\ttotal: 1.35s\tremaining: 523ms\n",
      "721:\tlearn: 0.2371450\ttotal: 1.35s\tremaining: 521ms\n",
      "722:\tlearn: 0.2370169\ttotal: 1.35s\tremaining: 519ms\n",
      "723:\tlearn: 0.2367712\ttotal: 1.36s\tremaining: 517ms\n",
      "724:\tlearn: 0.2364907\ttotal: 1.36s\tremaining: 515ms\n",
      "725:\tlearn: 0.2361821\ttotal: 1.36s\tremaining: 514ms\n",
      "726:\tlearn: 0.2358942\ttotal: 1.36s\tremaining: 512ms\n",
      "727:\tlearn: 0.2356740\ttotal: 1.36s\tremaining: 510ms\n",
      "728:\tlearn: 0.2354835\ttotal: 1.37s\tremaining: 508ms\n",
      "729:\tlearn: 0.2351989\ttotal: 1.37s\tremaining: 507ms\n",
      "730:\tlearn: 0.2349422\ttotal: 1.37s\tremaining: 505ms\n",
      "731:\tlearn: 0.2347970\ttotal: 1.37s\tremaining: 503ms\n",
      "732:\tlearn: 0.2345604\ttotal: 1.38s\tremaining: 501ms\n",
      "733:\tlearn: 0.2343766\ttotal: 1.38s\tremaining: 499ms\n",
      "734:\tlearn: 0.2341274\ttotal: 1.38s\tremaining: 497ms\n",
      "735:\tlearn: 0.2338977\ttotal: 1.38s\tremaining: 495ms\n",
      "736:\tlearn: 0.2336082\ttotal: 1.38s\tremaining: 493ms\n",
      "737:\tlearn: 0.2332558\ttotal: 1.38s\tremaining: 491ms\n",
      "738:\tlearn: 0.2329411\ttotal: 1.38s\tremaining: 489ms\n",
      "739:\tlearn: 0.2327061\ttotal: 1.39s\tremaining: 487ms\n",
      "740:\tlearn: 0.2323924\ttotal: 1.39s\tremaining: 485ms\n",
      "741:\tlearn: 0.2321735\ttotal: 1.39s\tremaining: 483ms\n",
      "742:\tlearn: 0.2319943\ttotal: 1.39s\tremaining: 480ms\n",
      "743:\tlearn: 0.2318210\ttotal: 1.39s\tremaining: 478ms\n",
      "744:\tlearn: 0.2315955\ttotal: 1.39s\tremaining: 476ms\n",
      "745:\tlearn: 0.2313009\ttotal: 1.39s\tremaining: 474ms\n",
      "746:\tlearn: 0.2310527\ttotal: 1.39s\tremaining: 472ms\n",
      "747:\tlearn: 0.2308753\ttotal: 1.4s\tremaining: 470ms\n",
      "748:\tlearn: 0.2307026\ttotal: 1.4s\tremaining: 468ms\n",
      "749:\tlearn: 0.2304929\ttotal: 1.4s\tremaining: 466ms\n",
      "750:\tlearn: 0.2303360\ttotal: 1.4s\tremaining: 464ms\n",
      "751:\tlearn: 0.2301342\ttotal: 1.4s\tremaining: 462ms\n",
      "752:\tlearn: 0.2300021\ttotal: 1.4s\tremaining: 460ms\n",
      "753:\tlearn: 0.2298389\ttotal: 1.4s\tremaining: 458ms\n",
      "754:\tlearn: 0.2296065\ttotal: 1.41s\tremaining: 456ms\n",
      "755:\tlearn: 0.2293951\ttotal: 1.41s\tremaining: 454ms\n",
      "756:\tlearn: 0.2291087\ttotal: 1.41s\tremaining: 452ms\n",
      "757:\tlearn: 0.2289604\ttotal: 1.41s\tremaining: 450ms\n",
      "758:\tlearn: 0.2287692\ttotal: 1.41s\tremaining: 448ms\n",
      "759:\tlearn: 0.2285124\ttotal: 1.41s\tremaining: 446ms\n",
      "760:\tlearn: 0.2282514\ttotal: 1.41s\tremaining: 444ms\n",
      "761:\tlearn: 0.2279924\ttotal: 1.42s\tremaining: 442ms\n",
      "762:\tlearn: 0.2277918\ttotal: 1.42s\tremaining: 440ms\n",
      "763:\tlearn: 0.2276492\ttotal: 1.42s\tremaining: 438ms\n",
      "764:\tlearn: 0.2273406\ttotal: 1.42s\tremaining: 436ms\n",
      "765:\tlearn: 0.2270473\ttotal: 1.42s\tremaining: 434ms\n",
      "766:\tlearn: 0.2268233\ttotal: 1.42s\tremaining: 432ms\n",
      "767:\tlearn: 0.2267285\ttotal: 1.42s\tremaining: 430ms\n",
      "768:\tlearn: 0.2265485\ttotal: 1.43s\tremaining: 428ms\n",
      "769:\tlearn: 0.2262679\ttotal: 1.43s\tremaining: 426ms\n",
      "770:\tlearn: 0.2260945\ttotal: 1.43s\tremaining: 424ms\n",
      "771:\tlearn: 0.2258425\ttotal: 1.43s\tremaining: 422ms\n",
      "772:\tlearn: 0.2256225\ttotal: 1.43s\tremaining: 420ms\n",
      "773:\tlearn: 0.2254098\ttotal: 1.43s\tremaining: 419ms\n",
      "774:\tlearn: 0.2251736\ttotal: 1.43s\tremaining: 417ms\n",
      "775:\tlearn: 0.2249496\ttotal: 1.44s\tremaining: 415ms\n",
      "776:\tlearn: 0.2247897\ttotal: 1.44s\tremaining: 413ms\n",
      "777:\tlearn: 0.2246335\ttotal: 1.44s\tremaining: 411ms\n",
      "778:\tlearn: 0.2244704\ttotal: 1.44s\tremaining: 409ms\n",
      "779:\tlearn: 0.2243228\ttotal: 1.44s\tremaining: 407ms\n",
      "780:\tlearn: 0.2241228\ttotal: 1.44s\tremaining: 405ms\n",
      "781:\tlearn: 0.2238321\ttotal: 1.44s\tremaining: 403ms\n",
      "782:\tlearn: 0.2234486\ttotal: 1.45s\tremaining: 401ms\n",
      "783:\tlearn: 0.2231299\ttotal: 1.45s\tremaining: 399ms\n",
      "784:\tlearn: 0.2229394\ttotal: 1.45s\tremaining: 397ms\n",
      "785:\tlearn: 0.2227572\ttotal: 1.45s\tremaining: 395ms\n",
      "786:\tlearn: 0.2225876\ttotal: 1.45s\tremaining: 393ms\n",
      "787:\tlearn: 0.2223403\ttotal: 1.45s\tremaining: 391ms\n",
      "788:\tlearn: 0.2221568\ttotal: 1.45s\tremaining: 389ms\n",
      "789:\tlearn: 0.2219841\ttotal: 1.46s\tremaining: 387ms\n",
      "790:\tlearn: 0.2217289\ttotal: 1.46s\tremaining: 385ms\n",
      "791:\tlearn: 0.2214899\ttotal: 1.46s\tremaining: 383ms\n",
      "792:\tlearn: 0.2212331\ttotal: 1.46s\tremaining: 381ms\n",
      "793:\tlearn: 0.2210050\ttotal: 1.46s\tremaining: 379ms\n",
      "794:\tlearn: 0.2207754\ttotal: 1.46s\tremaining: 377ms\n",
      "795:\tlearn: 0.2205257\ttotal: 1.46s\tremaining: 375ms\n",
      "796:\tlearn: 0.2203852\ttotal: 1.47s\tremaining: 373ms\n",
      "797:\tlearn: 0.2201860\ttotal: 1.47s\tremaining: 372ms\n",
      "798:\tlearn: 0.2199790\ttotal: 1.47s\tremaining: 370ms\n",
      "799:\tlearn: 0.2197728\ttotal: 1.47s\tremaining: 368ms\n",
      "800:\tlearn: 0.2195449\ttotal: 1.47s\tremaining: 366ms\n",
      "801:\tlearn: 0.2193763\ttotal: 1.47s\tremaining: 364ms\n",
      "802:\tlearn: 0.2191489\ttotal: 1.48s\tremaining: 362ms\n",
      "803:\tlearn: 0.2189724\ttotal: 1.48s\tremaining: 360ms\n",
      "804:\tlearn: 0.2185919\ttotal: 1.48s\tremaining: 358ms\n",
      "805:\tlearn: 0.2182614\ttotal: 1.48s\tremaining: 356ms\n",
      "806:\tlearn: 0.2181244\ttotal: 1.48s\tremaining: 354ms\n",
      "807:\tlearn: 0.2178712\ttotal: 1.48s\tremaining: 352ms\n",
      "808:\tlearn: 0.2177645\ttotal: 1.48s\tremaining: 350ms\n",
      "809:\tlearn: 0.2176591\ttotal: 1.49s\tremaining: 348ms\n",
      "810:\tlearn: 0.2173433\ttotal: 1.49s\tremaining: 346ms\n",
      "811:\tlearn: 0.2170498\ttotal: 1.49s\tremaining: 345ms\n",
      "812:\tlearn: 0.2168407\ttotal: 1.49s\tremaining: 343ms\n",
      "813:\tlearn: 0.2166686\ttotal: 1.49s\tremaining: 341ms\n",
      "814:\tlearn: 0.2165285\ttotal: 1.49s\tremaining: 339ms\n",
      "815:\tlearn: 0.2163334\ttotal: 1.49s\tremaining: 337ms\n",
      "816:\tlearn: 0.2161336\ttotal: 1.5s\tremaining: 335ms\n",
      "817:\tlearn: 0.2159093\ttotal: 1.5s\tremaining: 333ms\n",
      "818:\tlearn: 0.2155871\ttotal: 1.5s\tremaining: 331ms\n",
      "819:\tlearn: 0.2153357\ttotal: 1.5s\tremaining: 329ms\n",
      "820:\tlearn: 0.2150136\ttotal: 1.5s\tremaining: 327ms\n",
      "821:\tlearn: 0.2148223\ttotal: 1.5s\tremaining: 325ms\n",
      "822:\tlearn: 0.2146060\ttotal: 1.5s\tremaining: 324ms\n",
      "823:\tlearn: 0.2143445\ttotal: 1.51s\tremaining: 322ms\n",
      "824:\tlearn: 0.2141709\ttotal: 1.51s\tremaining: 320ms\n",
      "825:\tlearn: 0.2139468\ttotal: 1.51s\tremaining: 318ms\n",
      "826:\tlearn: 0.2137194\ttotal: 1.51s\tremaining: 316ms\n",
      "827:\tlearn: 0.2135698\ttotal: 1.51s\tremaining: 314ms\n",
      "828:\tlearn: 0.2133642\ttotal: 1.51s\tremaining: 312ms\n",
      "829:\tlearn: 0.2131734\ttotal: 1.51s\tremaining: 310ms\n",
      "830:\tlearn: 0.2129446\ttotal: 1.51s\tremaining: 308ms\n",
      "831:\tlearn: 0.2127735\ttotal: 1.52s\tremaining: 306ms\n",
      "832:\tlearn: 0.2126105\ttotal: 1.52s\tremaining: 304ms\n",
      "833:\tlearn: 0.2124505\ttotal: 1.52s\tremaining: 303ms\n",
      "834:\tlearn: 0.2123590\ttotal: 1.52s\tremaining: 301ms\n",
      "835:\tlearn: 0.2122138\ttotal: 1.52s\tremaining: 299ms\n",
      "836:\tlearn: 0.2121243\ttotal: 1.52s\tremaining: 297ms\n",
      "837:\tlearn: 0.2117806\ttotal: 1.52s\tremaining: 295ms\n",
      "838:\tlearn: 0.2115351\ttotal: 1.53s\tremaining: 293ms\n",
      "839:\tlearn: 0.2113250\ttotal: 1.53s\tremaining: 291ms\n",
      "840:\tlearn: 0.2111799\ttotal: 1.53s\tremaining: 289ms\n",
      "841:\tlearn: 0.2111038\ttotal: 1.53s\tremaining: 287ms\n",
      "842:\tlearn: 0.2108892\ttotal: 1.53s\tremaining: 286ms\n",
      "843:\tlearn: 0.2107650\ttotal: 1.53s\tremaining: 284ms\n",
      "844:\tlearn: 0.2105818\ttotal: 1.54s\tremaining: 282ms\n",
      "845:\tlearn: 0.2104532\ttotal: 1.54s\tremaining: 280ms\n",
      "846:\tlearn: 0.2101719\ttotal: 1.54s\tremaining: 278ms\n",
      "847:\tlearn: 0.2098897\ttotal: 1.54s\tremaining: 276ms\n",
      "848:\tlearn: 0.2096947\ttotal: 1.54s\tremaining: 274ms\n",
      "849:\tlearn: 0.2094782\ttotal: 1.54s\tremaining: 272ms\n",
      "850:\tlearn: 0.2092418\ttotal: 1.54s\tremaining: 271ms\n",
      "851:\tlearn: 0.2089640\ttotal: 1.55s\tremaining: 269ms\n",
      "852:\tlearn: 0.2088340\ttotal: 1.55s\tremaining: 267ms\n",
      "853:\tlearn: 0.2085073\ttotal: 1.55s\tremaining: 265ms\n",
      "854:\tlearn: 0.2083397\ttotal: 1.55s\tremaining: 263ms\n",
      "855:\tlearn: 0.2080446\ttotal: 1.55s\tremaining: 261ms\n",
      "856:\tlearn: 0.2078133\ttotal: 1.55s\tremaining: 259ms\n",
      "857:\tlearn: 0.2074935\ttotal: 1.55s\tremaining: 257ms\n",
      "858:\tlearn: 0.2073079\ttotal: 1.56s\tremaining: 255ms\n",
      "859:\tlearn: 0.2070593\ttotal: 1.56s\tremaining: 254ms\n",
      "860:\tlearn: 0.2067616\ttotal: 1.56s\tremaining: 252ms\n",
      "861:\tlearn: 0.2065632\ttotal: 1.56s\tremaining: 250ms\n",
      "862:\tlearn: 0.2064063\ttotal: 1.56s\tremaining: 248ms\n",
      "863:\tlearn: 0.2062137\ttotal: 1.56s\tremaining: 246ms\n",
      "864:\tlearn: 0.2060073\ttotal: 1.56s\tremaining: 244ms\n",
      "865:\tlearn: 0.2058168\ttotal: 1.57s\tremaining: 242ms\n",
      "866:\tlearn: 0.2056215\ttotal: 1.57s\tremaining: 241ms\n",
      "867:\tlearn: 0.2054110\ttotal: 1.57s\tremaining: 239ms\n",
      "868:\tlearn: 0.2052326\ttotal: 1.57s\tremaining: 237ms\n",
      "869:\tlearn: 0.2049229\ttotal: 1.57s\tremaining: 235ms\n",
      "870:\tlearn: 0.2047466\ttotal: 1.57s\tremaining: 233ms\n",
      "871:\tlearn: 0.2044890\ttotal: 1.57s\tremaining: 231ms\n",
      "872:\tlearn: 0.2043320\ttotal: 1.58s\tremaining: 229ms\n",
      "873:\tlearn: 0.2042269\ttotal: 1.58s\tremaining: 228ms\n",
      "874:\tlearn: 0.2039651\ttotal: 1.58s\tremaining: 226ms\n",
      "875:\tlearn: 0.2038356\ttotal: 1.58s\tremaining: 224ms\n",
      "876:\tlearn: 0.2037603\ttotal: 1.58s\tremaining: 222ms\n",
      "877:\tlearn: 0.2034788\ttotal: 1.58s\tremaining: 220ms\n",
      "878:\tlearn: 0.2032921\ttotal: 1.58s\tremaining: 218ms\n",
      "879:\tlearn: 0.2029882\ttotal: 1.59s\tremaining: 216ms\n",
      "880:\tlearn: 0.2027053\ttotal: 1.59s\tremaining: 215ms\n",
      "881:\tlearn: 0.2024309\ttotal: 1.59s\tremaining: 213ms\n",
      "882:\tlearn: 0.2021623\ttotal: 1.59s\tremaining: 211ms\n",
      "883:\tlearn: 0.2020741\ttotal: 1.59s\tremaining: 209ms\n",
      "884:\tlearn: 0.2018039\ttotal: 1.59s\tremaining: 207ms\n",
      "885:\tlearn: 0.2016538\ttotal: 1.59s\tremaining: 205ms\n",
      "886:\tlearn: 0.2015058\ttotal: 1.6s\tremaining: 203ms\n",
      "887:\tlearn: 0.2012551\ttotal: 1.6s\tremaining: 202ms\n",
      "888:\tlearn: 0.2010601\ttotal: 1.6s\tremaining: 200ms\n",
      "889:\tlearn: 0.2008458\ttotal: 1.6s\tremaining: 198ms\n",
      "890:\tlearn: 0.2007350\ttotal: 1.6s\tremaining: 196ms\n",
      "891:\tlearn: 0.2004722\ttotal: 1.6s\tremaining: 194ms\n",
      "892:\tlearn: 0.2002448\ttotal: 1.61s\tremaining: 192ms\n",
      "893:\tlearn: 0.2000330\ttotal: 1.61s\tremaining: 191ms\n",
      "894:\tlearn: 0.1999018\ttotal: 1.61s\tremaining: 189ms\n",
      "895:\tlearn: 0.1997464\ttotal: 1.61s\tremaining: 187ms\n",
      "896:\tlearn: 0.1995932\ttotal: 1.61s\tremaining: 185ms\n",
      "897:\tlearn: 0.1994282\ttotal: 1.61s\tremaining: 183ms\n",
      "898:\tlearn: 0.1991317\ttotal: 1.62s\tremaining: 182ms\n",
      "899:\tlearn: 0.1989534\ttotal: 1.62s\tremaining: 180ms\n",
      "900:\tlearn: 0.1987120\ttotal: 1.62s\tremaining: 178ms\n",
      "901:\tlearn: 0.1985477\ttotal: 1.62s\tremaining: 176ms\n",
      "902:\tlearn: 0.1983904\ttotal: 1.62s\tremaining: 175ms\n",
      "903:\tlearn: 0.1982659\ttotal: 1.63s\tremaining: 173ms\n",
      "904:\tlearn: 0.1979568\ttotal: 1.63s\tremaining: 171ms\n",
      "905:\tlearn: 0.1977660\ttotal: 1.63s\tremaining: 169ms\n",
      "906:\tlearn: 0.1975130\ttotal: 1.63s\tremaining: 167ms\n",
      "907:\tlearn: 0.1973114\ttotal: 1.63s\tremaining: 165ms\n",
      "908:\tlearn: 0.1971281\ttotal: 1.63s\tremaining: 164ms\n",
      "909:\tlearn: 0.1968394\ttotal: 1.64s\tremaining: 162ms\n",
      "910:\tlearn: 0.1966282\ttotal: 1.64s\tremaining: 160ms\n",
      "911:\tlearn: 0.1964869\ttotal: 1.64s\tremaining: 158ms\n",
      "912:\tlearn: 0.1962556\ttotal: 1.64s\tremaining: 156ms\n",
      "913:\tlearn: 0.1959684\ttotal: 1.64s\tremaining: 154ms\n",
      "914:\tlearn: 0.1957950\ttotal: 1.64s\tremaining: 153ms\n",
      "915:\tlearn: 0.1955972\ttotal: 1.64s\tremaining: 151ms\n",
      "916:\tlearn: 0.1953610\ttotal: 1.65s\tremaining: 149ms\n",
      "917:\tlearn: 0.1952497\ttotal: 1.65s\tremaining: 147ms\n",
      "918:\tlearn: 0.1950928\ttotal: 1.65s\tremaining: 145ms\n",
      "919:\tlearn: 0.1947752\ttotal: 1.65s\tremaining: 144ms\n",
      "920:\tlearn: 0.1946199\ttotal: 1.65s\tremaining: 142ms\n",
      "921:\tlearn: 0.1944915\ttotal: 1.65s\tremaining: 140ms\n",
      "922:\tlearn: 0.1942642\ttotal: 1.66s\tremaining: 138ms\n",
      "923:\tlearn: 0.1941986\ttotal: 1.66s\tremaining: 136ms\n",
      "924:\tlearn: 0.1939426\ttotal: 1.66s\tremaining: 135ms\n",
      "925:\tlearn: 0.1936396\ttotal: 1.66s\tremaining: 133ms\n",
      "926:\tlearn: 0.1933690\ttotal: 1.66s\tremaining: 131ms\n",
      "927:\tlearn: 0.1931007\ttotal: 1.66s\tremaining: 129ms\n",
      "928:\tlearn: 0.1929061\ttotal: 1.67s\tremaining: 127ms\n",
      "929:\tlearn: 0.1926896\ttotal: 1.67s\tremaining: 125ms\n",
      "930:\tlearn: 0.1924514\ttotal: 1.67s\tremaining: 124ms\n",
      "931:\tlearn: 0.1922699\ttotal: 1.67s\tremaining: 122ms\n",
      "932:\tlearn: 0.1920606\ttotal: 1.67s\tremaining: 120ms\n",
      "933:\tlearn: 0.1918113\ttotal: 1.67s\tremaining: 118ms\n",
      "934:\tlearn: 0.1914994\ttotal: 1.67s\tremaining: 116ms\n",
      "935:\tlearn: 0.1912974\ttotal: 1.68s\tremaining: 115ms\n",
      "936:\tlearn: 0.1911333\ttotal: 1.68s\tremaining: 113ms\n",
      "937:\tlearn: 0.1908519\ttotal: 1.68s\tremaining: 111ms\n",
      "938:\tlearn: 0.1906329\ttotal: 1.68s\tremaining: 109ms\n",
      "939:\tlearn: 0.1903906\ttotal: 1.68s\tremaining: 107ms\n",
      "940:\tlearn: 0.1901219\ttotal: 1.68s\tremaining: 106ms\n",
      "941:\tlearn: 0.1898786\ttotal: 1.68s\tremaining: 104ms\n",
      "942:\tlearn: 0.1897261\ttotal: 1.69s\tremaining: 102ms\n",
      "943:\tlearn: 0.1895972\ttotal: 1.69s\tremaining: 100ms\n",
      "944:\tlearn: 0.1894225\ttotal: 1.69s\tremaining: 98.3ms\n",
      "945:\tlearn: 0.1892890\ttotal: 1.69s\tremaining: 96.5ms\n",
      "946:\tlearn: 0.1890974\ttotal: 1.69s\tremaining: 94.7ms\n",
      "947:\tlearn: 0.1889145\ttotal: 1.69s\tremaining: 92.9ms\n",
      "948:\tlearn: 0.1887810\ttotal: 1.69s\tremaining: 91.1ms\n",
      "949:\tlearn: 0.1886057\ttotal: 1.7s\tremaining: 89.3ms\n",
      "950:\tlearn: 0.1883903\ttotal: 1.7s\tremaining: 87.5ms\n",
      "951:\tlearn: 0.1881679\ttotal: 1.7s\tremaining: 85.7ms\n",
      "952:\tlearn: 0.1879826\ttotal: 1.7s\tremaining: 83.9ms\n",
      "953:\tlearn: 0.1877860\ttotal: 1.7s\tremaining: 82.1ms\n",
      "954:\tlearn: 0.1876517\ttotal: 1.7s\tremaining: 80.3ms\n",
      "955:\tlearn: 0.1875720\ttotal: 1.71s\tremaining: 78.5ms\n",
      "956:\tlearn: 0.1873917\ttotal: 1.71s\tremaining: 76.7ms\n",
      "957:\tlearn: 0.1871654\ttotal: 1.71s\tremaining: 74.9ms\n",
      "958:\tlearn: 0.1869317\ttotal: 1.71s\tremaining: 73.1ms\n",
      "959:\tlearn: 0.1868060\ttotal: 1.71s\tremaining: 71.3ms\n",
      "960:\tlearn: 0.1867242\ttotal: 1.71s\tremaining: 69.5ms\n",
      "961:\tlearn: 0.1865974\ttotal: 1.71s\tremaining: 67.7ms\n",
      "962:\tlearn: 0.1864152\ttotal: 1.72s\tremaining: 65.9ms\n",
      "963:\tlearn: 0.1862680\ttotal: 1.72s\tremaining: 64.1ms\n",
      "964:\tlearn: 0.1861528\ttotal: 1.72s\tremaining: 62.3ms\n",
      "965:\tlearn: 0.1860358\ttotal: 1.72s\tremaining: 60.5ms\n",
      "966:\tlearn: 0.1858259\ttotal: 1.72s\tremaining: 58.7ms\n",
      "967:\tlearn: 0.1856142\ttotal: 1.72s\tremaining: 57ms\n",
      "968:\tlearn: 0.1855077\ttotal: 1.73s\tremaining: 55.3ms\n",
      "969:\tlearn: 0.1853081\ttotal: 1.73s\tremaining: 53.5ms\n",
      "970:\tlearn: 0.1851073\ttotal: 1.73s\tremaining: 51.7ms\n",
      "971:\tlearn: 0.1848909\ttotal: 1.73s\tremaining: 49.9ms\n",
      "972:\tlearn: 0.1847253\ttotal: 1.73s\tremaining: 48.1ms\n",
      "973:\tlearn: 0.1845501\ttotal: 1.74s\tremaining: 46.3ms\n",
      "974:\tlearn: 0.1843865\ttotal: 1.74s\tremaining: 44.5ms\n",
      "975:\tlearn: 0.1841164\ttotal: 1.74s\tremaining: 42.7ms\n",
      "976:\tlearn: 0.1839721\ttotal: 1.74s\tremaining: 41ms\n",
      "977:\tlearn: 0.1837798\ttotal: 1.74s\tremaining: 39.2ms\n",
      "978:\tlearn: 0.1835130\ttotal: 1.74s\tremaining: 37.4ms\n",
      "979:\tlearn: 0.1833998\ttotal: 1.74s\tremaining: 35.6ms\n",
      "980:\tlearn: 0.1833065\ttotal: 1.75s\tremaining: 33.8ms\n",
      "981:\tlearn: 0.1831911\ttotal: 1.75s\tremaining: 32ms\n",
      "982:\tlearn: 0.1830952\ttotal: 1.75s\tremaining: 30.2ms\n",
      "983:\tlearn: 0.1829917\ttotal: 1.75s\tremaining: 28.5ms\n",
      "984:\tlearn: 0.1828131\ttotal: 1.75s\tremaining: 26.7ms\n",
      "985:\tlearn: 0.1826718\ttotal: 1.75s\tremaining: 24.9ms\n",
      "986:\tlearn: 0.1823880\ttotal: 1.75s\tremaining: 23.1ms\n",
      "987:\tlearn: 0.1822665\ttotal: 1.76s\tremaining: 21.3ms\n",
      "988:\tlearn: 0.1820311\ttotal: 1.76s\tremaining: 19.6ms\n",
      "989:\tlearn: 0.1819316\ttotal: 1.76s\tremaining: 17.8ms\n",
      "990:\tlearn: 0.1817180\ttotal: 1.76s\tremaining: 16ms\n",
      "991:\tlearn: 0.1815361\ttotal: 1.76s\tremaining: 14.2ms\n",
      "992:\tlearn: 0.1814547\ttotal: 1.76s\tremaining: 12.4ms\n",
      "993:\tlearn: 0.1812044\ttotal: 1.76s\tremaining: 10.7ms\n",
      "994:\tlearn: 0.1809806\ttotal: 1.77s\tremaining: 8.88ms\n",
      "995:\tlearn: 0.1807929\ttotal: 1.77s\tremaining: 7.1ms\n",
      "996:\tlearn: 0.1806601\ttotal: 1.77s\tremaining: 5.33ms\n",
      "997:\tlearn: 0.1804970\ttotal: 1.77s\tremaining: 3.55ms\n",
      "998:\tlearn: 0.1803214\ttotal: 1.77s\tremaining: 1.77ms\n",
      "999:\tlearn: 0.1802698\ttotal: 1.77s\tremaining: 0us\n"
     ]
    },
    {
     "data": {
      "text/plain": [
       "0.7633333333333333"
      ]
     },
     "execution_count": 42,
     "metadata": {},
     "output_type": "execute_result"
    }
   ],
   "source": [
    "from catboost import CatBoostClassifier\n",
    "clf = CatBoostClassifier()\n",
    "clf.fit(train_X, train_Y)\n",
    "predictions = clf.predict(test_X)\n",
    "accuracy_score(test_Y, predictions)"
   ]
  },
  {
   "cell_type": "code",
   "execution_count": 53,
   "metadata": {},
   "outputs": [
    {
     "data": {
      "text/plain": [
       "0.74"
      ]
     },
     "execution_count": 53,
     "metadata": {},
     "output_type": "execute_result"
    }
   ],
   "source": [
    "import lightgbm as lgb\n",
    "clf = lgb.LGBMClassifier().fit(train_X, train_Y)\n",
    "ypred = clf.predict(test_X)\n",
    "accuracy_score(test_Y, ypred)"
   ]
  }
 ],
 "metadata": {
  "kernelspec": {
   "display_name": "Python 3",
   "language": "python",
   "name": "python3"
  },
  "language_info": {
   "codemirror_mode": {
    "name": "ipython",
    "version": 3
   },
   "file_extension": ".py",
   "mimetype": "text/x-python",
   "name": "python",
   "nbconvert_exporter": "python",
   "pygments_lexer": "ipython3",
   "version": "3.7.9"
  }
 },
 "nbformat": 4,
 "nbformat_minor": 4
}
