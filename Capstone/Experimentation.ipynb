{
 "cells": [
  {
   "cell_type": "markdown",
   "metadata": {},
   "source": [
    "# Model Experimentation\n",
    "\n",
    "The aim of this stage is to develop a pipeline to create ML models for the task of recommending products to the users. The goal is to choose the best performing model on the defined metrics and save it for online consumption. I will be using the recommendations specific surprise package and scikit-learn for model development."
   ]
  },
  {
   "cell_type": "markdown",
   "metadata": {},
   "source": [
    "## Load the csv file and convert it into a user - product matrix"
   ]
  },
  {
   "cell_type": "code",
   "execution_count": 1,
   "metadata": {},
   "outputs": [],
   "source": [
    "import pandas as pd\n",
    "from surprise import KNNWithMeans\n",
    "from surprise import Dataset\n",
    "from surprise import accuracy\n",
    "from surprise import Reader\n",
    "from surprise.model_selection import train_test_split"
   ]
  },
  {
   "cell_type": "code",
   "execution_count": 2,
   "metadata": {},
   "outputs": [],
   "source": [
    "dataset = pd.read_csv('product_review_dataset.csv')"
   ]
  },
  {
   "cell_type": "code",
   "execution_count": 3,
   "metadata": {},
   "outputs": [],
   "source": [
    "dataset_for_knn = dataset.drop(['Unnamed: 0'], axis=1)"
   ]
  },
  {
   "cell_type": "code",
   "execution_count": 4,
   "metadata": {},
   "outputs": [
    {
     "name": "stdout",
     "output_type": "stream",
     "text": [
      "userId       71894\n",
      "productId     5198\n",
      "rating           4\n",
      "dtype: int64\n"
     ]
    }
   ],
   "source": [
    "# Removing all users who have not provided more than 1 rating\n",
    "filtered_df = dataset_for_knn.groupby('userId').filter(lambda x : len(x) > 1)\n",
    "n_users = filtered_df.nunique()[0]\n",
    "n_items = filtered_df.nunique()[1]\n",
    "print(filtered_df.nunique())"
   ]
  },
  {
   "cell_type": "code",
   "execution_count": 5,
   "metadata": {},
   "outputs": [
    {
     "data": {
      "text/plain": [
       "<matplotlib.axes._subplots.AxesSubplot at 0x7fef23bd4f10>"
      ]
     },
     "execution_count": 5,
     "metadata": {},
     "output_type": "execute_result"
    },
    {
     "data": {
      "image/png": "[encoded data removed]",
      "text/plain": [
       "<Figure size 432x288 with 1 Axes>"
      ]
     },
     "metadata": {
      "needs_background": "light"
     },
     "output_type": "display_data"
    }
   ],
   "source": [
    "filtered_df = filtered_df.drop(filtered_df.query('rating == 5').sample(frac=0.4).index)\n",
    "filtered_df['rating'].hist()"
   ]
  },
  {
   "cell_type": "code",
   "execution_count": 6,
   "metadata": {},
   "outputs": [
    {
     "data": {
      "text/plain": [
       "(129909, 3)"
      ]
     },
     "execution_count": 6,
     "metadata": {},
     "output_type": "execute_result"
    }
   ],
   "source": [
    "filtered_df.shape"
   ]
  },
  {
   "cell_type": "code",
   "execution_count": 9,
   "metadata": {},
   "outputs": [],
   "source": [
    "# Convert the data to surprise dataset\n",
    "reader = Reader(rating_scale=(1,5))\n",
    "data = Dataset.load_from_df(filtered_df, reader)"
   ]
  },
  {
   "cell_type": "code",
   "execution_count": 10,
   "metadata": {},
   "outputs": [],
   "source": [
    "# Split the data into trainset and testset\n",
    "trainset, testset = train_test_split(data, test_size=0.3, random_state=10)"
   ]
  },
  {
   "cell_type": "code",
   "execution_count": 11,
   "metadata": {},
   "outputs": [],
   "source": [
    "# Building the matrix for collaborative filtering\n",
    "matrix_for_cf = filtered_df.pivot_table(values='rating', index='userId', columns='productId', fill_value=0)"
   ]
  },
  {
   "cell_type": "code",
   "execution_count": 12,
   "metadata": {},
   "outputs": [
    {
     "data": {
      "text/html": [
       "<div>\n",
       "<style scoped>\n",
       "    .dataframe tbody tr th:only-of-type {\n",
       "        vertical-align: middle;\n",
       "    }\n",
       "\n",
       "    .dataframe tbody tr th {\n",
       "        vertical-align: top;\n",
       "    }\n",
       "\n",
       "    .dataframe thead th {\n",
       "        text-align: right;\n",
       "    }\n",
       "</style>\n",
       "<table border=\"1\" class=\"dataframe\">\n",
       "  <thead>\n",
       "    <tr style=\"text-align: right;\">\n",
       "      <th>productId</th>\n",
       "      <th>0140503528</th>\n",
       "      <th>0245109919</th>\n",
       "      <th>030794655X</th>\n",
       "      <th>0310432065</th>\n",
       "      <th>0310520347</th>\n",
       "      <th>0310802636</th>\n",
       "      <th>0310806607</th>\n",
       "      <th>0310806615</th>\n",
       "      <th>0310818605</th>\n",
       "      <th>0310818621</th>\n",
       "      <th>...</th>\n",
       "      <th>B000A0WM2O</th>\n",
       "      <th>B000A1A900</th>\n",
       "      <th>B000A2AH0Q</th>\n",
       "      <th>B000A2AHUG</th>\n",
       "      <th>B000A2BJ1W</th>\n",
       "      <th>B000A2BJ44</th>\n",
       "      <th>B000A2BJ76</th>\n",
       "      <th>B000A2BJC6</th>\n",
       "      <th>B000A2BKAM</th>\n",
       "      <th>B000A2BKG6</th>\n",
       "    </tr>\n",
       "    <tr>\n",
       "      <th>userId</th>\n",
       "      <th></th>\n",
       "      <th></th>\n",
       "      <th></th>\n",
       "      <th></th>\n",
       "      <th></th>\n",
       "      <th></th>\n",
       "      <th></th>\n",
       "      <th></th>\n",
       "      <th></th>\n",
       "      <th></th>\n",
       "      <th></th>\n",
       "      <th></th>\n",
       "      <th></th>\n",
       "      <th></th>\n",
       "      <th></th>\n",
       "      <th></th>\n",
       "      <th></th>\n",
       "      <th></th>\n",
       "      <th></th>\n",
       "      <th></th>\n",
       "      <th></th>\n",
       "    </tr>\n",
       "  </thead>\n",
       "  <tbody>\n",
       "    <tr>\n",
       "      <th>A01003458IEUPS8LQ1QU</th>\n",
       "      <td>0</td>\n",
       "      <td>0</td>\n",
       "      <td>0</td>\n",
       "      <td>0</td>\n",
       "      <td>0</td>\n",
       "      <td>0</td>\n",
       "      <td>0</td>\n",
       "      <td>0</td>\n",
       "      <td>0</td>\n",
       "      <td>0</td>\n",
       "      <td>...</td>\n",
       "      <td>0</td>\n",
       "      <td>0</td>\n",
       "      <td>0</td>\n",
       "      <td>0</td>\n",
       "      <td>0</td>\n",
       "      <td>0</td>\n",
       "      <td>0</td>\n",
       "      <td>0</td>\n",
       "      <td>0</td>\n",
       "      <td>0</td>\n",
       "    </tr>\n",
       "    <tr>\n",
       "      <th>A0203183BAH3TR08FZGB</th>\n",
       "      <td>0</td>\n",
       "      <td>0</td>\n",
       "      <td>0</td>\n",
       "      <td>0</td>\n",
       "      <td>0</td>\n",
       "      <td>0</td>\n",
       "      <td>0</td>\n",
       "      <td>0</td>\n",
       "      <td>0</td>\n",
       "      <td>0</td>\n",
       "      <td>...</td>\n",
       "      <td>0</td>\n",
       "      <td>0</td>\n",
       "      <td>0</td>\n",
       "      <td>0</td>\n",
       "      <td>0</td>\n",
       "      <td>0</td>\n",
       "      <td>0</td>\n",
       "      <td>0</td>\n",
       "      <td>0</td>\n",
       "      <td>0</td>\n",
       "    </tr>\n",
       "    <tr>\n",
       "      <th>A0220159ZRNBTRKLG08H</th>\n",
       "      <td>0</td>\n",
       "      <td>0</td>\n",
       "      <td>0</td>\n",
       "      <td>0</td>\n",
       "      <td>0</td>\n",
       "      <td>0</td>\n",
       "      <td>0</td>\n",
       "      <td>0</td>\n",
       "      <td>0</td>\n",
       "      <td>0</td>\n",
       "      <td>...</td>\n",
       "      <td>0</td>\n",
       "      <td>0</td>\n",
       "      <td>0</td>\n",
       "      <td>0</td>\n",
       "      <td>0</td>\n",
       "      <td>0</td>\n",
       "      <td>0</td>\n",
       "      <td>0</td>\n",
       "      <td>0</td>\n",
       "      <td>0</td>\n",
       "    </tr>\n",
       "    <tr>\n",
       "      <th>A03492194F0T997EZQ04</th>\n",
       "      <td>0</td>\n",
       "      <td>0</td>\n",
       "      <td>0</td>\n",
       "      <td>0</td>\n",
       "      <td>0</td>\n",
       "      <td>0</td>\n",
       "      <td>0</td>\n",
       "      <td>0</td>\n",
       "      <td>0</td>\n",
       "      <td>0</td>\n",
       "      <td>...</td>\n",
       "      <td>0</td>\n",
       "      <td>0</td>\n",
       "      <td>0</td>\n",
       "      <td>0</td>\n",
       "      <td>0</td>\n",
       "      <td>0</td>\n",
       "      <td>0</td>\n",
       "      <td>0</td>\n",
       "      <td>0</td>\n",
       "      <td>0</td>\n",
       "    </tr>\n",
       "    <tr>\n",
       "      <th>A040523674DKGFN0QEEQ</th>\n",
       "      <td>0</td>\n",
       "      <td>0</td>\n",
       "      <td>0</td>\n",
       "      <td>0</td>\n",
       "      <td>0</td>\n",
       "      <td>0</td>\n",
       "      <td>0</td>\n",
       "      <td>0</td>\n",
       "      <td>0</td>\n",
       "      <td>0</td>\n",
       "      <td>...</td>\n",
       "      <td>0</td>\n",
       "      <td>0</td>\n",
       "      <td>0</td>\n",
       "      <td>0</td>\n",
       "      <td>0</td>\n",
       "      <td>0</td>\n",
       "      <td>0</td>\n",
       "      <td>0</td>\n",
       "      <td>0</td>\n",
       "      <td>0</td>\n",
       "    </tr>\n",
       "    <tr>\n",
       "      <th>...</th>\n",
       "      <td>...</td>\n",
       "      <td>...</td>\n",
       "      <td>...</td>\n",
       "      <td>...</td>\n",
       "      <td>...</td>\n",
       "      <td>...</td>\n",
       "      <td>...</td>\n",
       "      <td>...</td>\n",
       "      <td>...</td>\n",
       "      <td>...</td>\n",
       "      <td>...</td>\n",
       "      <td>...</td>\n",
       "      <td>...</td>\n",
       "      <td>...</td>\n",
       "      <td>...</td>\n",
       "      <td>...</td>\n",
       "      <td>...</td>\n",
       "      <td>...</td>\n",
       "      <td>...</td>\n",
       "      <td>...</td>\n",
       "      <td>...</td>\n",
       "    </tr>\n",
       "    <tr>\n",
       "      <th>AZZLGDNQDCBSV</th>\n",
       "      <td>0</td>\n",
       "      <td>0</td>\n",
       "      <td>0</td>\n",
       "      <td>0</td>\n",
       "      <td>0</td>\n",
       "      <td>0</td>\n",
       "      <td>0</td>\n",
       "      <td>0</td>\n",
       "      <td>0</td>\n",
       "      <td>0</td>\n",
       "      <td>...</td>\n",
       "      <td>0</td>\n",
       "      <td>0</td>\n",
       "      <td>0</td>\n",
       "      <td>0</td>\n",
       "      <td>0</td>\n",
       "      <td>0</td>\n",
       "      <td>0</td>\n",
       "      <td>0</td>\n",
       "      <td>0</td>\n",
       "      <td>0</td>\n",
       "    </tr>\n",
       "    <tr>\n",
       "      <th>AZZRRYBQG57LF</th>\n",
       "      <td>0</td>\n",
       "      <td>0</td>\n",
       "      <td>0</td>\n",
       "      <td>0</td>\n",
       "      <td>0</td>\n",
       "      <td>0</td>\n",
       "      <td>0</td>\n",
       "      <td>0</td>\n",
       "      <td>0</td>\n",
       "      <td>0</td>\n",
       "      <td>...</td>\n",
       "      <td>0</td>\n",
       "      <td>0</td>\n",
       "      <td>0</td>\n",
       "      <td>0</td>\n",
       "      <td>0</td>\n",
       "      <td>0</td>\n",
       "      <td>0</td>\n",
       "      <td>0</td>\n",
       "      <td>0</td>\n",
       "      <td>0</td>\n",
       "    </tr>\n",
       "    <tr>\n",
       "      <th>AZZSHWHHCLQS</th>\n",
       "      <td>0</td>\n",
       "      <td>0</td>\n",
       "      <td>0</td>\n",
       "      <td>0</td>\n",
       "      <td>0</td>\n",
       "      <td>0</td>\n",
       "      <td>0</td>\n",
       "      <td>0</td>\n",
       "      <td>0</td>\n",
       "      <td>0</td>\n",
       "      <td>...</td>\n",
       "      <td>0</td>\n",
       "      <td>0</td>\n",
       "      <td>0</td>\n",
       "      <td>0</td>\n",
       "      <td>0</td>\n",
       "      <td>0</td>\n",
       "      <td>0</td>\n",
       "      <td>0</td>\n",
       "      <td>0</td>\n",
       "      <td>0</td>\n",
       "    </tr>\n",
       "    <tr>\n",
       "      <th>AZZVMAAPAZU6D</th>\n",
       "      <td>0</td>\n",
       "      <td>0</td>\n",
       "      <td>0</td>\n",
       "      <td>0</td>\n",
       "      <td>0</td>\n",
       "      <td>0</td>\n",
       "      <td>0</td>\n",
       "      <td>0</td>\n",
       "      <td>0</td>\n",
       "      <td>0</td>\n",
       "      <td>...</td>\n",
       "      <td>0</td>\n",
       "      <td>0</td>\n",
       "      <td>0</td>\n",
       "      <td>0</td>\n",
       "      <td>0</td>\n",
       "      <td>0</td>\n",
       "      <td>0</td>\n",
       "      <td>0</td>\n",
       "      <td>0</td>\n",
       "      <td>0</td>\n",
       "    </tr>\n",
       "    <tr>\n",
       "      <th>AZZYGB3DSML0J</th>\n",
       "      <td>0</td>\n",
       "      <td>0</td>\n",
       "      <td>0</td>\n",
       "      <td>0</td>\n",
       "      <td>0</td>\n",
       "      <td>0</td>\n",
       "      <td>0</td>\n",
       "      <td>0</td>\n",
       "      <td>0</td>\n",
       "      <td>0</td>\n",
       "      <td>...</td>\n",
       "      <td>0</td>\n",
       "      <td>0</td>\n",
       "      <td>0</td>\n",
       "      <td>0</td>\n",
       "      <td>0</td>\n",
       "      <td>0</td>\n",
       "      <td>0</td>\n",
       "      <td>0</td>\n",
       "      <td>0</td>\n",
       "      <td>0</td>\n",
       "    </tr>\n",
       "  </tbody>\n",
       "</table>\n",
       "<p>65960 rows × 4909 columns</p>\n",
       "</div>"
      ],
      "text/plain": [
       "productId             0140503528  0245109919  030794655X  0310432065  \\\n",
       "userId                                                                 \n",
       "A01003458IEUPS8LQ1QU           0           0           0           0   \n",
       "A0203183BAH3TR08FZGB           0           0           0           0   \n",
       "A0220159ZRNBTRKLG08H           0           0           0           0   \n",
       "A03492194F0T997EZQ04           0           0           0           0   \n",
       "A040523674DKGFN0QEEQ           0           0           0           0   \n",
       "...                          ...         ...         ...         ...   \n",
       "AZZLGDNQDCBSV                  0           0           0           0   \n",
       "AZZRRYBQG57LF                  0           0           0           0   \n",
       "AZZSHWHHCLQS                   0           0           0           0   \n",
       "AZZVMAAPAZU6D                  0           0           0           0   \n",
       "AZZYGB3DSML0J                  0           0           0           0   \n",
       "\n",
       "productId             0310520347  0310802636  0310806607  0310806615  \\\n",
       "userId                                                                 \n",
       "A01003458IEUPS8LQ1QU           0           0           0           0   \n",
       "A0203183BAH3TR08FZGB           0           0           0           0   \n",
       "A0220159ZRNBTRKLG08H           0           0           0           0   \n",
       "A03492194F0T997EZQ04           0           0           0           0   \n",
       "A040523674DKGFN0QEEQ           0           0           0           0   \n",
       "...                          ...         ...         ...         ...   \n",
       "AZZLGDNQDCBSV                  0           0           0           0   \n",
       "AZZRRYBQG57LF                  0           0           0           0   \n",
       "AZZSHWHHCLQS                   0           0           0           0   \n",
       "AZZVMAAPAZU6D                  0           0           0           0   \n",
       "AZZYGB3DSML0J                  0           0           0           0   \n",
       "\n",
       "productId             0310818605  0310818621  ...  B000A0WM2O  B000A1A900  \\\n",
       "userId                                        ...                           \n",
       "A01003458IEUPS8LQ1QU           0           0  ...           0           0   \n",
       "A0203183BAH3TR08FZGB           0           0  ...           0           0   \n",
       "A0220159ZRNBTRKLG08H           0           0  ...           0           0   \n",
       "A03492194F0T997EZQ04           0           0  ...           0           0   \n",
       "A040523674DKGFN0QEEQ           0           0  ...           0           0   \n",
       "...                          ...         ...  ...         ...         ...   \n",
       "AZZLGDNQDCBSV                  0           0  ...           0           0   \n",
       "AZZRRYBQG57LF                  0           0  ...           0           0   \n",
       "AZZSHWHHCLQS                   0           0  ...           0           0   \n",
       "AZZVMAAPAZU6D                  0           0  ...           0           0   \n",
       "AZZYGB3DSML0J                  0           0  ...           0           0   \n",
       "\n",
       "productId             B000A2AH0Q  B000A2AHUG  B000A2BJ1W  B000A2BJ44  \\\n",
       "userId                                                                 \n",
       "A01003458IEUPS8LQ1QU           0           0           0           0   \n",
       "A0203183BAH3TR08FZGB           0           0           0           0   \n",
       "A0220159ZRNBTRKLG08H           0           0           0           0   \n",
       "A03492194F0T997EZQ04           0           0           0           0   \n",
       "A040523674DKGFN0QEEQ           0           0           0           0   \n",
       "...                          ...         ...         ...         ...   \n",
       "AZZLGDNQDCBSV                  0           0           0           0   \n",
       "AZZRRYBQG57LF                  0           0           0           0   \n",
       "AZZSHWHHCLQS                   0           0           0           0   \n",
       "AZZVMAAPAZU6D                  0           0           0           0   \n",
       "AZZYGB3DSML0J                  0           0           0           0   \n",
       "\n",
       "productId             B000A2BJ76  B000A2BJC6  B000A2BKAM  B000A2BKG6  \n",
       "userId                                                                \n",
       "A01003458IEUPS8LQ1QU           0           0           0           0  \n",
       "A0203183BAH3TR08FZGB           0           0           0           0  \n",
       "A0220159ZRNBTRKLG08H           0           0           0           0  \n",
       "A03492194F0T997EZQ04           0           0           0           0  \n",
       "A040523674DKGFN0QEEQ           0           0           0           0  \n",
       "...                          ...         ...         ...         ...  \n",
       "AZZLGDNQDCBSV                  0           0           0           0  \n",
       "AZZRRYBQG57LF                  0           0           0           0  \n",
       "AZZSHWHHCLQS                   0           0           0           0  \n",
       "AZZVMAAPAZU6D                  0           0           0           0  \n",
       "AZZYGB3DSML0J                  0           0           0           0  \n",
       "\n",
       "[65960 rows x 4909 columns]"
      ]
     },
     "execution_count": 12,
     "metadata": {},
     "output_type": "execute_result"
    }
   ],
   "source": [
    "matrix_for_cf = matrix_for_cf.astype('uint8')\n",
    "matrix_for_cf"
   ]
  },
  {
   "cell_type": "markdown",
   "metadata": {},
   "source": [
    "## Baseline Models"
   ]
  },
  {
   "cell_type": "code",
   "execution_count": 13,
   "metadata": {},
   "outputs": [
    {
     "data": {
      "text/plain": [
       "Index(['B00006IE7J', 'B00005249G', 'B00006IEEV', 'B00004Z5WK', 'B00002NDS3',\n",
       "       'B00006JNJD', 'B00006IFAY', 'B00002NDRX', 'B00006IFI5', 'B00002NDRT'],\n",
       "      dtype='object', name='productId')"
      ]
     },
     "execution_count": 13,
     "metadata": {},
     "output_type": "execute_result"
    }
   ],
   "source": [
    "# Popular Products\n",
    "item_counts = filtered_df.groupby('productId').count().sort_values(ascending=False, by='rating')[:10]\n",
    "item_counts.index"
   ]
  },
  {
   "cell_type": "markdown",
   "metadata": {},
   "source": [
    "## Memory Based Collaborative Filtering Method"
   ]
  },
  {
   "cell_type": "code",
   "execution_count": 14,
   "metadata": {},
   "outputs": [],
   "source": [
    "from sklearn.metrics.pairwise import cosine_similarity\n",
    "from sklearn.metrics import mean_squared_error\n",
    "import numpy as np"
   ]
  },
  {
   "cell_type": "code",
   "execution_count": 15,
   "metadata": {},
   "outputs": [],
   "source": [
    "def memory_based_top_ten(predicted, userId):\n",
    "    return predicted[predicted.index == userId].T.sort_values(by = [userId], ascending=False).index[:10]"
   ]
  },
  {
   "cell_type": "code",
   "execution_count": 16,
   "metadata": {},
   "outputs": [],
   "source": [
    "similarities = cosine_similarity(matrix_for_cf.T)"
   ]
  },
  {
   "cell_type": "code",
   "execution_count": 17,
   "metadata": {},
   "outputs": [
    {
     "data": {
      "text/plain": [
       "(4909, 4909)"
      ]
     },
     "execution_count": 17,
     "metadata": {},
     "output_type": "execute_result"
    }
   ],
   "source": [
    "similarities.shape"
   ]
  },
  {
   "cell_type": "code",
   "execution_count": 18,
   "metadata": {},
   "outputs": [],
   "source": [
    "predicted_ratings =  (matrix_for_cf.dot(similarities) / np.array([np.abs(similarities).sum(axis=1)]))"
   ]
  },
  {
   "cell_type": "code",
   "execution_count": 19,
   "metadata": {},
   "outputs": [
    {
     "data": {
      "text/plain": [
       "3.0363683173243246"
      ]
     },
     "execution_count": 19,
     "metadata": {},
     "output_type": "execute_result"
    }
   ],
   "source": [
    "predicted = predicted_ratings.to_numpy()[matrix_for_cf.to_numpy().nonzero()].flatten()\n",
    "actual = matrix_for_cf.to_numpy()[matrix_for_cf.to_numpy().nonzero()].flatten()\n",
    "rmse = (mean_squared_error(predicted, actual) ** 0.5)\n",
    "rmse"
   ]
  },
  {
   "cell_type": "code",
   "execution_count": 20,
   "metadata": {},
   "outputs": [
    {
     "data": {
      "text/plain": [
       "Index(['B00006RSO4', 'B0006HVURE', '1604189541', 'B00004Z61K', 'B0006HWSK2',\n",
       "       'B00006RSTI', 'B00016ZL52', 'B000083E4W', 'B00006JNMN', 'B00006IEE3'],\n",
       "      dtype='object', name='productId')"
      ]
     },
     "execution_count": 20,
     "metadata": {},
     "output_type": "execute_result"
    }
   ],
   "source": [
    "matrix_for_cf.columns[memory_based_top_ten(predicted_ratings, \"AZZYGB3DSML0J\")]"
   ]
  },
  {
   "cell_type": "markdown",
   "metadata": {},
   "source": [
    "Memory based collaborative filtering involves no training or optimization and the results get worse as the data gets sparser. It is better to use scalable model based method for recommendation.  "
   ]
  },
  {
   "cell_type": "markdown",
   "metadata": {},
   "source": [
    "## Model Based Collaborative Filtering Method "
   ]
  },
  {
   "cell_type": "markdown",
   "metadata": {},
   "source": [
    "### Clustering Based - KNN\n",
    "\n",
    "This method takes a single product as input and produces output of 10 products which are similar to it."
   ]
  },
  {
   "cell_type": "code",
   "execution_count": 21,
   "metadata": {},
   "outputs": [],
   "source": [
    "from sklearn.neighbors import NearestNeighbors"
   ]
  },
  {
   "cell_type": "code",
   "execution_count": 22,
   "metadata": {},
   "outputs": [],
   "source": [
    "def ten_similar_products(model, ratings_matrix, productId):\n",
    "    index = np.where(ratings_matrix.columns == productId)\n",
    "    distances, indices = model.kneighbors([ratings_matrix.iloc[:, index[0][0]].to_numpy()], n_neighbors=11)\n",
    "    return ratings_matrix.iloc[:, indices[0]].columns"
   ]
  },
  {
   "cell_type": "code",
   "execution_count": 23,
   "metadata": {},
   "outputs": [
    {
     "data": {
      "text/plain": [
       "NearestNeighbors(algorithm='brute', metric='cosine', n_jobs=-1, n_neighbors=20)"
      ]
     },
     "execution_count": 23,
     "metadata": {},
     "output_type": "execute_result"
    }
   ],
   "source": [
    "model_knn = NearestNeighbors(metric='cosine', algorithm='brute', n_neighbors=20, n_jobs=-1)\n",
    "model_knn.fit(matrix_for_cf.T)"
   ]
  },
  {
   "cell_type": "code",
   "execution_count": 24,
   "metadata": {},
   "outputs": [
    {
     "data": {
      "text/plain": [
       "(65960, 4909)"
      ]
     },
     "execution_count": 24,
     "metadata": {},
     "output_type": "execute_result"
    }
   ],
   "source": [
    "matrix_for_cf.shape"
   ]
  },
  {
   "cell_type": "code",
   "execution_count": 25,
   "metadata": {},
   "outputs": [
    {
     "data": {
      "text/plain": [
       "Index(['0140503528', 'B00006IC8M', 'B0006HVEAW', '1439716048', 'B0003WN0DO',\n",
       "       'B00006IF6E', 'B00006IF79', 'B0000AQOFM', 'B0000AQOFN', 'B0000AQOFL',\n",
       "       'B0000AQOGQ'],\n",
       "      dtype='object', name='productId')"
      ]
     },
     "execution_count": 25,
     "metadata": {},
     "output_type": "execute_result"
    }
   ],
   "source": [
    "ten_similar_products(model_knn, matrix_for_cf, '0140503528')"
   ]
  },
  {
   "cell_type": "markdown",
   "metadata": {},
   "source": [
    "### Matrix Factorization Based"
   ]
  },
  {
   "cell_type": "code",
   "execution_count": 26,
   "metadata": {},
   "outputs": [],
   "source": [
    "from surprise import SVD\n",
    "from surprise import SVDpp\n",
    "from surprise import NMF\n",
    "from surprise.model_selection import cross_validate"
   ]
  },
  {
   "cell_type": "code",
   "execution_count": 27,
   "metadata": {},
   "outputs": [],
   "source": [
    "def top_ten(predicted_df, userId):\n",
    "    return predicted_df[predicted_df[\"uid\"] == userId].sort_values(by = ['est'], ascending=False)[:10][['iid', 'r_ui', 'est']]"
   ]
  },
  {
   "cell_type": "code",
   "execution_count": 28,
   "metadata": {},
   "outputs": [],
   "source": [
    "trainset_small, testset_large = train_test_split(data, test_size=0.8, random_state=10)"
   ]
  },
  {
   "cell_type": "code",
   "execution_count": 29,
   "metadata": {},
   "outputs": [],
   "source": [
    "# SVD - Singular Value Decomposition\n",
    "algo = SVD(10)"
   ]
  },
  {
   "cell_type": "code",
   "execution_count": 30,
   "metadata": {},
   "outputs": [
    {
     "name": "stdout",
     "output_type": "stream",
     "text": [
      "Evaluating RMSE, MAE of algorithm SVD on 5 split(s).\n",
      "\n",
      "                  Fold 1  Fold 2  Fold 3  Fold 4  Fold 5  Mean    Std     \n",
      "RMSE (testset)    0.7663  0.7680  0.7712  0.7636  0.7691  0.7676  0.0026  \n",
      "MAE (testset)     0.5946  0.5928  0.5968  0.5929  0.5975  0.5949  0.0019  \n",
      "Fit time          4.05    4.56    4.52    4.36    4.30    4.36    0.18    \n",
      "Test time         0.74    0.40    0.41    0.39    0.37    0.46    0.14    \n"
     ]
    },
    {
     "data": {
      "text/plain": [
       "{'test_rmse': array([0.76629851, 0.76800638, 0.77124946, 0.76358806, 0.76909275]),\n",
       " 'test_mae': array([0.59459699, 0.59278437, 0.59677634, 0.59289644, 0.59751238]),\n",
       " 'fit_time': (4.05234694480896,\n",
       "  4.558382511138916,\n",
       "  4.522502660751343,\n",
       "  4.3647918701171875,\n",
       "  4.300334930419922),\n",
       " 'test_time': (0.7448892593383789,\n",
       "  0.40000009536743164,\n",
       "  0.40545654296875,\n",
       "  0.389362096786499,\n",
       "  0.3692207336425781)}"
      ]
     },
     "execution_count": 30,
     "metadata": {},
     "output_type": "execute_result"
    }
   ],
   "source": [
    "cross_validate(algo, data, measures=['RMSE', 'MAE'], cv=5, verbose=True)"
   ]
  },
  {
   "cell_type": "code",
   "execution_count": 31,
   "metadata": {},
   "outputs": [],
   "source": [
    "predictions = algo.fit(trainset).test(testset_large)"
   ]
  },
  {
   "cell_type": "code",
   "execution_count": 32,
   "metadata": {},
   "outputs": [
    {
     "data": {
      "text/html": [
       "<div>\n",
       "<style scoped>\n",
       "    .dataframe tbody tr th:only-of-type {\n",
       "        vertical-align: middle;\n",
       "    }\n",
       "\n",
       "    .dataframe tbody tr th {\n",
       "        vertical-align: top;\n",
       "    }\n",
       "\n",
       "    .dataframe thead th {\n",
       "        text-align: right;\n",
       "    }\n",
       "</style>\n",
       "<table border=\"1\" class=\"dataframe\">\n",
       "  <thead>\n",
       "    <tr style=\"text-align: right;\">\n",
       "      <th></th>\n",
       "      <th>iid</th>\n",
       "      <th>r_ui</th>\n",
       "      <th>est</th>\n",
       "    </tr>\n",
       "  </thead>\n",
       "  <tbody>\n",
       "    <tr>\n",
       "      <th>53031</th>\n",
       "      <td>B00006IE2I</td>\n",
       "      <td>5.0</td>\n",
       "      <td>5.0</td>\n",
       "    </tr>\n",
       "    <tr>\n",
       "      <th>62296</th>\n",
       "      <td>B00006IE2L</td>\n",
       "      <td>5.0</td>\n",
       "      <td>5.0</td>\n",
       "    </tr>\n",
       "    <tr>\n",
       "      <th>7139</th>\n",
       "      <td>B00002NDRX</td>\n",
       "      <td>5.0</td>\n",
       "      <td>5.0</td>\n",
       "    </tr>\n",
       "    <tr>\n",
       "      <th>51005</th>\n",
       "      <td>B0006HWOCE</td>\n",
       "      <td>5.0</td>\n",
       "      <td>5.0</td>\n",
       "    </tr>\n",
       "    <tr>\n",
       "      <th>47885</th>\n",
       "      <td>B00078A00A</td>\n",
       "      <td>5.0</td>\n",
       "      <td>5.0</td>\n",
       "    </tr>\n",
       "    <tr>\n",
       "      <th>47481</th>\n",
       "      <td>B00007LOYS</td>\n",
       "      <td>5.0</td>\n",
       "      <td>5.0</td>\n",
       "    </tr>\n",
       "    <tr>\n",
       "      <th>65098</th>\n",
       "      <td>B0006ZERXA</td>\n",
       "      <td>5.0</td>\n",
       "      <td>5.0</td>\n",
       "    </tr>\n",
       "    <tr>\n",
       "      <th>43131</th>\n",
       "      <td>B00006JNMT</td>\n",
       "      <td>5.0</td>\n",
       "      <td>5.0</td>\n",
       "    </tr>\n",
       "    <tr>\n",
       "      <th>65456</th>\n",
       "      <td>B0002ABB6K</td>\n",
       "      <td>5.0</td>\n",
       "      <td>5.0</td>\n",
       "    </tr>\n",
       "    <tr>\n",
       "      <th>30314</th>\n",
       "      <td>B00005A9W3</td>\n",
       "      <td>5.0</td>\n",
       "      <td>5.0</td>\n",
       "    </tr>\n",
       "  </tbody>\n",
       "</table>\n",
       "</div>"
      ],
      "text/plain": [
       "              iid  r_ui  est\n",
       "53031  B00006IE2I   5.0  5.0\n",
       "62296  B00006IE2L   5.0  5.0\n",
       "7139   B00002NDRX   5.0  5.0\n",
       "51005  B0006HWOCE   5.0  5.0\n",
       "47885  B00078A00A   5.0  5.0\n",
       "47481  B00007LOYS   5.0  5.0\n",
       "65098  B0006ZERXA   5.0  5.0\n",
       "43131  B00006JNMT   5.0  5.0\n",
       "65456  B0002ABB6K   5.0  5.0\n",
       "30314  B00005A9W3   5.0  5.0"
      ]
     },
     "execution_count": 32,
     "metadata": {},
     "output_type": "execute_result"
    }
   ],
   "source": [
    "top_ten(pd.DataFrame(predictions), \"A3N77PJ4KP3CJP\")"
   ]
  },
  {
   "cell_type": "code",
   "execution_count": 33,
   "metadata": {},
   "outputs": [
    {
     "data": {
      "text/html": [
       "<div>\n",
       "<style scoped>\n",
       "    .dataframe tbody tr th:only-of-type {\n",
       "        vertical-align: middle;\n",
       "    }\n",
       "\n",
       "    .dataframe tbody tr th {\n",
       "        vertical-align: top;\n",
       "    }\n",
       "\n",
       "    .dataframe thead th {\n",
       "        text-align: right;\n",
       "    }\n",
       "</style>\n",
       "<table border=\"1\" class=\"dataframe\">\n",
       "  <thead>\n",
       "    <tr style=\"text-align: right;\">\n",
       "      <th></th>\n",
       "      <th>iid</th>\n",
       "      <th>r_ui</th>\n",
       "      <th>est</th>\n",
       "    </tr>\n",
       "  </thead>\n",
       "  <tbody>\n",
       "    <tr>\n",
       "      <th>41455</th>\n",
       "      <td>B00006IFEU</td>\n",
       "      <td>5.0</td>\n",
       "      <td>4.794822</td>\n",
       "    </tr>\n",
       "    <tr>\n",
       "      <th>60584</th>\n",
       "      <td>B00006IF67</td>\n",
       "      <td>5.0</td>\n",
       "      <td>4.752332</td>\n",
       "    </tr>\n",
       "    <tr>\n",
       "      <th>70629</th>\n",
       "      <td>B0000DH8HQ</td>\n",
       "      <td>5.0</td>\n",
       "      <td>4.750158</td>\n",
       "    </tr>\n",
       "    <tr>\n",
       "      <th>64001</th>\n",
       "      <td>B0002VS6HG</td>\n",
       "      <td>5.0</td>\n",
       "      <td>4.741764</td>\n",
       "    </tr>\n",
       "    <tr>\n",
       "      <th>73295</th>\n",
       "      <td>B0000AQNPB</td>\n",
       "      <td>5.0</td>\n",
       "      <td>4.696796</td>\n",
       "    </tr>\n",
       "    <tr>\n",
       "      <th>87030</th>\n",
       "      <td>B00009RAX5</td>\n",
       "      <td>5.0</td>\n",
       "      <td>4.694565</td>\n",
       "    </tr>\n",
       "    <tr>\n",
       "      <th>20931</th>\n",
       "      <td>B00009RAX5</td>\n",
       "      <td>5.0</td>\n",
       "      <td>4.694565</td>\n",
       "    </tr>\n",
       "    <tr>\n",
       "      <th>58159</th>\n",
       "      <td>B00006JNMR</td>\n",
       "      <td>5.0</td>\n",
       "      <td>4.682970</td>\n",
       "    </tr>\n",
       "    <tr>\n",
       "      <th>46960</th>\n",
       "      <td>B00006IEB3</td>\n",
       "      <td>5.0</td>\n",
       "      <td>4.678910</td>\n",
       "    </tr>\n",
       "    <tr>\n",
       "      <th>71304</th>\n",
       "      <td>B00005NIUB</td>\n",
       "      <td>5.0</td>\n",
       "      <td>4.665537</td>\n",
       "    </tr>\n",
       "  </tbody>\n",
       "</table>\n",
       "</div>"
      ],
      "text/plain": [
       "              iid  r_ui       est\n",
       "41455  B00006IFEU   5.0  4.794822\n",
       "60584  B00006IF67   5.0  4.752332\n",
       "70629  B0000DH8HQ   5.0  4.750158\n",
       "64001  B0002VS6HG   5.0  4.741764\n",
       "73295  B0000AQNPB   5.0  4.696796\n",
       "87030  B00009RAX5   5.0  4.694565\n",
       "20931  B00009RAX5   5.0  4.694565\n",
       "58159  B00006JNMR   5.0  4.682970\n",
       "46960  B00006IEB3   5.0  4.678910\n",
       "71304  B00005NIUB   5.0  4.665537"
      ]
     },
     "execution_count": 33,
     "metadata": {},
     "output_type": "execute_result"
    }
   ],
   "source": [
    "top_ten(pd.DataFrame(predictions), \"A3OXHLG6DIBRW8\")"
   ]
  },
  {
   "cell_type": "code",
   "execution_count": 34,
   "metadata": {},
   "outputs": [],
   "source": [
    "# Next Algorithm SVD++\n",
    "algo2 = SVDpp()"
   ]
  },
  {
   "cell_type": "code",
   "execution_count": 35,
   "metadata": {},
   "outputs": [
    {
     "name": "stdout",
     "output_type": "stream",
     "text": [
      "Evaluating RMSE, MAE of algorithm SVDpp on 5 split(s).\n",
      "\n",
      "                  Fold 1  Fold 2  Fold 3  Fold 4  Fold 5  Mean    Std     \n",
      "RMSE (testset)    0.7617  0.7630  0.7575  0.7551  0.7612  0.7597  0.0029  \n",
      "MAE (testset)     0.5924  0.5904  0.5900  0.5901  0.5940  0.5914  0.0016  \n",
      "Fit time          22.88   24.16   24.39   22.99   22.97   23.48   0.65    \n",
      "Test time         0.73    0.76    0.75    1.22    1.24    0.94    0.24    \n"
     ]
    },
    {
     "data": {
      "text/plain": [
       "{'test_rmse': array([0.76167347, 0.76300148, 0.75749632, 0.75509596, 0.76122952]),\n",
       " 'test_mae': array([0.59243052, 0.59043266, 0.59000213, 0.59011245, 0.59398659]),\n",
       " 'fit_time': (22.884407997131348,\n",
       "  24.163511991500854,\n",
       "  24.38516855239868,\n",
       "  22.99188780784607,\n",
       "  22.970086336135864),\n",
       " 'test_time': (0.726149320602417,\n",
       "  0.7631094455718994,\n",
       "  0.7461621761322021,\n",
       "  1.2223353385925293,\n",
       "  1.2438502311706543)}"
      ]
     },
     "execution_count": 35,
     "metadata": {},
     "output_type": "execute_result"
    }
   ],
   "source": [
    "cross_validate(algo2, data, measures=['RMSE', 'MAE'], cv=5, verbose=True)"
   ]
  },
  {
   "cell_type": "code",
   "execution_count": 36,
   "metadata": {},
   "outputs": [],
   "source": [
    "predictions = algo2.fit(trainset).test(testset_large)"
   ]
  },
  {
   "cell_type": "code",
   "execution_count": 37,
   "metadata": {},
   "outputs": [
    {
     "data": {
      "text/html": [
       "<div>\n",
       "<style scoped>\n",
       "    .dataframe tbody tr th:only-of-type {\n",
       "        vertical-align: middle;\n",
       "    }\n",
       "\n",
       "    .dataframe tbody tr th {\n",
       "        vertical-align: top;\n",
       "    }\n",
       "\n",
       "    .dataframe thead th {\n",
       "        text-align: right;\n",
       "    }\n",
       "</style>\n",
       "<table border=\"1\" class=\"dataframe\">\n",
       "  <thead>\n",
       "    <tr style=\"text-align: right;\">\n",
       "      <th></th>\n",
       "      <th>iid</th>\n",
       "      <th>r_ui</th>\n",
       "      <th>est</th>\n",
       "    </tr>\n",
       "  </thead>\n",
       "  <tbody>\n",
       "    <tr>\n",
       "      <th>2902</th>\n",
       "      <td>B00006IEAE</td>\n",
       "      <td>5.0</td>\n",
       "      <td>5.0</td>\n",
       "    </tr>\n",
       "    <tr>\n",
       "      <th>43131</th>\n",
       "      <td>B00006JNMT</td>\n",
       "      <td>5.0</td>\n",
       "      <td>5.0</td>\n",
       "    </tr>\n",
       "    <tr>\n",
       "      <th>93524</th>\n",
       "      <td>B000083E4Z</td>\n",
       "      <td>5.0</td>\n",
       "      <td>5.0</td>\n",
       "    </tr>\n",
       "    <tr>\n",
       "      <th>85485</th>\n",
       "      <td>B00006IFJ8</td>\n",
       "      <td>5.0</td>\n",
       "      <td>5.0</td>\n",
       "    </tr>\n",
       "    <tr>\n",
       "      <th>84296</th>\n",
       "      <td>B00006ICSJ</td>\n",
       "      <td>5.0</td>\n",
       "      <td>5.0</td>\n",
       "    </tr>\n",
       "    <tr>\n",
       "      <th>78082</th>\n",
       "      <td>B0006ZH66A</td>\n",
       "      <td>5.0</td>\n",
       "      <td>5.0</td>\n",
       "    </tr>\n",
       "    <tr>\n",
       "      <th>77400</th>\n",
       "      <td>B00004Z6JX</td>\n",
       "      <td>5.0</td>\n",
       "      <td>5.0</td>\n",
       "    </tr>\n",
       "    <tr>\n",
       "      <th>68751</th>\n",
       "      <td>B00006IFMQ</td>\n",
       "      <td>5.0</td>\n",
       "      <td>5.0</td>\n",
       "    </tr>\n",
       "    <tr>\n",
       "      <th>65525</th>\n",
       "      <td>B00006IC8I</td>\n",
       "      <td>5.0</td>\n",
       "      <td>5.0</td>\n",
       "    </tr>\n",
       "    <tr>\n",
       "      <th>65456</th>\n",
       "      <td>B0002ABB6K</td>\n",
       "      <td>5.0</td>\n",
       "      <td>5.0</td>\n",
       "    </tr>\n",
       "  </tbody>\n",
       "</table>\n",
       "</div>"
      ],
      "text/plain": [
       "              iid  r_ui  est\n",
       "2902   B00006IEAE   5.0  5.0\n",
       "43131  B00006JNMT   5.0  5.0\n",
       "93524  B000083E4Z   5.0  5.0\n",
       "85485  B00006IFJ8   5.0  5.0\n",
       "84296  B00006ICSJ   5.0  5.0\n",
       "78082  B0006ZH66A   5.0  5.0\n",
       "77400  B00004Z6JX   5.0  5.0\n",
       "68751  B00006IFMQ   5.0  5.0\n",
       "65525  B00006IC8I   5.0  5.0\n",
       "65456  B0002ABB6K   5.0  5.0"
      ]
     },
     "execution_count": 37,
     "metadata": {},
     "output_type": "execute_result"
    }
   ],
   "source": [
    "top_ten(pd.DataFrame(predictions), \"A3N77PJ4KP3CJP\")"
   ]
  },
  {
   "cell_type": "code",
   "execution_count": 38,
   "metadata": {},
   "outputs": [
    {
     "data": {
      "text/html": [
       "<div>\n",
       "<style scoped>\n",
       "    .dataframe tbody tr th:only-of-type {\n",
       "        vertical-align: middle;\n",
       "    }\n",
       "\n",
       "    .dataframe tbody tr th {\n",
       "        vertical-align: top;\n",
       "    }\n",
       "\n",
       "    .dataframe thead th {\n",
       "        text-align: right;\n",
       "    }\n",
       "</style>\n",
       "<table border=\"1\" class=\"dataframe\">\n",
       "  <thead>\n",
       "    <tr style=\"text-align: right;\">\n",
       "      <th></th>\n",
       "      <th>iid</th>\n",
       "      <th>r_ui</th>\n",
       "      <th>est</th>\n",
       "    </tr>\n",
       "  </thead>\n",
       "  <tbody>\n",
       "    <tr>\n",
       "      <th>74887</th>\n",
       "      <td>B00005A9W8</td>\n",
       "      <td>5.0</td>\n",
       "      <td>4.844269</td>\n",
       "    </tr>\n",
       "    <tr>\n",
       "      <th>41455</th>\n",
       "      <td>B00006IFEU</td>\n",
       "      <td>5.0</td>\n",
       "      <td>4.835689</td>\n",
       "    </tr>\n",
       "    <tr>\n",
       "      <th>73295</th>\n",
       "      <td>B0000AQNPB</td>\n",
       "      <td>5.0</td>\n",
       "      <td>4.810837</td>\n",
       "    </tr>\n",
       "    <tr>\n",
       "      <th>58159</th>\n",
       "      <td>B00006JNMR</td>\n",
       "      <td>5.0</td>\n",
       "      <td>4.778714</td>\n",
       "    </tr>\n",
       "    <tr>\n",
       "      <th>87030</th>\n",
       "      <td>B00009RAX5</td>\n",
       "      <td>5.0</td>\n",
       "      <td>4.763510</td>\n",
       "    </tr>\n",
       "    <tr>\n",
       "      <th>20931</th>\n",
       "      <td>B00009RAX5</td>\n",
       "      <td>5.0</td>\n",
       "      <td>4.763510</td>\n",
       "    </tr>\n",
       "    <tr>\n",
       "      <th>71304</th>\n",
       "      <td>B00005NIUB</td>\n",
       "      <td>5.0</td>\n",
       "      <td>4.755338</td>\n",
       "    </tr>\n",
       "    <tr>\n",
       "      <th>49714</th>\n",
       "      <td>B000050FZP</td>\n",
       "      <td>5.0</td>\n",
       "      <td>4.746526</td>\n",
       "    </tr>\n",
       "    <tr>\n",
       "      <th>927</th>\n",
       "      <td>B000050FZP</td>\n",
       "      <td>5.0</td>\n",
       "      <td>4.746526</td>\n",
       "    </tr>\n",
       "    <tr>\n",
       "      <th>70629</th>\n",
       "      <td>B0000DH8HQ</td>\n",
       "      <td>5.0</td>\n",
       "      <td>4.703798</td>\n",
       "    </tr>\n",
       "  </tbody>\n",
       "</table>\n",
       "</div>"
      ],
      "text/plain": [
       "              iid  r_ui       est\n",
       "74887  B00005A9W8   5.0  4.844269\n",
       "41455  B00006IFEU   5.0  4.835689\n",
       "73295  B0000AQNPB   5.0  4.810837\n",
       "58159  B00006JNMR   5.0  4.778714\n",
       "87030  B00009RAX5   5.0  4.763510\n",
       "20931  B00009RAX5   5.0  4.763510\n",
       "71304  B00005NIUB   5.0  4.755338\n",
       "49714  B000050FZP   5.0  4.746526\n",
       "927    B000050FZP   5.0  4.746526\n",
       "70629  B0000DH8HQ   5.0  4.703798"
      ]
     },
     "execution_count": 38,
     "metadata": {},
     "output_type": "execute_result"
    }
   ],
   "source": [
    "top_ten(pd.DataFrame(predictions), \"A3OXHLG6DIBRW8\")"
   ]
  },
  {
   "cell_type": "code",
   "execution_count": 39,
   "metadata": {},
   "outputs": [],
   "source": [
    "# Next Algorithm Non-Negative Matrix Factorization\n",
    "algo3 = NMF()"
   ]
  },
  {
   "cell_type": "code",
   "execution_count": 40,
   "metadata": {},
   "outputs": [
    {
     "name": "stdout",
     "output_type": "stream",
     "text": [
      "Evaluating RMSE, MAE of algorithm NMF on 5 split(s).\n",
      "\n",
      "                  Fold 1  Fold 2  Fold 3  Fold 4  Fold 5  Mean    Std     \n",
      "RMSE (testset)    0.9951  1.0091  0.9891  0.9928  0.9892  0.9951  0.0074  \n",
      "MAE (testset)     0.7997  0.8088  0.7859  0.7920  0.7851  0.7943  0.0089  \n",
      "Fit time          22.23   22.23   22.63   23.97   22.61   22.73   0.64    \n",
      "Test time         0.35    0.34    0.36    0.35    0.84    0.45    0.20    \n"
     ]
    },
    {
     "data": {
      "text/plain": [
       "{'test_rmse': array([0.99509066, 1.00908897, 0.9890622 , 0.99279265, 0.98921643]),\n",
       " 'test_mae': array([0.79968308, 0.80879432, 0.78591819, 0.7920326 , 0.78507399]),\n",
       " 'fit_time': (22.23043918609619,\n",
       "  22.22859811782837,\n",
       "  22.63227915763855,\n",
       "  23.967058181762695,\n",
       "  22.612872838974),\n",
       " 'test_time': (0.3499114513397217,\n",
       "  0.34145641326904297,\n",
       "  0.3591325283050537,\n",
       "  0.3532998561859131,\n",
       "  0.8418269157409668)}"
      ]
     },
     "execution_count": 40,
     "metadata": {},
     "output_type": "execute_result"
    }
   ],
   "source": [
    "cross_validate(algo3, data, measures=['RMSE', 'MAE'], cv=5, verbose=True)"
   ]
  },
  {
   "cell_type": "code",
   "execution_count": 41,
   "metadata": {},
   "outputs": [],
   "source": [
    "predictions = algo3.fit(trainset).test(testset_large)"
   ]
  },
  {
   "cell_type": "code",
   "execution_count": 42,
   "metadata": {},
   "outputs": [
    {
     "data": {
      "text/html": [
       "<div>\n",
       "<style scoped>\n",
       "    .dataframe tbody tr th:only-of-type {\n",
       "        vertical-align: middle;\n",
       "    }\n",
       "\n",
       "    .dataframe tbody tr th {\n",
       "        vertical-align: top;\n",
       "    }\n",
       "\n",
       "    .dataframe thead th {\n",
       "        text-align: right;\n",
       "    }\n",
       "</style>\n",
       "<table border=\"1\" class=\"dataframe\">\n",
       "  <thead>\n",
       "    <tr style=\"text-align: right;\">\n",
       "      <th></th>\n",
       "      <th>iid</th>\n",
       "      <th>r_ui</th>\n",
       "      <th>est</th>\n",
       "    </tr>\n",
       "  </thead>\n",
       "  <tbody>\n",
       "    <tr>\n",
       "      <th>42804</th>\n",
       "      <td>B0006HVGSC</td>\n",
       "      <td>5.0</td>\n",
       "      <td>5.000000</td>\n",
       "    </tr>\n",
       "    <tr>\n",
       "      <th>65098</th>\n",
       "      <td>B0006ZERXA</td>\n",
       "      <td>5.0</td>\n",
       "      <td>5.000000</td>\n",
       "    </tr>\n",
       "    <tr>\n",
       "      <th>7139</th>\n",
       "      <td>B00002NDRX</td>\n",
       "      <td>5.0</td>\n",
       "      <td>5.000000</td>\n",
       "    </tr>\n",
       "    <tr>\n",
       "      <th>84296</th>\n",
       "      <td>B00006ICSJ</td>\n",
       "      <td>5.0</td>\n",
       "      <td>4.996274</td>\n",
       "    </tr>\n",
       "    <tr>\n",
       "      <th>14563</th>\n",
       "      <td>B00006IF4R</td>\n",
       "      <td>5.0</td>\n",
       "      <td>4.981241</td>\n",
       "    </tr>\n",
       "    <tr>\n",
       "      <th>25342</th>\n",
       "      <td>B0000DHKRG</td>\n",
       "      <td>5.0</td>\n",
       "      <td>4.970682</td>\n",
       "    </tr>\n",
       "    <tr>\n",
       "      <th>2902</th>\n",
       "      <td>B00006IEAE</td>\n",
       "      <td>5.0</td>\n",
       "      <td>4.945385</td>\n",
       "    </tr>\n",
       "    <tr>\n",
       "      <th>19309</th>\n",
       "      <td>B0006HVMUY</td>\n",
       "      <td>5.0</td>\n",
       "      <td>4.942837</td>\n",
       "    </tr>\n",
       "    <tr>\n",
       "      <th>22197</th>\n",
       "      <td>B0000225AQ</td>\n",
       "      <td>5.0</td>\n",
       "      <td>4.917865</td>\n",
       "    </tr>\n",
       "    <tr>\n",
       "      <th>19785</th>\n",
       "      <td>B00006IDSP</td>\n",
       "      <td>5.0</td>\n",
       "      <td>4.865255</td>\n",
       "    </tr>\n",
       "  </tbody>\n",
       "</table>\n",
       "</div>"
      ],
      "text/plain": [
       "              iid  r_ui       est\n",
       "42804  B0006HVGSC   5.0  5.000000\n",
       "65098  B0006ZERXA   5.0  5.000000\n",
       "7139   B00002NDRX   5.0  5.000000\n",
       "84296  B00006ICSJ   5.0  4.996274\n",
       "14563  B00006IF4R   5.0  4.981241\n",
       "25342  B0000DHKRG   5.0  4.970682\n",
       "2902   B00006IEAE   5.0  4.945385\n",
       "19309  B0006HVMUY   5.0  4.942837\n",
       "22197  B0000225AQ   5.0  4.917865\n",
       "19785  B00006IDSP   5.0  4.865255"
      ]
     },
     "execution_count": 42,
     "metadata": {},
     "output_type": "execute_result"
    }
   ],
   "source": [
    "top_ten(pd.DataFrame(predictions), \"A3N77PJ4KP3CJP\")"
   ]
  },
  {
   "cell_type": "code",
   "execution_count": 43,
   "metadata": {},
   "outputs": [
    {
     "data": {
      "text/html": [
       "<div>\n",
       "<style scoped>\n",
       "    .dataframe tbody tr th:only-of-type {\n",
       "        vertical-align: middle;\n",
       "    }\n",
       "\n",
       "    .dataframe tbody tr th {\n",
       "        vertical-align: top;\n",
       "    }\n",
       "\n",
       "    .dataframe thead th {\n",
       "        text-align: right;\n",
       "    }\n",
       "</style>\n",
       "<table border=\"1\" class=\"dataframe\">\n",
       "  <thead>\n",
       "    <tr style=\"text-align: right;\">\n",
       "      <th></th>\n",
       "      <th>iid</th>\n",
       "      <th>r_ui</th>\n",
       "      <th>est</th>\n",
       "    </tr>\n",
       "  </thead>\n",
       "  <tbody>\n",
       "    <tr>\n",
       "      <th>74887</th>\n",
       "      <td>B00005A9W8</td>\n",
       "      <td>5.0</td>\n",
       "      <td>5.000000</td>\n",
       "    </tr>\n",
       "    <tr>\n",
       "      <th>70629</th>\n",
       "      <td>B0000DH8HQ</td>\n",
       "      <td>5.0</td>\n",
       "      <td>4.894439</td>\n",
       "    </tr>\n",
       "    <tr>\n",
       "      <th>73295</th>\n",
       "      <td>B0000AQNPB</td>\n",
       "      <td>5.0</td>\n",
       "      <td>4.796756</td>\n",
       "    </tr>\n",
       "    <tr>\n",
       "      <th>45550</th>\n",
       "      <td>B0006SVBO0</td>\n",
       "      <td>5.0</td>\n",
       "      <td>4.739622</td>\n",
       "    </tr>\n",
       "    <tr>\n",
       "      <th>15094</th>\n",
       "      <td>B0006SVBO0</td>\n",
       "      <td>5.0</td>\n",
       "      <td>4.739622</td>\n",
       "    </tr>\n",
       "    <tr>\n",
       "      <th>85946</th>\n",
       "      <td>B0006SVBO0</td>\n",
       "      <td>5.0</td>\n",
       "      <td>4.739622</td>\n",
       "    </tr>\n",
       "    <tr>\n",
       "      <th>74850</th>\n",
       "      <td>B0006SVBO0</td>\n",
       "      <td>5.0</td>\n",
       "      <td>4.739622</td>\n",
       "    </tr>\n",
       "    <tr>\n",
       "      <th>60584</th>\n",
       "      <td>B00006IF67</td>\n",
       "      <td>5.0</td>\n",
       "      <td>4.734383</td>\n",
       "    </tr>\n",
       "    <tr>\n",
       "      <th>87030</th>\n",
       "      <td>B00009RAX5</td>\n",
       "      <td>5.0</td>\n",
       "      <td>4.725012</td>\n",
       "    </tr>\n",
       "    <tr>\n",
       "      <th>20931</th>\n",
       "      <td>B00009RAX5</td>\n",
       "      <td>5.0</td>\n",
       "      <td>4.725012</td>\n",
       "    </tr>\n",
       "  </tbody>\n",
       "</table>\n",
       "</div>"
      ],
      "text/plain": [
       "              iid  r_ui       est\n",
       "74887  B00005A9W8   5.0  5.000000\n",
       "70629  B0000DH8HQ   5.0  4.894439\n",
       "73295  B0000AQNPB   5.0  4.796756\n",
       "45550  B0006SVBO0   5.0  4.739622\n",
       "15094  B0006SVBO0   5.0  4.739622\n",
       "85946  B0006SVBO0   5.0  4.739622\n",
       "74850  B0006SVBO0   5.0  4.739622\n",
       "60584  B00006IF67   5.0  4.734383\n",
       "87030  B00009RAX5   5.0  4.725012\n",
       "20931  B00009RAX5   5.0  4.725012"
      ]
     },
     "execution_count": 43,
     "metadata": {},
     "output_type": "execute_result"
    }
   ],
   "source": [
    "top_ten(pd.DataFrame(predictions), \"A3OXHLG6DIBRW8\")"
   ]
  },
  {
   "cell_type": "markdown",
   "metadata": {},
   "source": [
    "### Deep Learning"
   ]
  },
  {
   "cell_type": "code",
   "execution_count": 44,
   "metadata": {},
   "outputs": [],
   "source": [
    "from keras.models import Model\n",
    "from keras.layers import Input, Reshape, Dot\n",
    "from keras.layers.embeddings import Embedding\n",
    "from keras.optimizers import Adam\n",
    "from keras.regularizers import l2\n",
    "from sklearn.model_selection import train_test_split\n",
    "from sklearn.preprocessing import LabelEncoder\n",
    "import pickle\n",
    "import ml_metrics\n",
    "from sklearn.metrics import accuracy_score"
   ]
  },
  {
   "cell_type": "code",
   "execution_count": 45,
   "metadata": {},
   "outputs": [],
   "source": [
    "def top_ten_predicted(model, user, items):\n",
    "    predictions = model.predict([np.array([user]*len(items)), items])\n",
    "    predictions_df = pd.DataFrame(predictions, columns=['ratings'])\n",
    "    item_id_df = pd.DataFrame(item_encoding, columns = ['itemId'])\n",
    "    item_id_df['ratings'] = predictions_df['ratings']\n",
    "    top_10 = item_id_df.sort_values(by = ['ratings'], ascending=False)[:10]\n",
    "    return top_10['itemId'].values"
   ]
  },
  {
   "cell_type": "code",
   "execution_count": 46,
   "metadata": {},
   "outputs": [],
   "source": [
    "def top_ten_actual(df, user):\n",
    "    return df[df['userId'] == user].sort_values(by = ['rating'], ascending=False)[:100]['productId'].values"
   ]
  },
  {
   "cell_type": "code",
   "execution_count": 47,
   "metadata": {},
   "outputs": [],
   "source": [
    "user_enc = LabelEncoder()\n",
    "filtered_df['userId'] = user_enc.fit_transform(filtered_df['userId'].values)"
   ]
  },
  {
   "cell_type": "code",
   "execution_count": 48,
   "metadata": {},
   "outputs": [],
   "source": [
    "item_enc = LabelEncoder()\n",
    "filtered_df['productId'] = item_enc.fit_transform(filtered_df['productId'].values)"
   ]
  },
  {
   "cell_type": "code",
   "execution_count": 49,
   "metadata": {},
   "outputs": [],
   "source": [
    "item_encoding = filtered_df['productId'].unique()"
   ]
  },
  {
   "cell_type": "code",
   "execution_count": 50,
   "metadata": {},
   "outputs": [],
   "source": [
    "user_encoding = filtered_df['userId'].unique()"
   ]
  },
  {
   "cell_type": "code",
   "execution_count": 51,
   "metadata": {},
   "outputs": [
    {
     "data": {
      "text/plain": [
       "array([   0,    1,    2, ..., 4908, 4904, 4905])"
      ]
     },
     "execution_count": 51,
     "metadata": {},
     "output_type": "execute_result"
    }
   ],
   "source": [
    "item_encoding"
   ]
  },
  {
   "cell_type": "code",
   "execution_count": 52,
   "metadata": {},
   "outputs": [
    {
     "data": {
      "text/plain": [
       "array([28778, 65344, 21402, ..., 38024, 59789, 53297])"
      ]
     },
     "execution_count": 52,
     "metadata": {},
     "output_type": "execute_result"
    }
   ],
   "source": [
    "user_encoding"
   ]
  },
  {
   "cell_type": "code",
   "execution_count": 53,
   "metadata": {},
   "outputs": [],
   "source": [
    "X = np.array([filtered_df['userId'], filtered_df['productId']]).T\n",
    "y = np.array(filtered_df['rating']).T"
   ]
  },
  {
   "cell_type": "code",
   "execution_count": 54,
   "metadata": {},
   "outputs": [
    {
     "data": {
      "text/plain": [
       "((116918, 2), (12991, 2), (116918,), (12991,))"
      ]
     },
     "execution_count": 54,
     "metadata": {},
     "output_type": "execute_result"
    }
   ],
   "source": [
    "X_train, X_test, y_train, y_test = train_test_split(X, y, test_size=0.1)\n",
    "X_train.shape, X_test.shape, y_train.shape, y_test.shape"
   ]
  },
  {
   "cell_type": "code",
   "execution_count": 55,
   "metadata": {},
   "outputs": [],
   "source": [
    "def Recommender_1(n_users, n_items, n_factors):\n",
    "    user = Input(shape=(1,))\n",
    "    u = Embedding(n_users, n_factors, embeddings_initializer='he_normal',\n",
    "                  embeddings_regularizer=l2(1e-6))(user)\n",
    "    u = Reshape((n_factors,))(u)\n",
    "    \n",
    "    item = Input(shape=(1,))\n",
    "    i = Embedding(n_items, n_factors, embeddings_initializer='he_normal',\n",
    "                  embeddings_regularizer=l2(1e-6))(item)\n",
    "    i = Reshape((n_factors,))(i)\n",
    "    \n",
    "    x = Dot(axes=1)([u, i])\n",
    "    model = Model(inputs=[user, item], outputs=x)\n",
    "    opt = Adam(lr=0.01)\n",
    "    model.compile(loss='mean_squared_error', optimizer=opt)\n",
    "    return model"
   ]
  },
  {
   "cell_type": "code",
   "execution_count": 56,
   "metadata": {},
   "outputs": [
    {
     "name": "stdout",
     "output_type": "stream",
     "text": [
      "Model: \"model\"\n",
      "__________________________________________________________________________________________________\n",
      "Layer (type)                    Output Shape         Param #     Connected to                     \n",
      "==================================================================================================\n",
      "input_1 (InputLayer)            [(None, 1)]          0                                            \n",
      "__________________________________________________________________________________________________\n",
      "input_2 (InputLayer)            [(None, 1)]          0                                            \n",
      "__________________________________________________________________________________________________\n",
      "embedding (Embedding)           (None, 1, 50)        3594700     input_1[0][0]                    \n",
      "__________________________________________________________________________________________________\n",
      "embedding_1 (Embedding)         (None, 1, 50)        259900      input_2[0][0]                    \n",
      "__________________________________________________________________________________________________\n",
      "reshape (Reshape)               (None, 50)           0           embedding[0][0]                  \n",
      "__________________________________________________________________________________________________\n",
      "reshape_1 (Reshape)             (None, 50)           0           embedding_1[0][0]                \n",
      "__________________________________________________________________________________________________\n",
      "dot (Dot)                       (None, 1)            0           reshape[0][0]                    \n",
      "                                                                 reshape_1[0][0]                  \n",
      "==================================================================================================\n",
      "Total params: 3,854,600\n",
      "Trainable params: 3,854,600\n",
      "Non-trainable params: 0\n",
      "__________________________________________________________________________________________________\n"
     ]
    }
   ],
   "source": [
    "model = Recommender_1(n_users, n_items, 50)\n",
    "model.summary()"
   ]
  },
  {
   "cell_type": "code",
   "execution_count": 57,
   "metadata": {},
   "outputs": [],
   "source": [
    "X_train_array = [X_train[:, 0], X_train[:, 1]]\n",
    "X_test_array = [X_test[:, 0], X_test[:, 1]]"
   ]
  },
  {
   "cell_type": "code",
   "execution_count": 58,
   "metadata": {},
   "outputs": [
    {
     "name": "stdout",
     "output_type": "stream",
     "text": [
      "Epoch 1/20\n",
      "1827/1827 [==============================] - 67s 36ms/step - loss: 19.8201 - val_loss: 11.9895\n",
      "Epoch 2/20\n",
      "1827/1827 [==============================] - 80s 44ms/step - loss: 4.7349 - val_loss: 10.9532\n",
      "Epoch 3/20\n",
      "1827/1827 [==============================] - 80s 44ms/step - loss: 3.8343 - val_loss: 10.7198\n",
      "Epoch 4/20\n",
      "1827/1827 [==============================] - 79s 43ms/step - loss: 3.9573 - val_loss: 10.5922\n",
      "Epoch 5/20\n",
      "1827/1827 [==============================] - 79s 43ms/step - loss: 4.0993 - val_loss: 10.3661\n",
      "Epoch 6/20\n",
      "1827/1827 [==============================] - 77s 42ms/step - loss: 3.9908 - val_loss: 10.1300\n",
      "Epoch 7/20\n",
      "1827/1827 [==============================] - 75s 41ms/step - loss: 3.7490 - val_loss: 9.8974\n",
      "Epoch 8/20\n",
      "1827/1827 [==============================] - 75s 41ms/step - loss: 3.5850 - val_loss: 9.7333\n",
      "Epoch 9/20\n",
      "1827/1827 [==============================] - 75s 41ms/step - loss: 3.4795 - val_loss: 9.6119\n",
      "Epoch 10/20\n",
      "1827/1827 [==============================] - 82s 45ms/step - loss: 3.3297 - val_loss: 9.6710\n",
      "Epoch 11/20\n",
      "1827/1827 [==============================] - 83s 46ms/step - loss: 3.2391 - val_loss: 9.5836\n",
      "Epoch 12/20\n",
      "1827/1827 [==============================] - 82s 45ms/step - loss: 3.1298 - val_loss: 9.5735\n",
      "Epoch 13/20\n",
      "1827/1827 [==============================] - 81s 44ms/step - loss: 3.0705 - val_loss: 9.6349\n",
      "Epoch 14/20\n",
      "1827/1827 [==============================] - 82s 45ms/step - loss: 2.9878 - val_loss: 9.7244\n",
      "Epoch 15/20\n",
      "1827/1827 [==============================] - 82s 45ms/step - loss: 2.8591 - val_loss: 9.7536\n",
      "Epoch 16/20\n",
      "1827/1827 [==============================] - 82s 45ms/step - loss: 2.8031 - val_loss: 9.8505\n",
      "Epoch 17/20\n",
      "1827/1827 [==============================] - 81s 44ms/step - loss: 2.7630 - val_loss: 9.7948\n",
      "Epoch 18/20\n",
      "1827/1827 [==============================] - 81s 44ms/step - loss: 2.6970 - val_loss: 9.8353\n",
      "Epoch 19/20\n",
      "1827/1827 [==============================] - 80s 44ms/step - loss: 2.6414 - val_loss: 9.9059\n",
      "Epoch 20/20\n",
      "1827/1827 [==============================] - 82s 45ms/step - loss: 2.5820 - val_loss: 9.9498\n"
     ]
    }
   ],
   "source": [
    "history = model.fit(x=X_train_array, y=y_train, batch_size=64, epochs=20,\n",
    "                    verbose=1, validation_data=(X_test_array, y_test))"
   ]
  },
  {
   "cell_type": "code",
   "execution_count": 59,
   "metadata": {},
   "outputs": [],
   "source": [
    "prediction = model.predict(X_test_array)"
   ]
  },
  {
   "cell_type": "code",
   "execution_count": 60,
   "metadata": {},
   "outputs": [
    {
     "data": {
      "text/plain": [
       "0.15010391809714418"
      ]
     },
     "execution_count": 60,
     "metadata": {},
     "output_type": "execute_result"
    }
   ],
   "source": [
    "accuracy_score(np.round(y_test).astype('int'), np.round(prediction).astype('int'))"
   ]
  },
  {
   "cell_type": "code",
   "execution_count": 61,
   "metadata": {},
   "outputs": [
    {
     "data": {
      "text/plain": [
       "array([2320, 1839, 2663, 1576, 1940, 1859, 2804, 2098, 1670, 2660])"
      ]
     },
     "execution_count": 61,
     "metadata": {},
     "output_type": "execute_result"
    }
   ],
   "source": [
    "top_ten_predicted(model, 3, item_encoding)"
   ]
  },
  {
   "cell_type": "code",
   "execution_count": 62,
   "metadata": {},
   "outputs": [],
   "source": [
    "from keras.layers import Add, Activation, Lambda\n",
    "class EmbeddingLayer:\n",
    "    def __init__(self, n_items, n_factors):\n",
    "        self.n_items = n_items\n",
    "        self.n_factors = n_factors\n",
    "    \n",
    "    def __call__(self, x):\n",
    "        x = Embedding(self.n_items, self.n_factors, embeddings_initializer='he_normal',\n",
    "                      embeddings_regularizer=l2(1e-6))(x)\n",
    "        x = Reshape((self.n_factors,))(x)\n",
    "        return x\n",
    "\n",
    "def Recommender_2(n_users, n_items, n_factors, min_rating, max_rating):\n",
    "    user = Input(shape=(1,))\n",
    "    u = EmbeddingLayer(n_users, n_factors)(user)\n",
    "    ub = EmbeddingLayer(n_users, 1)(user)\n",
    "    \n",
    "    item = Input(shape=(1,))\n",
    "    i = EmbeddingLayer(n_items, n_factors)(item)\n",
    "    ib = EmbeddingLayer(n_items, 1)(item)\n",
    "    x = Dot(axes=1)([u, i])\n",
    "    x = Add()([x, ub, ib])\n",
    "    x = Activation('sigmoid')(x)\n",
    "    x = Lambda(lambda x: x * (max_rating - min_rating) + min_rating)(x)\n",
    "    model = Model(inputs=[user, item], outputs=x)\n",
    "    opt = Adam(lr=0.01)\n",
    "    model.compile(loss='mean_squared_error', optimizer=opt)\n",
    "    return model"
   ]
  },
  {
   "cell_type": "code",
   "execution_count": 63,
   "metadata": {},
   "outputs": [
    {
     "name": "stdout",
     "output_type": "stream",
     "text": [
      "Epoch 1/20\n",
      "1827/1827 [==============================] - 85s 46ms/step - loss: 1.6588 - val_loss: 0.8842\n",
      "Epoch 2/20\n",
      "1827/1827 [==============================] - 82s 45ms/step - loss: 0.5268 - val_loss: 0.8611\n",
      "Epoch 3/20\n",
      "1827/1827 [==============================] - 67s 37ms/step - loss: 0.5069 - val_loss: 0.7973\n",
      "Epoch 4/20\n",
      "1827/1827 [==============================] - 65s 36ms/step - loss: 0.4804 - val_loss: 0.7899\n",
      "Epoch 5/20\n",
      "1827/1827 [==============================] - 63s 35ms/step - loss: 0.4822 - val_loss: 0.7913\n",
      "Epoch 6/20\n",
      "1827/1827 [==============================] - 63s 35ms/step - loss: 0.4767 - val_loss: 0.7790\n",
      "Epoch 7/20\n",
      "1827/1827 [==============================] - 63s 34ms/step - loss: 0.4589 - val_loss: 0.7638\n",
      "Epoch 8/20\n",
      "1827/1827 [==============================] - 63s 34ms/step - loss: 0.4440 - val_loss: 0.7579\n",
      "Epoch 9/20\n",
      "1827/1827 [==============================] - 63s 34ms/step - loss: 0.4391 - val_loss: 0.7533\n",
      "Epoch 10/20\n",
      "1827/1827 [==============================] - 62s 34ms/step - loss: 0.4335 - val_loss: 0.7494\n",
      "Epoch 11/20\n",
      "1827/1827 [==============================] - 63s 34ms/step - loss: 0.4274 - val_loss: 0.7559\n",
      "Epoch 12/20\n",
      "1827/1827 [==============================] - 63s 34ms/step - loss: 0.4243 - val_loss: 0.7450\n",
      "Epoch 13/20\n",
      "1827/1827 [==============================] - 63s 34ms/step - loss: 0.4151 - val_loss: 0.7466\n",
      "Epoch 14/20\n",
      "1827/1827 [==============================] - 63s 35ms/step - loss: 0.4073 - val_loss: 0.7550\n",
      "Epoch 15/20\n",
      "1827/1827 [==============================] - 62s 34ms/step - loss: 0.4048 - val_loss: 0.7428\n",
      "Epoch 16/20\n",
      "1827/1827 [==============================] - 63s 34ms/step - loss: 0.3948 - val_loss: 0.7470\n",
      "Epoch 17/20\n",
      "1827/1827 [==============================] - 63s 34ms/step - loss: 0.3983 - val_loss: 0.7449\n",
      "Epoch 18/20\n",
      "1827/1827 [==============================] - 62s 34ms/step - loss: 0.3944 - val_loss: 0.7470\n",
      "Epoch 19/20\n",
      "1827/1827 [==============================] - 63s 34ms/step - loss: 0.3943 - val_loss: 0.7464\n",
      "Epoch 20/20\n",
      "1827/1827 [==============================] - 63s 34ms/step - loss: 0.3926 - val_loss: 0.7493\n"
     ]
    }
   ],
   "source": [
    "model = Recommender_2(n_users, n_items, 50, 1, 5)\n",
    "history = model.fit(x=X_train_array, y=y_train, batch_size=64, epochs=20,\n",
    "                    verbose=1, validation_data=(X_test_array, y_test))"
   ]
  },
  {
   "cell_type": "code",
   "execution_count": 64,
   "metadata": {},
   "outputs": [
    {
     "data": {
      "text/plain": [
       "0.6546840120083135"
      ]
     },
     "execution_count": 64,
     "metadata": {},
     "output_type": "execute_result"
    }
   ],
   "source": [
    "prediction = np.round(model.predict(X_test_array)).astype('int')\n",
    "accuracy_score(np.round(y_test).astype('int'), np.round(prediction).astype('int'))"
   ]
  },
  {
   "cell_type": "code",
   "execution_count": 65,
   "metadata": {},
   "outputs": [
    {
     "data": {
      "text/plain": [
       "array([2660, 2330, 1815, 2627, 2495, 1473, 3169, 2524, 2197, 1578])"
      ]
     },
     "execution_count": 65,
     "metadata": {},
     "output_type": "execute_result"
    }
   ],
   "source": [
    "top_ten_predicted(model, 3, item_encoding)"
   ]
  },
  {
   "cell_type": "code",
   "execution_count": 66,
   "metadata": {},
   "outputs": [
    {
     "name": "stdout",
     "output_type": "stream",
     "text": [
      "Epoch 1/20\n",
      "1827/1827 [==============================] - 124s 67ms/step - loss: 1.6983 - val_loss: 1.1130\n",
      "Epoch 2/20\n",
      "1827/1827 [==============================] - 66s 36ms/step - loss: 0.8633 - val_loss: 1.0397\n",
      "Epoch 3/20\n",
      "1827/1827 [==============================] - 66s 36ms/step - loss: 0.8484 - val_loss: 0.9557\n",
      "Epoch 4/20\n",
      "1827/1827 [==============================] - 65s 35ms/step - loss: 0.7970 - val_loss: 0.9250\n",
      "Epoch 5/20\n",
      "1827/1827 [==============================] - 65s 36ms/step - loss: 0.7991 - val_loss: 0.9383\n",
      "Epoch 6/20\n",
      "1827/1827 [==============================] - 64s 35ms/step - loss: 0.8029 - val_loss: 0.9188\n",
      "Epoch 7/20\n",
      "1827/1827 [==============================] - 65s 36ms/step - loss: 0.7897 - val_loss: 0.9067\n",
      "Epoch 8/20\n",
      "1827/1827 [==============================] - 64s 35ms/step - loss: 0.7730 - val_loss: 0.9054\n",
      "Epoch 9/20\n",
      "1827/1827 [==============================] - 65s 35ms/step - loss: 0.7514 - val_loss: 0.8972\n",
      "Epoch 10/20\n",
      "1827/1827 [==============================] - 65s 35ms/step - loss: 0.7415 - val_loss: 0.9020\n",
      "Epoch 11/20\n",
      "1827/1827 [==============================] - 65s 35ms/step - loss: 0.7292 - val_loss: 0.8908\n",
      "Epoch 12/20\n",
      "1827/1827 [==============================] - 65s 36ms/step - loss: 0.7298 - val_loss: 0.8875\n",
      "Epoch 13/20\n",
      "1827/1827 [==============================] - 65s 36ms/step - loss: 0.7329 - val_loss: 0.8914\n",
      "Epoch 14/20\n",
      "1827/1827 [==============================] - 64s 35ms/step - loss: 0.7373 - val_loss: 0.8905\n",
      "Epoch 15/20\n",
      "1827/1827 [==============================] - 64s 35ms/step - loss: 0.7208 - val_loss: 0.8860\n",
      "Epoch 16/20\n",
      "1827/1827 [==============================] - 64s 35ms/step - loss: 0.7140 - val_loss: 0.8796\n",
      "Epoch 17/20\n",
      "1827/1827 [==============================] - 64s 35ms/step - loss: 0.7058 - val_loss: 0.8786\n",
      "Epoch 18/20\n",
      "1827/1827 [==============================] - 65s 35ms/step - loss: 0.7118 - val_loss: 0.8792\n",
      "Epoch 19/20\n",
      "1827/1827 [==============================] - 64s 35ms/step - loss: 0.7098 - val_loss: 0.8828\n",
      "Epoch 20/20\n",
      "1827/1827 [==============================] - 64s 35ms/step - loss: 0.7008 - val_loss: 0.8833\n"
     ]
    }
   ],
   "source": [
    "# 100 factors\n",
    "model = RecommenderV2(n_users, n_items, 100, 1, 5)\n",
    "history = model.fit(x=X_train_array, y=y_train, batch_size=64, epochs=20,\n",
    "                    verbose=1, validation_data=(X_test_array, y_test))"
   ]
  },
  {
   "cell_type": "code",
   "execution_count": 67,
   "metadata": {},
   "outputs": [
    {
     "data": {
      "text/plain": [
       "0.658147948579786"
      ]
     },
     "execution_count": 67,
     "metadata": {},
     "output_type": "execute_result"
    }
   ],
   "source": [
    "prediction = np.round(model.predict(X_test_array)).astype('int')\n",
    "accuracy_score(np.round(y_test).astype('int'), np.round(prediction).astype('int'))"
   ]
  },
  {
   "cell_type": "code",
   "execution_count": 68,
   "metadata": {},
   "outputs": [
    {
     "data": {
      "text/plain": [
       "array([2660, 2522, 1427, 4226, 2085, 1070, 2303, 2649, 3705, 2593])"
      ]
     },
     "execution_count": 68,
     "metadata": {},
     "output_type": "execute_result"
    }
   ],
   "source": [
    "top_ten_predicted(model, 3, item_encoding)"
   ]
  },
  {
   "cell_type": "code",
   "execution_count": 69,
   "metadata": {},
   "outputs": [
    {
     "name": "stdout",
     "output_type": "stream",
     "text": [
      "Epoch 1/20\n",
      "1827/1827 [==============================] - 158s 86ms/step - loss: 1.7828 - val_loss: 1.6186\n",
      "Epoch 2/20\n",
      "1827/1827 [==============================] - 159s 87ms/step - loss: 1.4263 - val_loss: 1.4421\n",
      "Epoch 3/20\n",
      "1827/1827 [==============================] - 158s 87ms/step - loss: 1.3845 - val_loss: 1.2612\n",
      "Epoch 4/20\n",
      "1827/1827 [==============================] - 160s 88ms/step - loss: 1.2577 - val_loss: 1.2290\n",
      "Epoch 5/20\n",
      "1827/1827 [==============================] - 160s 88ms/step - loss: 1.2409 - val_loss: 1.2043\n",
      "Epoch 6/20\n",
      "1827/1827 [==============================] - 159s 87ms/step - loss: 1.2551 - val_loss: 1.1895\n",
      "Epoch 7/20\n",
      "1827/1827 [==============================] - 160s 88ms/step - loss: 1.2315 - val_loss: 1.1792\n",
      "Epoch 8/20\n",
      "1827/1827 [==============================] - 160s 88ms/step - loss: 1.2304 - val_loss: 1.1596\n",
      "Epoch 9/20\n",
      "1827/1827 [==============================] - 161s 88ms/step - loss: 1.1924 - val_loss: 1.1602\n",
      "Epoch 10/20\n",
      "1827/1827 [==============================] - 161s 88ms/step - loss: 1.1738 - val_loss: 1.1352\n",
      "Epoch 11/20\n",
      "1827/1827 [==============================] - 162s 89ms/step - loss: 1.1799 - val_loss: 1.1256\n",
      "Epoch 12/20\n",
      "1827/1827 [==============================] - 163s 89ms/step - loss: 1.1606 - val_loss: 1.1342\n",
      "Epoch 13/20\n",
      "1827/1827 [==============================] - 162s 89ms/step - loss: 1.1935 - val_loss: 1.1286\n",
      "Epoch 14/20\n",
      "1827/1827 [==============================] - 160s 87ms/step - loss: 1.1457 - val_loss: 1.1264\n",
      "Epoch 15/20\n",
      "1827/1827 [==============================] - 161s 88ms/step - loss: 1.1423 - val_loss: 1.1340\n",
      "Epoch 16/20\n",
      "1827/1827 [==============================] - 162s 89ms/step - loss: 1.1348 - val_loss: 1.1225\n",
      "Epoch 17/20\n",
      "1827/1827 [==============================] - 161s 88ms/step - loss: 1.1402 - val_loss: 1.1220\n",
      "Epoch 18/20\n",
      "1827/1827 [==============================] - 161s 88ms/step - loss: 1.1304 - val_loss: 1.1127\n",
      "Epoch 19/20\n",
      "1827/1827 [==============================] - 163s 89ms/step - loss: 1.1485 - val_loss: 1.1167\n",
      "Epoch 20/20\n",
      "1827/1827 [==============================] - 161s 88ms/step - loss: 1.1154 - val_loss: 1.1273\n"
     ]
    }
   ],
   "source": [
    "# 200 factors\n",
    "model = RecommenderV2(n_users, n_items, 200, 1, 5)\n",
    "history = model.fit(x=X_train_array, y=y_train, batch_size=64, epochs=20,\n",
    "                    verbose=1, validation_data=(X_test_array, y_test))"
   ]
  },
  {
   "cell_type": "code",
   "execution_count": 70,
   "metadata": {},
   "outputs": [
    {
     "data": {
      "text/plain": [
       "0.6576860903702564"
      ]
     },
     "execution_count": 70,
     "metadata": {},
     "output_type": "execute_result"
    }
   ],
   "source": [
    "prediction = np.round(model.predict(X_test_array)).astype('int')\n",
    "accuracy_score(np.round(y_test).astype('int'), np.round(prediction).astype('int'))"
   ]
  },
  {
   "cell_type": "code",
   "execution_count": 71,
   "metadata": {},
   "outputs": [
    {
     "data": {
      "text/plain": [
       "array([2120, 2616, 4025, 2660, 4661, 2664, 1383, 3230, 3372, 2004])"
      ]
     },
     "execution_count": 71,
     "metadata": {},
     "output_type": "execute_result"
    }
   ],
   "source": [
    "top_ten_predicted(model, 3, item_encoding)"
   ]
  },
  {
   "cell_type": "code",
   "execution_count": 72,
   "metadata": {},
   "outputs": [
    {
     "name": "stdout",
     "output_type": "stream",
     "text": [
      "Epoch 1/20\n",
      "1827/1827 [==============================] - 16s 8ms/step - loss: 1.6371 - val_loss: 0.7744\n",
      "Epoch 2/20\n",
      "1827/1827 [==============================] - 15s 8ms/step - loss: 0.3910 - val_loss: 0.7809\n",
      "Epoch 3/20\n",
      "1827/1827 [==============================] - 15s 8ms/step - loss: 0.3338 - val_loss: 0.7389\n",
      "Epoch 4/20\n",
      "1827/1827 [==============================] - 15s 8ms/step - loss: 0.3163 - val_loss: 0.7237\n",
      "Epoch 5/20\n",
      "1827/1827 [==============================] - 15s 8ms/step - loss: 0.3166 - val_loss: 0.7181\n",
      "Epoch 6/20\n",
      "1827/1827 [==============================] - 15s 8ms/step - loss: 0.3117 - val_loss: 0.7067\n",
      "Epoch 7/20\n",
      "1827/1827 [==============================] - 15s 8ms/step - loss: 0.3003 - val_loss: 0.7058\n",
      "Epoch 8/20\n",
      "1827/1827 [==============================] - 15s 8ms/step - loss: 0.2955 - val_loss: 0.6960\n",
      "Epoch 9/20\n",
      "1827/1827 [==============================] - 15s 8ms/step - loss: 0.2872 - val_loss: 0.6931\n",
      "Epoch 10/20\n",
      "1827/1827 [==============================] - 15s 8ms/step - loss: 0.2823 - val_loss: 0.6982\n",
      "Epoch 11/20\n",
      "1827/1827 [==============================] - 15s 8ms/step - loss: 0.2759 - val_loss: 0.6915\n",
      "Epoch 12/20\n",
      "1827/1827 [==============================] - 15s 8ms/step - loss: 0.2725 - val_loss: 0.6878\n",
      "Epoch 13/20\n",
      "1827/1827 [==============================] - 15s 8ms/step - loss: 0.2668 - val_loss: 0.6880\n",
      "Epoch 14/20\n",
      "1827/1827 [==============================] - 15s 8ms/step - loss: 0.2610 - val_loss: 0.6884\n",
      "Epoch 15/20\n",
      "1827/1827 [==============================] - 15s 8ms/step - loss: 0.2604 - val_loss: 0.6853\n",
      "Epoch 16/20\n",
      "1827/1827 [==============================] - 15s 8ms/step - loss: 0.2571 - val_loss: 0.6868\n",
      "Epoch 17/20\n",
      "1827/1827 [==============================] - 15s 8ms/step - loss: 0.2510 - val_loss: 0.6899\n",
      "Epoch 18/20\n",
      "1827/1827 [==============================] - 15s 8ms/step - loss: 0.2518 - val_loss: 0.6881\n",
      "Epoch 19/20\n",
      "1827/1827 [==============================] - 15s 8ms/step - loss: 0.2535 - val_loss: 0.6939\n",
      "Epoch 20/20\n",
      "1827/1827 [==============================] - 15s 8ms/step - loss: 0.2482 - val_loss: 0.6911\n"
     ]
    }
   ],
   "source": [
    "# 25 factors\n",
    "model = RecommenderV2(n_users, n_items, 25, 1, 5)\n",
    "history = model.fit(x=X_train_array, y=y_train, batch_size=64, epochs=20,\n",
    "                    verbose=1, validation_data=(X_test_array, y_test))"
   ]
  },
  {
   "cell_type": "code",
   "execution_count": 73,
   "metadata": {},
   "outputs": [
    {
     "data": {
      "text/plain": [
       "0.6449080132399353"
      ]
     },
     "execution_count": 73,
     "metadata": {},
     "output_type": "execute_result"
    }
   ],
   "source": [
    "prediction = np.round(model.predict(X_test_array)).astype('int')\n",
    "accuracy_score(np.round(y_test).astype('int'), np.round(prediction).astype('int'))"
   ]
  },
  {
   "cell_type": "code",
   "execution_count": 74,
   "metadata": {},
   "outputs": [
    {
     "data": {
      "text/plain": [
       "array([2660, 2627, 3113, 2533, 4696, 2033, 3316, 2034, 1746, 2655])"
      ]
     },
     "execution_count": 74,
     "metadata": {},
     "output_type": "execute_result"
    }
   ],
   "source": [
    "top_ten_predicted(model, 3, item_encoding)"
   ]
  }
 ],
 "metadata": {
  "kernelspec": {
   "display_name": "Python 3",
   "language": "python",
   "name": "python3"
  },
  "language_info": {
   "codemirror_mode": {
    "name": "ipython",
    "version": 3
   },
   "file_extension": ".py",
   "mimetype": "text/x-python",
   "name": "python",
   "nbconvert_exporter": "python",
   "pygments_lexer": "ipython3",
   "version": "3.8.3"
  }
 },
 "nbformat": 4,
 "nbformat_minor": 4
}
