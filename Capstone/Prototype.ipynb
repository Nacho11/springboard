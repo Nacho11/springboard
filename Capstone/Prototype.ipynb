{
 "cells": [
  {
   "cell_type": "code",
   "execution_count": 1,
   "metadata": {},
   "outputs": [],
   "source": [
    "import pandas as pd\n",
    "from surprise import KNNWithMeans\n",
    "from surprise import Dataset\n",
    "from surprise import accuracy\n",
    "from surprise import Reader\n",
    "from surprise.model_selection import train_test_split"
   ]
  },
  {
   "cell_type": "code",
   "execution_count": 2,
   "metadata": {},
   "outputs": [],
   "source": [
    "dataset = pd.read_csv('product_review_dataset.csv')"
   ]
  },
  {
   "cell_type": "code",
   "execution_count": 3,
   "metadata": {},
   "outputs": [],
   "source": [
    "dataset_for_knn = dataset.drop(['Unnamed: 0'], axis=1)"
   ]
  },
  {
   "cell_type": "code",
   "execution_count": 4,
   "metadata": {},
   "outputs": [
    {
     "name": "stdout",
     "output_type": "stream",
     "text": [
      "userId       71894\n",
      "productId     5198\n",
      "rating           4\n",
      "dtype: int64\n"
     ]
    }
   ],
   "source": [
    "# Removing all users who have not provided more than 1 rating\n",
    "filtered_df = dataset_for_knn.groupby('userId').filter(lambda x : len(x) > 1)\n",
    "n_users = filtered_df.nunique()[0]\n",
    "n_items = filtered_df.nunique()[1]\n",
    "print(filtered_df.nunique())"
   ]
  },
  {
   "cell_type": "code",
   "execution_count": 5,
   "metadata": {},
   "outputs": [
    {
     "data": {
      "text/plain": [
       "<matplotlib.axes._subplots.AxesSubplot at 0x7fc0d0652d30>"
      ]
     },
     "execution_count": 5,
     "metadata": {},
     "output_type": "execute_result"
    },
    {
     "data": {
      "image/png": "[encoded data removed]",
      "text/plain": [
       "<Figure size 432x288 with 1 Axes>"
      ]
     },
     "metadata": {
      "needs_background": "light"
     },
     "output_type": "display_data"
    }
   ],
   "source": [
    "filtered_df = filtered_df.drop(filtered_df.query('rating == 5').sample(frac=0.4).index)\n",
    "filtered_df['rating'].hist()"
   ]
  },
  {
   "cell_type": "code",
   "execution_count": 6,
   "metadata": {},
   "outputs": [
    {
     "data": {
      "text/plain": [
       "(129909, 3)"
      ]
     },
     "execution_count": 6,
     "metadata": {},
     "output_type": "execute_result"
    }
   ],
   "source": [
    "filtered_df.shape"
   ]
  },
  {
   "cell_type": "code",
   "execution_count": 18,
   "metadata": {},
   "outputs": [],
   "source": [
    "from keras.models import Model\n",
    "from keras.layers import Input, Reshape, Dot\n",
    "from keras.layers.embeddings import Embedding\n",
    "from keras.optimizers import Adam\n",
    "from keras.regularizers import l2\n",
    "from sklearn.model_selection import train_test_split\n",
    "from sklearn.preprocessing import LabelEncoder\n",
    "import pickle\n",
    "import ml_metrics\n",
    "from sklearn.metrics import accuracy_score\n",
    "import numpy as np"
   ]
  },
  {
   "cell_type": "code",
   "execution_count": 8,
   "metadata": {},
   "outputs": [],
   "source": [
    "def top_ten_predicted(model, user, items):\n",
    "    predictions = model.predict([np.array([user]*len(items)), items])\n",
    "    predictions_df = pd.DataFrame(predictions, columns=['ratings'])\n",
    "    item_id_df = pd.DataFrame(item_encoding, columns = ['itemId'])\n",
    "    item_id_df['ratings'] = predictions_df['ratings']\n",
    "    top_10 = item_id_df.sort_values(by = ['ratings'], ascending=False)[:10]\n",
    "    return top_10['itemId'].values"
   ]
  },
  {
   "cell_type": "code",
   "execution_count": 9,
   "metadata": {},
   "outputs": [],
   "source": [
    "def top_ten_actual(df, user):\n",
    "    return df[df['userId'] == user].sort_values(by = ['rating'], ascending=False)[:100]['productId'].values"
   ]
  },
  {
   "cell_type": "code",
   "execution_count": 10,
   "metadata": {},
   "outputs": [],
   "source": [
    "user_enc = LabelEncoder()\n",
    "filtered_df['userId'] = user_enc.fit_transform(filtered_df['userId'].values)"
   ]
  },
  {
   "cell_type": "code",
   "execution_count": 11,
   "metadata": {},
   "outputs": [],
   "source": [
    "item_enc = LabelEncoder()\n",
    "filtered_df['productId'] = item_enc.fit_transform(filtered_df['productId'].values)"
   ]
  },
  {
   "cell_type": "code",
   "execution_count": 12,
   "metadata": {},
   "outputs": [],
   "source": [
    "item_encoding = filtered_df['productId'].unique()"
   ]
  },
  {
   "cell_type": "code",
   "execution_count": 13,
   "metadata": {},
   "outputs": [],
   "source": [
    "user_encoding = filtered_df['userId'].unique()"
   ]
  },
  {
   "cell_type": "code",
   "execution_count": 14,
   "metadata": {},
   "outputs": [
    {
     "data": {
      "text/plain": [
       "array([   0,    1,    2, ..., 4900, 4896, 4897])"
      ]
     },
     "execution_count": 14,
     "metadata": {},
     "output_type": "execute_result"
    }
   ],
   "source": [
    "item_encoding"
   ]
  },
  {
   "cell_type": "code",
   "execution_count": 15,
   "metadata": {},
   "outputs": [
    {
     "data": {
      "text/plain": [
       "array([28843, 21466, 33611, ..., 16367, 59907, 53431])"
      ]
     },
     "execution_count": 15,
     "metadata": {},
     "output_type": "execute_result"
    }
   ],
   "source": [
    "user_encoding"
   ]
  },
  {
   "cell_type": "code",
   "execution_count": 19,
   "metadata": {},
   "outputs": [],
   "source": [
    "X = np.array([filtered_df['userId'], filtered_df['productId']]).T\n",
    "y = np.array(filtered_df['rating']).T"
   ]
  },
  {
   "cell_type": "code",
   "execution_count": 20,
   "metadata": {},
   "outputs": [
    {
     "data": {
      "text/plain": [
       "((116918, 2), (12991, 2), (116918,), (12991,))"
      ]
     },
     "execution_count": 20,
     "metadata": {},
     "output_type": "execute_result"
    }
   ],
   "source": [
    "X_train, X_test, y_train, y_test = train_test_split(X, y, test_size=0.1)\n",
    "X_train.shape, X_test.shape, y_train.shape, y_test.shape"
   ]
  },
  {
   "cell_type": "code",
   "execution_count": 23,
   "metadata": {},
   "outputs": [],
   "source": [
    "X_train_array = [X_train[:, 0], X_train[:, 1]]\n",
    "X_test_array = [X_test[:, 0], X_test[:, 1]]"
   ]
  },
  {
   "cell_type": "code",
   "execution_count": 24,
   "metadata": {},
   "outputs": [],
   "source": [
    "from keras.layers import Add, Activation, Lambda\n",
    "class EmbeddingLayer:\n",
    "    def __init__(self, n_items, n_factors):\n",
    "        self.n_items = n_items\n",
    "        self.n_factors = n_factors\n",
    "    \n",
    "    def __call__(self, x):\n",
    "        x = Embedding(self.n_items, self.n_factors, embeddings_initializer='he_normal',\n",
    "                      embeddings_regularizer=l2(1e-6))(x)\n",
    "        x = Reshape((self.n_factors,))(x)\n",
    "        return x\n",
    "\n",
    "def Recommender(n_users, n_items, n_factors, min_rating, max_rating):\n",
    "    user = Input(shape=(1,))\n",
    "    u = EmbeddingLayer(n_users, n_factors)(user)\n",
    "    ub = EmbeddingLayer(n_users, 1)(user)\n",
    "    \n",
    "    item = Input(shape=(1,))\n",
    "    i = EmbeddingLayer(n_items, n_factors)(item)\n",
    "    ib = EmbeddingLayer(n_items, 1)(item)\n",
    "    x = Dot(axes=1)([u, i])\n",
    "    x = Add()([x, ub, ib])\n",
    "    x = Activation('sigmoid')(x)\n",
    "    x = Lambda(lambda x: x * (max_rating - min_rating) + min_rating)(x)\n",
    "    model = Model(inputs=[user, item], outputs=x)\n",
    "    opt = Adam(lr=0.01)\n",
    "    model.compile(loss='mean_squared_error', optimizer=opt)\n",
    "    return model"
   ]
  },
  {
   "cell_type": "code",
   "execution_count": 25,
   "metadata": {},
   "outputs": [
    {
     "name": "stdout",
     "output_type": "stream",
     "text": [
      "Epoch 1/20\n",
      "1827/1827 [==============================] - 35s 19ms/step - loss: 1.6549 - val_loss: 0.9099\n",
      "Epoch 2/20\n",
      "1827/1827 [==============================] - 35s 19ms/step - loss: 0.5199 - val_loss: 0.8855\n",
      "Epoch 3/20\n",
      "1827/1827 [==============================] - 36s 20ms/step - loss: 0.5021 - val_loss: 0.8153\n",
      "Epoch 4/20\n",
      "1827/1827 [==============================] - 37s 20ms/step - loss: 0.4801 - val_loss: 0.8204\n",
      "Epoch 5/20\n",
      "1827/1827 [==============================] - 37s 20ms/step - loss: 0.4857 - val_loss: 0.8021\n",
      "Epoch 6/20\n",
      "1827/1827 [==============================] - 37s 20ms/step - loss: 0.4791 - val_loss: 0.7934\n",
      "Epoch 7/20\n",
      "1827/1827 [==============================] - 37s 20ms/step - loss: 0.4654 - val_loss: 0.7748\n",
      "Epoch 8/20\n",
      "1827/1827 [==============================] - 37s 20ms/step - loss: 0.4548 - val_loss: 0.7698\n",
      "Epoch 9/20\n",
      "1827/1827 [==============================] - 36s 20ms/step - loss: 0.4459 - val_loss: 0.7705\n",
      "Epoch 10/20\n",
      "1827/1827 [==============================] - 35s 19ms/step - loss: 0.4327 - val_loss: 0.7699\n",
      "Epoch 11/20\n",
      "1827/1827 [==============================] - 35s 19ms/step - loss: 0.4218 - val_loss: 0.7714\n",
      "Epoch 12/20\n",
      "1827/1827 [==============================] - 35s 19ms/step - loss: 0.4161 - val_loss: 0.7640\n",
      "Epoch 13/20\n",
      "1827/1827 [==============================] - 35s 19ms/step - loss: 0.4099 - val_loss: 0.7613\n",
      "Epoch 14/20\n",
      "1827/1827 [==============================] - 35s 19ms/step - loss: 0.4069 - val_loss: 0.7630\n",
      "Epoch 15/20\n",
      "1827/1827 [==============================] - 35s 19ms/step - loss: 0.4041 - val_loss: 0.7573\n",
      "Epoch 16/20\n",
      "1827/1827 [==============================] - 35s 19ms/step - loss: 0.3954 - val_loss: 0.7661\n",
      "Epoch 17/20\n",
      "1827/1827 [==============================] - 35s 19ms/step - loss: 0.4010 - val_loss: 0.7588\n",
      "Epoch 18/20\n",
      "1827/1827 [==============================] - 35s 19ms/step - loss: 0.3960 - val_loss: 0.7576\n",
      "Epoch 19/20\n",
      "1827/1827 [==============================] - 35s 19ms/step - loss: 0.3924 - val_loss: 0.7612\n",
      "Epoch 20/20\n",
      "1827/1827 [==============================] - 35s 19ms/step - loss: 0.3801 - val_loss: 0.7494\n"
     ]
    }
   ],
   "source": [
    "model = Recommender(n_users, n_items, 50, 1, 5)\n",
    "history = model.fit(x=X_train_array, y=y_train, batch_size=64, epochs=20,\n",
    "                    verbose=1, validation_data=(X_test_array, y_test))"
   ]
  },
  {
   "cell_type": "code",
   "execution_count": 26,
   "metadata": {},
   "outputs": [
    {
     "data": {
      "text/plain": [
       "0.6576091140020014"
      ]
     },
     "execution_count": 26,
     "metadata": {},
     "output_type": "execute_result"
    }
   ],
   "source": [
    "prediction = np.round(model.predict(X_test_array)).astype('int')\n",
    "accuracy_score(np.round(y_test).astype('int'), np.round(prediction).astype('int'))"
   ]
  },
  {
   "cell_type": "code",
   "execution_count": 27,
   "metadata": {},
   "outputs": [
    {
     "data": {
      "text/plain": [
       "array([3156, 2517, 2179, 4025, 2180, 3670, 3155, 2319, 1067, 2481])"
      ]
     },
     "execution_count": 27,
     "metadata": {},
     "output_type": "execute_result"
    }
   ],
   "source": [
    "top_ten_predicted(model, 3, item_encoding)"
   ]
  },
  {
   "cell_type": "code",
   "execution_count": 28,
   "metadata": {},
   "outputs": [
    {
     "name": "stdout",
     "output_type": "stream",
     "text": [
      "INFO:tensorflow:Assets written to: first_model/assets\n"
     ]
    }
   ],
   "source": [
    "model.save('first_model')"
   ]
  }
 ],
 "metadata": {
  "kernelspec": {
   "display_name": "Python 3",
   "language": "python",
   "name": "python3"
  },
  "language_info": {
   "codemirror_mode": {
    "name": "ipython",
    "version": 3
   },
   "file_extension": ".py",
   "mimetype": "text/x-python",
   "name": "python",
   "nbconvert_exporter": "python",
   "pygments_lexer": "ipython3",
   "version": "3.8.3"
  }
 },
 "nbformat": 4,
 "nbformat_minor": 4
}
