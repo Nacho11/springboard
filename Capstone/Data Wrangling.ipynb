{
 "cells": [
  {
   "cell_type": "markdown",
   "metadata": {},
   "source": [
    "# Data Wrangling\n",
    "\n",
    "The purpose of this stage is to take the raw data from the S3 bucket and convert it into a dataset which can be used for building ML models. This stage also involves performing exploratory data analysis."
   ]
  },
  {
   "cell_type": "markdown",
   "metadata": {},
   "source": [
    "## Loading the data from S3 bucket"
   ]
  },
  {
   "cell_type": "code",
   "execution_count": 1,
   "metadata": {},
   "outputs": [],
   "source": [
    "import boto3"
   ]
  },
  {
   "cell_type": "code",
   "execution_count": 2,
   "metadata": {},
   "outputs": [],
   "source": [
    "s3 = boto3.resource(\n",
    "    service_name='s3',\n",
    "    use_ssl=False,\n",
    "    aws_access_key_id='',\n",
    "    aws_secret_access_key=''\n",
    ")"
   ]
  },
  {
   "cell_type": "code",
   "execution_count": 3,
   "metadata": {},
   "outputs": [],
   "source": [
    "obj = s3.Bucket('reco-data-lake').Object('Office_Products.json').get()['Body'].read()"
   ]
  },
  {
   "cell_type": "code",
   "execution_count": 4,
   "metadata": {},
   "outputs": [],
   "source": [
    "data = obj.decode('UTF-8')"
   ]
  },
  {
   "cell_type": "code",
   "execution_count": 5,
   "metadata": {},
   "outputs": [],
   "source": [
    "data_list = data[:300000000].split(\"\\n\")"
   ]
  },
  {
   "cell_type": "code",
   "execution_count": 6,
   "metadata": {},
   "outputs": [
    {
     "data": {
      "text/plain": [
       "620388"
      ]
     },
     "execution_count": 6,
     "metadata": {},
     "output_type": "execute_result"
    }
   ],
   "source": [
    "# Collected Over 620,000 reviews\n",
    "len(data_list)"
   ]
  },
  {
   "cell_type": "code",
   "execution_count": 7,
   "metadata": {},
   "outputs": [
    {
     "data": {
      "text/plain": [
       "'{\"overall\": 3.0, \"vote\": \"6\", \"verified\": false, \"reviewTime\": \"11 3, 2006\", \"reviewerID\": \"A2WJLOXXIB7NF3\", \"asin\": \"0140503528\", \"style\": {\"Format:\": \" Hardcover\"}, \"reviewerName\": \"Brandi D&#039;Angelo\", \"reviewText\": \"I thought the book was entertaining and cute, and an introduction to what goes on at a laundromat. However, I don\\'t think I would get this book for a young todder (under 4) due to the fact that there was one scene where Corduroy is alone in the dark of laudromat, inside a wired laundry cart, and he looks terrified. The picture is very scary and sad. I think it\\'s too much for a little kid. But overall, it\\'s cute, and the ending is good.\", \"summary\": \"Entertaining-but maybe not for young toddlers\", \"unixReviewTime\": 1162512000}'"
      ]
     },
     "execution_count": 7,
     "metadata": {},
     "output_type": "execute_result"
    }
   ],
   "source": [
    "# Sample Review\n",
    "data_list[0]"
   ]
  },
  {
   "cell_type": "markdown",
   "metadata": {},
   "source": [
    "## Converting the data into JSON"
   ]
  },
  {
   "cell_type": "code",
   "execution_count": 8,
   "metadata": {},
   "outputs": [],
   "source": [
    "import json"
   ]
  },
  {
   "cell_type": "code",
   "execution_count": 9,
   "metadata": {},
   "outputs": [],
   "source": [
    "data_json_list = []\n",
    "\n",
    "for each in data_list[:-2]:\n",
    "    data_json = json.loads(each)\n",
    "    data_json_list.append(data_json)"
   ]
  },
  {
   "cell_type": "code",
   "execution_count": 10,
   "metadata": {},
   "outputs": [
    {
     "data": {
      "text/plain": [
       "620386"
      ]
     },
     "execution_count": 10,
     "metadata": {},
     "output_type": "execute_result"
    }
   ],
   "source": [
    "# Still over 620,000 reviews in out data list\n",
    "len(data_json_list)"
   ]
  },
  {
   "cell_type": "markdown",
   "metadata": {},
   "source": [
    "## Extracting the required details from data"
   ]
  },
  {
   "cell_type": "code",
   "execution_count": 22,
   "metadata": {},
   "outputs": [],
   "source": [
    "required_data_json = []\n",
    "required_data_tabular = [['userId', 'productId', 'rating']]\n",
    "for review in data_json_list:\n",
    "    required_data_map = {}\n",
    "    required_data_map['rating'] = review['overall']\n",
    "    required_data_map['userId'] = review['reviewerID']\n",
    "    required_data_map['productId'] = review['asin']\n",
    "    required_data_tabular += [[review['reviewerID'], review['asin'], review['overall']]]\n",
    "    required_data_json.append(required_data_map)"
   ]
  },
  {
   "cell_type": "code",
   "execution_count": 20,
   "metadata": {},
   "outputs": [
    {
     "data": {
      "text/plain": [
       "[{'rating': 3.0, 'userId': 'A2WJLOXXIB7NF3', 'productId': '0140503528'},\n",
       " {'rating': 5.0, 'userId': 'A1RKICUK0GG6VF', 'productId': '0140503528'},\n",
       " {'rating': 5.0, 'userId': 'A1QA5E50M398VW', 'productId': '0140503528'},\n",
       " {'rating': 5.0, 'userId': 'A3N0HBW8IP8CZQ', 'productId': '0140503528'},\n",
       " {'rating': 5.0, 'userId': 'A1K1JW1C5CUSUZ', 'productId': '0140503528'},\n",
       " {'rating': 5.0, 'userId': 'A3GIXT0M21V3JR', 'productId': '0140503528'},\n",
       " {'rating': 4.0, 'userId': 'A2NIJTYWADLK57', 'productId': '0140503528'},\n",
       " {'rating': 4.0, 'userId': 'A2PNBV0VHHSO2I', 'productId': '0140503528'},\n",
       " {'rating': 5.0, 'userId': 'AIYOHMZQ53DRL', 'productId': '0140503528'},\n",
       " {'rating': 5.0, 'userId': 'A6J32ICD0JCGJ', 'productId': '0140503528'}]"
      ]
     },
     "execution_count": 20,
     "metadata": {},
     "output_type": "execute_result"
    }
   ],
   "source": [
    "# Ten values of the required data for training\n",
    "required_data_json[0:10]"
   ]
  },
  {
   "cell_type": "code",
   "execution_count": 23,
   "metadata": {},
   "outputs": [
    {
     "data": {
      "text/plain": [
       "[['userId', 'productId', 'rating'],\n",
       " ['A2WJLOXXIB7NF3', '0140503528', 3.0],\n",
       " ['A1RKICUK0GG6VF', '0140503528', 5.0],\n",
       " ['A1QA5E50M398VW', '0140503528', 5.0],\n",
       " ['A3N0HBW8IP8CZQ', '0140503528', 5.0],\n",
       " ['A1K1JW1C5CUSUZ', '0140503528', 5.0],\n",
       " ['A3GIXT0M21V3JR', '0140503528', 5.0],\n",
       " ['A2NIJTYWADLK57', '0140503528', 4.0],\n",
       " ['A2PNBV0VHHSO2I', '0140503528', 4.0],\n",
       " ['AIYOHMZQ53DRL', '0140503528', 5.0]]"
      ]
     },
     "execution_count": 23,
     "metadata": {},
     "output_type": "execute_result"
    }
   ],
   "source": [
    "# Displaying the data in a table format\n",
    "required_data_tabular[:10]"
   ]
  },
  {
   "cell_type": "markdown",
   "metadata": {},
   "source": [
    "## EDA"
   ]
  },
  {
   "cell_type": "code",
   "execution_count": 24,
   "metadata": {},
   "outputs": [],
   "source": [
    "import matplotlib.pyplot as plt\n",
    "import pandas as pd"
   ]
  },
  {
   "cell_type": "code",
   "execution_count": 25,
   "metadata": {},
   "outputs": [],
   "source": [
    "# Converting the column to pandas dataframe\n",
    "review_df = pd.DataFrame(required_data_tabular[1:], columns=required_data_tabular[0])"
   ]
  },
  {
   "cell_type": "code",
   "execution_count": 34,
   "metadata": {},
   "outputs": [
    {
     "name": "stdout",
     "output_type": "stream",
     "text": [
      "(620386, 3)\n"
     ]
    },
    {
     "data": {
      "text/html": [
       "<div>\n",
       "<style scoped>\n",
       "    .dataframe tbody tr th:only-of-type {\n",
       "        vertical-align: middle;\n",
       "    }\n",
       "\n",
       "    .dataframe tbody tr th {\n",
       "        vertical-align: top;\n",
       "    }\n",
       "\n",
       "    .dataframe thead th {\n",
       "        text-align: right;\n",
       "    }\n",
       "</style>\n",
       "<table border=\"1\" class=\"dataframe\">\n",
       "  <thead>\n",
       "    <tr style=\"text-align: right;\">\n",
       "      <th></th>\n",
       "      <th>userId</th>\n",
       "      <th>productId</th>\n",
       "      <th>rating</th>\n",
       "    </tr>\n",
       "  </thead>\n",
       "  <tbody>\n",
       "    <tr>\n",
       "      <th>0</th>\n",
       "      <td>A2WJLOXXIB7NF3</td>\n",
       "      <td>0140503528</td>\n",
       "      <td>3.0</td>\n",
       "    </tr>\n",
       "    <tr>\n",
       "      <th>1</th>\n",
       "      <td>A1RKICUK0GG6VF</td>\n",
       "      <td>0140503528</td>\n",
       "      <td>5.0</td>\n",
       "    </tr>\n",
       "    <tr>\n",
       "      <th>2</th>\n",
       "      <td>A1QA5E50M398VW</td>\n",
       "      <td>0140503528</td>\n",
       "      <td>5.0</td>\n",
       "    </tr>\n",
       "    <tr>\n",
       "      <th>3</th>\n",
       "      <td>A3N0HBW8IP8CZQ</td>\n",
       "      <td>0140503528</td>\n",
       "      <td>5.0</td>\n",
       "    </tr>\n",
       "    <tr>\n",
       "      <th>4</th>\n",
       "      <td>A1K1JW1C5CUSUZ</td>\n",
       "      <td>0140503528</td>\n",
       "      <td>5.0</td>\n",
       "    </tr>\n",
       "    <tr>\n",
       "      <th>...</th>\n",
       "      <td>...</td>\n",
       "      <td>...</td>\n",
       "      <td>...</td>\n",
       "    </tr>\n",
       "    <tr>\n",
       "      <th>620381</th>\n",
       "      <td>A3B5ZNI6WWCPX1</td>\n",
       "      <td>B000A2BKAM</td>\n",
       "      <td>5.0</td>\n",
       "    </tr>\n",
       "    <tr>\n",
       "      <th>620382</th>\n",
       "      <td>A22LCJP70ZBX1K</td>\n",
       "      <td>B000A2BKAM</td>\n",
       "      <td>3.0</td>\n",
       "    </tr>\n",
       "    <tr>\n",
       "      <th>620383</th>\n",
       "      <td>ASIB7E9AVJCZS</td>\n",
       "      <td>B000A2BKAM</td>\n",
       "      <td>4.0</td>\n",
       "    </tr>\n",
       "    <tr>\n",
       "      <th>620384</th>\n",
       "      <td>A3PHPUBWQVOIK1</td>\n",
       "      <td>B000A2BKAM</td>\n",
       "      <td>1.0</td>\n",
       "    </tr>\n",
       "    <tr>\n",
       "      <th>620385</th>\n",
       "      <td>A18VUCUEZBX7V5</td>\n",
       "      <td>B000A2BJ76</td>\n",
       "      <td>5.0</td>\n",
       "    </tr>\n",
       "  </tbody>\n",
       "</table>\n",
       "<p>620386 rows × 3 columns</p>\n",
       "</div>"
      ],
      "text/plain": [
       "                userId   productId  rating\n",
       "0       A2WJLOXXIB7NF3  0140503528     3.0\n",
       "1       A1RKICUK0GG6VF  0140503528     5.0\n",
       "2       A1QA5E50M398VW  0140503528     5.0\n",
       "3       A3N0HBW8IP8CZQ  0140503528     5.0\n",
       "4       A1K1JW1C5CUSUZ  0140503528     5.0\n",
       "...                ...         ...     ...\n",
       "620381  A3B5ZNI6WWCPX1  B000A2BKAM     5.0\n",
       "620382  A22LCJP70ZBX1K  B000A2BKAM     3.0\n",
       "620383   ASIB7E9AVJCZS  B000A2BKAM     4.0\n",
       "620384  A3PHPUBWQVOIK1  B000A2BKAM     1.0\n",
       "620385  A18VUCUEZBX7V5  B000A2BJ76     5.0\n",
       "\n",
       "[620386 rows x 3 columns]"
      ]
     },
     "execution_count": 34,
     "metadata": {},
     "output_type": "execute_result"
    }
   ],
   "source": [
    "# Pandas dataframe\n",
    "print(review_df.shape)\n",
    "review_df"
   ]
  },
  {
   "cell_type": "code",
   "execution_count": 31,
   "metadata": {},
   "outputs": [
    {
     "data": {
      "text/plain": [
       "userId       498418\n",
       "productId      6197\n",
       "rating            5\n",
       "dtype: int64"
      ]
     },
     "execution_count": 31,
     "metadata": {},
     "output_type": "execute_result"
    }
   ],
   "source": [
    "# The number of unique users = 498k\n",
    "# The number of unique products = 6197\n",
    "review_df.nunique()"
   ]
  },
  {
   "cell_type": "code",
   "execution_count": 29,
   "metadata": {},
   "outputs": [
    {
     "data": {
      "text/plain": [
       "<matplotlib.axes._subplots.AxesSubplot at 0x7fb0bda8bb50>"
      ]
     },
     "execution_count": 29,
     "metadata": {},
     "output_type": "execute_result"
    },
    {
     "data": {
      "image/png": "[encoded data removed]",
      "text/plain": [
       "<Figure size 432x288 with 1 Axes>"
      ]
     },
     "metadata": {
      "needs_background": "light"
     },
     "output_type": "display_data"
    }
   ],
   "source": [
    "review_df['rating'].hist()"
   ]
  },
  {
   "cell_type": "code",
   "execution_count": 51,
   "metadata": {},
   "outputs": [],
   "source": [
    "# Removing users who have rated just 1 product and given it a 5 rating\n",
    "filtered_df = review_df[review_df['rating'] != 5 & review_df.userId.duplicated(keep=False)]"
   ]
  },
  {
   "cell_type": "code",
   "execution_count": 52,
   "metadata": {},
   "outputs": [],
   "source": [
    "# Removing 0.4 users who have rated 5\n",
    "filtered_df = filtered_df.drop(filtered_df.query('rating == 5').sample(frac=0.5).index)"
   ]
  },
  {
   "cell_type": "code",
   "execution_count": 53,
   "metadata": {},
   "outputs": [
    {
     "data": {
      "text/plain": [
       "<matplotlib.axes._subplots.AxesSubplot at 0x7fb0cce69fd0>"
      ]
     },
     "execution_count": 53,
     "metadata": {},
     "output_type": "execute_result"
    },
    {
     "data": {
      "image/png": "[encoded data removed]",
      "text/plain": [
       "<Figure size 432x288 with 1 Axes>"
      ]
     },
     "metadata": {
      "needs_background": "light"
     },
     "output_type": "display_data"
    }
   ],
   "source": [
    "filtered_df['rating'].hist()"
   ]
  },
  {
   "cell_type": "code",
   "execution_count": 55,
   "metadata": {},
   "outputs": [
    {
     "name": "stdout",
     "output_type": "stream",
     "text": [
      "(399427, 3)\n",
      "userId       346660\n",
      "productId      6023\n",
      "rating            5\n",
      "dtype: int64\n"
     ]
    }
   ],
   "source": [
    "print(filtered_df.shape)\n",
    "print(filtered_df.nunique())"
   ]
  },
  {
   "cell_type": "code",
   "execution_count": 57,
   "metadata": {},
   "outputs": [
    {
     "data": {
      "text/plain": [
       "userId       0\n",
       "productId    0\n",
       "rating       0\n",
       "dtype: int64"
      ]
     },
     "execution_count": 57,
     "metadata": {},
     "output_type": "execute_result"
    }
   ],
   "source": [
    "# Checking for null values\n",
    "filtered_df.isnull().sum()"
   ]
  },
  {
   "cell_type": "code",
   "execution_count": 56,
   "metadata": {},
   "outputs": [],
   "source": [
    "filtered_df.to_csv('product_review_dataset.csv')"
   ]
  },
  {
   "cell_type": "code",
   "execution_count": null,
   "metadata": {},
   "outputs": [],
   "source": []
  }
 ],
 "metadata": {
  "kernelspec": {
   "display_name": "Python 3",
   "language": "python",
   "name": "python3"
  },
  "language_info": {
   "codemirror_mode": {
    "name": "ipython",
    "version": 3
   },
   "file_extension": ".py",
   "mimetype": "text/x-python",
   "name": "python",
   "nbconvert_exporter": "python",
   "pygments_lexer": "ipython3",
   "version": "3.8.3"
  }
 },
 "nbformat": 4,
 "nbformat_minor": 4
}
